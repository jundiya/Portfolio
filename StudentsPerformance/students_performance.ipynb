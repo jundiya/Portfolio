{
 "cells": [
  {
   "cell_type": "code",
   "execution_count": 1,
   "id": "5e935800",
   "metadata": {},
   "outputs": [],
   "source": [
    "#Import library\n",
    "import pandas as pd\n",
    "pd.options.display.max_columns = 50"
   ]
  },
  {
   "cell_type": "code",
   "execution_count": 2,
   "id": "3536ba25",
   "metadata": {},
   "outputs": [],
   "source": [
    "#Import dataset\n",
    "students = pd.read_csv('StudentsPerformance.csv')"
   ]
  },
  {
   "cell_type": "code",
   "execution_count": 3,
   "id": "a1333f95",
   "metadata": {},
   "outputs": [
    {
     "name": "stdout",
     "output_type": "stream",
     "text": [
      "   gender race/ethnicity parental level of education         lunch  \\\n",
      "0  female        group B           bachelor's degree      standard   \n",
      "1  female        group C                some college      standard   \n",
      "2  female        group B             master's degree      standard   \n",
      "3    male        group A          associate's degree  free/reduced   \n",
      "4    male        group C                some college      standard   \n",
      "\n",
      "  test preparation course  math score  reading score  writing score  \n",
      "0                    none          72             72             74  \n",
      "1               completed          69             90             88  \n",
      "2                    none          90             95             93  \n",
      "3                    none          47             57             44  \n",
      "4                    none          76             78             75  \n"
     ]
    }
   ],
   "source": [
    "#Inspect dataset\n",
    "print(students.head())"
   ]
  },
  {
   "cell_type": "code",
   "execution_count": 4,
   "id": "d6b2de29",
   "metadata": {},
   "outputs": [
    {
     "name": "stdout",
     "output_type": "stream",
     "text": [
      "   gender    group    parent_education         lunch     course  math_score  \\\n",
      "0  female  group B   bachelor's degree      standard       none          72   \n",
      "1  female  group C        some college      standard  completed          69   \n",
      "2  female  group B     master's degree      standard       none          90   \n",
      "3    male  group A  associate's degree  free/reduced       none          47   \n",
      "4    male  group C        some college      standard       none          76   \n",
      "\n",
      "   reading_score  writing_score  \n",
      "0             72             74  \n",
      "1             90             88  \n",
      "2             95             93  \n",
      "3             57             44  \n",
      "4             78             75  \n"
     ]
    }
   ],
   "source": [
    "#Rename columns\n",
    "dict = {'race/ethnicity' : 'group', 'parental level of education' : 'parent_education',\n",
    "        'test preparation course' : 'course', 'math score' : 'math_score',\n",
    "        'reading score' : 'reading_score', 'writing score' : 'writing_score'}\n",
    "students.rename(columns = dict, inplace = True)\n",
    "print(students.head())"
   ]
  },
  {
   "cell_type": "code",
   "execution_count": 5,
   "id": "5d89b64d",
   "metadata": {},
   "outputs": [
    {
     "name": "stdout",
     "output_type": "stream",
     "text": [
      "<class 'pandas.core.frame.DataFrame'>\n",
      "RangeIndex: 1000 entries, 0 to 999\n",
      "Data columns (total 8 columns):\n",
      " #   Column            Non-Null Count  Dtype \n",
      "---  ------            --------------  ----- \n",
      " 0   gender            1000 non-null   object\n",
      " 1   group             1000 non-null   object\n",
      " 2   parent_education  1000 non-null   object\n",
      " 3   lunch             1000 non-null   object\n",
      " 4   course            1000 non-null   object\n",
      " 5   math_score        1000 non-null   int64 \n",
      " 6   reading_score     1000 non-null   int64 \n",
      " 7   writing_score     1000 non-null   int64 \n",
      "dtypes: int64(3), object(5)\n",
      "memory usage: 62.6+ KB\n",
      "None\n"
     ]
    }
   ],
   "source": [
    "print(students.info())"
   ]
  },
  {
   "cell_type": "code",
   "execution_count": 6,
   "id": "c2687d97",
   "metadata": {},
   "outputs": [
    {
     "name": "stdout",
     "output_type": "stream",
     "text": [
      "(1000, 8)\n"
     ]
    }
   ],
   "source": [
    "print(students.shape)"
   ]
  },
  {
   "cell_type": "code",
   "execution_count": 7,
   "id": "352c515f",
   "metadata": {},
   "outputs": [
    {
     "name": "stdout",
     "output_type": "stream",
     "text": [
      "gender              object\n",
      "group               object\n",
      "parent_education    object\n",
      "lunch               object\n",
      "course              object\n",
      "math_score           int64\n",
      "reading_score        int64\n",
      "writing_score        int64\n",
      "dtype: object\n"
     ]
    }
   ],
   "source": [
    "print(students.dtypes)"
   ]
  },
  {
   "cell_type": "code",
   "execution_count": 8,
   "id": "e61cdcc8",
   "metadata": {},
   "outputs": [
    {
     "name": "stdout",
     "output_type": "stream",
     "text": [
      "\n",
      "Unique values count variable gender\n",
      "female    518\n",
      "male      482\n",
      "Name: gender, dtype: int64\n",
      "\n",
      "Unique values count variable group\n",
      "group C    319\n",
      "group D    262\n",
      "group B    190\n",
      "group E    140\n",
      "group A     89\n",
      "Name: group, dtype: int64\n",
      "\n",
      "Unique values count variable parent_education\n",
      "some college          226\n",
      "associate's degree    222\n",
      "high school           196\n",
      "some high school      179\n",
      "bachelor's degree     118\n",
      "master's degree        59\n",
      "Name: parent_education, dtype: int64\n",
      "\n",
      "Unique values count variable lunch\n",
      "standard        645\n",
      "free/reduced    355\n",
      "Name: lunch, dtype: int64\n",
      "\n",
      "Unique values count variable course\n",
      "none         642\n",
      "completed    358\n",
      "Name: course, dtype: int64\n"
     ]
    }
   ],
   "source": [
    "#Detect inconsistent\n",
    "for col_name in list(['gender', 'group', 'parent_education', 'lunch', 'course']):\n",
    "    print('\\nUnique values count variable', col_name)\n",
    "    print(students[col_name].value_counts())"
   ]
  },
  {
   "cell_type": "code",
   "execution_count": 9,
   "id": "5239b4cb",
   "metadata": {},
   "outputs": [
    {
     "data": {
      "text/html": [
       "<div>\n",
       "<style scoped>\n",
       "    .dataframe tbody tr th:only-of-type {\n",
       "        vertical-align: middle;\n",
       "    }\n",
       "\n",
       "    .dataframe tbody tr th {\n",
       "        vertical-align: top;\n",
       "    }\n",
       "\n",
       "    .dataframe thead th {\n",
       "        text-align: right;\n",
       "    }\n",
       "</style>\n",
       "<table border=\"1\" class=\"dataframe\">\n",
       "  <thead>\n",
       "    <tr style=\"text-align: right;\">\n",
       "      <th></th>\n",
       "      <th>gender</th>\n",
       "      <th>group</th>\n",
       "      <th>parent_education</th>\n",
       "      <th>lunch</th>\n",
       "      <th>course</th>\n",
       "      <th>math_score</th>\n",
       "      <th>reading_score</th>\n",
       "      <th>writing_score</th>\n",
       "    </tr>\n",
       "  </thead>\n",
       "  <tbody>\n",
       "    <tr>\n",
       "      <th>0</th>\n",
       "      <td>female</td>\n",
       "      <td>group B</td>\n",
       "      <td>bachelor's degree</td>\n",
       "      <td>standard</td>\n",
       "      <td>none</td>\n",
       "      <td>72</td>\n",
       "      <td>72</td>\n",
       "      <td>74</td>\n",
       "    </tr>\n",
       "    <tr>\n",
       "      <th>1</th>\n",
       "      <td>female</td>\n",
       "      <td>group C</td>\n",
       "      <td>some college</td>\n",
       "      <td>standard</td>\n",
       "      <td>completed</td>\n",
       "      <td>69</td>\n",
       "      <td>90</td>\n",
       "      <td>88</td>\n",
       "    </tr>\n",
       "    <tr>\n",
       "      <th>2</th>\n",
       "      <td>female</td>\n",
       "      <td>group B</td>\n",
       "      <td>master's degree</td>\n",
       "      <td>standard</td>\n",
       "      <td>none</td>\n",
       "      <td>90</td>\n",
       "      <td>95</td>\n",
       "      <td>93</td>\n",
       "    </tr>\n",
       "    <tr>\n",
       "      <th>3</th>\n",
       "      <td>male</td>\n",
       "      <td>group A</td>\n",
       "      <td>associate's degree</td>\n",
       "      <td>free/reduced</td>\n",
       "      <td>none</td>\n",
       "      <td>47</td>\n",
       "      <td>57</td>\n",
       "      <td>44</td>\n",
       "    </tr>\n",
       "    <tr>\n",
       "      <th>4</th>\n",
       "      <td>male</td>\n",
       "      <td>group C</td>\n",
       "      <td>some college</td>\n",
       "      <td>standard</td>\n",
       "      <td>none</td>\n",
       "      <td>76</td>\n",
       "      <td>78</td>\n",
       "      <td>75</td>\n",
       "    </tr>\n",
       "    <tr>\n",
       "      <th>...</th>\n",
       "      <td>...</td>\n",
       "      <td>...</td>\n",
       "      <td>...</td>\n",
       "      <td>...</td>\n",
       "      <td>...</td>\n",
       "      <td>...</td>\n",
       "      <td>...</td>\n",
       "      <td>...</td>\n",
       "    </tr>\n",
       "    <tr>\n",
       "      <th>995</th>\n",
       "      <td>female</td>\n",
       "      <td>group E</td>\n",
       "      <td>master's degree</td>\n",
       "      <td>standard</td>\n",
       "      <td>completed</td>\n",
       "      <td>88</td>\n",
       "      <td>99</td>\n",
       "      <td>95</td>\n",
       "    </tr>\n",
       "    <tr>\n",
       "      <th>996</th>\n",
       "      <td>male</td>\n",
       "      <td>group C</td>\n",
       "      <td>high school</td>\n",
       "      <td>free/reduced</td>\n",
       "      <td>none</td>\n",
       "      <td>62</td>\n",
       "      <td>55</td>\n",
       "      <td>55</td>\n",
       "    </tr>\n",
       "    <tr>\n",
       "      <th>997</th>\n",
       "      <td>female</td>\n",
       "      <td>group C</td>\n",
       "      <td>high school</td>\n",
       "      <td>free/reduced</td>\n",
       "      <td>completed</td>\n",
       "      <td>59</td>\n",
       "      <td>71</td>\n",
       "      <td>65</td>\n",
       "    </tr>\n",
       "    <tr>\n",
       "      <th>998</th>\n",
       "      <td>female</td>\n",
       "      <td>group D</td>\n",
       "      <td>some college</td>\n",
       "      <td>standard</td>\n",
       "      <td>completed</td>\n",
       "      <td>68</td>\n",
       "      <td>78</td>\n",
       "      <td>77</td>\n",
       "    </tr>\n",
       "    <tr>\n",
       "      <th>999</th>\n",
       "      <td>female</td>\n",
       "      <td>group D</td>\n",
       "      <td>some college</td>\n",
       "      <td>free/reduced</td>\n",
       "      <td>none</td>\n",
       "      <td>77</td>\n",
       "      <td>86</td>\n",
       "      <td>86</td>\n",
       "    </tr>\n",
       "  </tbody>\n",
       "</table>\n",
       "<p>1000 rows × 8 columns</p>\n",
       "</div>"
      ],
      "text/plain": [
       "     gender    group    parent_education         lunch     course  math_score  \\\n",
       "0    female  group B   bachelor's degree      standard       none          72   \n",
       "1    female  group C        some college      standard  completed          69   \n",
       "2    female  group B     master's degree      standard       none          90   \n",
       "3      male  group A  associate's degree  free/reduced       none          47   \n",
       "4      male  group C        some college      standard       none          76   \n",
       "..      ...      ...                 ...           ...        ...         ...   \n",
       "995  female  group E     master's degree      standard  completed          88   \n",
       "996    male  group C         high school  free/reduced       none          62   \n",
       "997  female  group C         high school  free/reduced  completed          59   \n",
       "998  female  group D        some college      standard  completed          68   \n",
       "999  female  group D        some college  free/reduced       none          77   \n",
       "\n",
       "     reading_score  writing_score  \n",
       "0               72             74  \n",
       "1               90             88  \n",
       "2               95             93  \n",
       "3               57             44  \n",
       "4               78             75  \n",
       "..             ...            ...  \n",
       "995             99             95  \n",
       "996             55             55  \n",
       "997             71             65  \n",
       "998             78             77  \n",
       "999             86             86  \n",
       "\n",
       "[1000 rows x 8 columns]"
      ]
     },
     "execution_count": 9,
     "metadata": {},
     "output_type": "execute_result"
    }
   ],
   "source": [
    "#Drop duplicates\n",
    "students.drop_duplicates()"
   ]
  },
  {
   "cell_type": "code",
   "execution_count": 10,
   "id": "2b410caf",
   "metadata": {},
   "outputs": [
    {
     "name": "stdout",
     "output_type": "stream",
     "text": [
      "Status missing values: False\n"
     ]
    }
   ],
   "source": [
    "#Missing values\n",
    "print('Status missing values:', students.isnull().values.any())"
   ]
  },
  {
   "cell_type": "code",
   "execution_count": 11,
   "id": "d17c3060",
   "metadata": {},
   "outputs": [
    {
     "name": "stdout",
     "output_type": "stream",
     "text": [
      "       math_score  reading_score  writing_score\n",
      "count  1000.00000    1000.000000    1000.000000\n",
      "mean     66.08900      69.169000      68.054000\n",
      "std      15.16308      14.600192      15.195657\n",
      "min       0.00000      17.000000      10.000000\n",
      "25%      57.00000      59.000000      57.750000\n",
      "50%      66.00000      70.000000      69.000000\n",
      "75%      77.00000      79.000000      79.000000\n",
      "max     100.00000     100.000000     100.000000\n"
     ]
    }
   ],
   "source": [
    "#Descriptive analysis\n",
    "print(students.describe())"
   ]
  },
  {
   "cell_type": "code",
   "execution_count": 12,
   "id": "5819d507",
   "metadata": {},
   "outputs": [
    {
     "data": {
      "image/png": "[encoded data removed]",
      "text/plain": [
       "<Figure size 1080x288 with 3 Axes>"
      ]
     },
     "metadata": {
      "needs_background": "light"
     },
     "output_type": "display_data"
    }
   ],
   "source": [
    "import matplotlib.pyplot as plt\n",
    "import seaborn as sns\n",
    "\n",
    "fig, axes = plt.subplots(figsize=(15,4))\n",
    "\n",
    "plt.subplot(1,3,1)\n",
    "gender_math = students.groupby(['gender'])['math_score'].mean().reset_index() \n",
    "ax = sns.barplot(x = 'gender', y = 'math_score', data = gender_math)\n",
    "for p in ax.patches:\n",
    "    ax.annotate(format(p.get_height(), '.1f'),\n",
    "                (p.get_x() + p.get_width() / 2., p.get_height()),\n",
    "                ha = 'center', va = 'center',\n",
    "                xytext = (0, 7), textcoords = 'offset points')\n",
    "plt.title('Average of Math Score by Gender', y=1.05)\n",
    "plt.xlabel(None)\n",
    "plt.ylabel(None)\n",
    "sns.despine(left=True)\n",
    "plt.yticks([], [])\n",
    "plt.xticks(rotation = 0)\n",
    "\n",
    "plt.subplot(1,3,2)\n",
    "gender_reading = students.groupby(['gender'])['reading_score'].mean().reset_index() \n",
    "ax = sns.barplot(x = 'gender', y = 'reading_score', data = gender_reading)\n",
    "for p in ax.patches:\n",
    "    ax.annotate(format(p.get_height(), '.1f'),\n",
    "                (p.get_x() + p.get_width() / 2., p.get_height()),\n",
    "                ha = 'center', va = 'center',\n",
    "                xytext = (0, 7), textcoords = 'offset points')\n",
    "plt.title('Average of Reading Score by Gender', y=1.05)\n",
    "plt.xlabel(None)\n",
    "plt.ylabel(None)\n",
    "sns.despine(left=True)\n",
    "plt.yticks([], [])\n",
    "plt.xticks(rotation = 0)\n",
    "\n",
    "plt.subplot(1,3,3)\n",
    "gender_writing = students.groupby(['gender'])['writing_score'].mean().reset_index() \n",
    "ax = sns.barplot(x = 'gender', y = 'writing_score', data = gender_writing)\n",
    "for p in ax.patches:\n",
    "    ax.annotate(format(p.get_height(), '.1f'),\n",
    "                (p.get_x() + p.get_width() / 2., p.get_height()),\n",
    "                ha = 'center', va = 'center',\n",
    "                xytext = (0, 7), textcoords = 'offset points')\n",
    "plt.title('Average of Writing Score by Gender', y=1.05)\n",
    "plt.xlabel(None)\n",
    "plt.ylabel(None)\n",
    "sns.despine(left=True)\n",
    "plt.yticks([], [])\n",
    "plt.xticks(rotation = 0)\n",
    "\n",
    "plt.show()"
   ]
  },
  {
   "cell_type": "code",
   "execution_count": 13,
   "id": "b30095c1",
   "metadata": {},
   "outputs": [
    {
     "data": {
      "image/png": "[encoded data removed]",
      "text/plain": [
       "<Figure size 1080x288 with 3 Axes>"
      ]
     },
     "metadata": {
      "needs_background": "light"
     },
     "output_type": "display_data"
    }
   ],
   "source": [
    "fig, axes = plt.subplots(figsize=(15,4))\n",
    "sns.set_palette(\"Blues\")\n",
    "\n",
    "plt.subplot(1,3,1)\n",
    "race_math = students.groupby(['group'])['math_score'].mean().reset_index() \n",
    "ax = sns.barplot(x = 'group', y = 'math_score', data = race_math)\n",
    "for p in ax.patches:\n",
    "    ax.annotate(format(p.get_height(), '.1f'),\n",
    "                (p.get_x() + p.get_width() / 2., p.get_height()),\n",
    "                ha = 'center', va = 'center',\n",
    "                xytext = (0, 7), textcoords = 'offset points')\n",
    "plt.title('Average of Math Score by Race', y=1.05)\n",
    "plt.xlabel(None)\n",
    "plt.ylabel(None)\n",
    "sns.despine(left=True)\n",
    "plt.yticks([], [])\n",
    "plt.xticks(rotation = 0)\n",
    "\n",
    "plt.subplot(1,3,2)\n",
    "race_reading = students.groupby(['group'])['reading_score'].mean().reset_index() \n",
    "ax = sns.barplot(x = 'group', y = 'reading_score', data = race_reading)\n",
    "for p in ax.patches:\n",
    "    ax.annotate(format(p.get_height(), '.1f'),\n",
    "                (p.get_x() + p.get_width() / 2., p.get_height()),\n",
    "                ha = 'center', va = 'center',\n",
    "                xytext = (0, 7), textcoords = 'offset points')\n",
    "plt.title('Average of Reading Score by Race', y=1.05)\n",
    "plt.xlabel(None)\n",
    "plt.ylabel(None)\n",
    "sns.despine(left=True)\n",
    "plt.yticks([], [])\n",
    "plt.xticks(rotation = 0)\n",
    "\n",
    "plt.subplot(1,3,3)\n",
    "race_writing = students.groupby(['group'])['writing_score'].mean().reset_index() \n",
    "ax = sns.barplot(x = 'group', y = 'writing_score', data = race_writing)\n",
    "for p in ax.patches:\n",
    "    ax.annotate(format(p.get_height(), '.1f'),\n",
    "                (p.get_x() + p.get_width() / 2., p.get_height()),\n",
    "                ha = 'center', va = 'center',\n",
    "                xytext = (0, 7), textcoords = 'offset points')\n",
    "plt.title('Average of Writing Score by Race', y=1.05)\n",
    "plt.xlabel(None)\n",
    "plt.ylabel(None)\n",
    "sns.despine(left=True)\n",
    "plt.yticks([], [])\n",
    "plt.xticks(rotation = 0)\n",
    "\n",
    "plt.show()"
   ]
  },
  {
   "cell_type": "code",
   "execution_count": 14,
   "id": "2281f52a",
   "metadata": {
    "scrolled": false
   },
   "outputs": [
    {
     "data": {
      "image/png": "[encoded data removed]",
      "text/plain": [
       "<Figure size 1080x288 with 3 Axes>"
      ]
     },
     "metadata": {
      "needs_background": "light"
     },
     "output_type": "display_data"
    }
   ],
   "source": [
    "fig, axes = plt.subplots(figsize=(15,4))\n",
    "sns.set_palette(\"Blues\")\n",
    "\n",
    "plt.subplot(1,3,1)\n",
    "parent_math = students.groupby(['parent_education'])['math_score'].mean().reset_index() \n",
    "ax = sns.barplot(x = 'parent_education', y = 'math_score', data = parent_math,\n",
    "                 order=[\"high school\",\"some high school\",\"some college\",\"associate's degree\",\n",
    "                        \"bachelor's degree\",\"master's degree\"])\n",
    "for p in ax.patches:\n",
    "    ax.annotate(format(p.get_height(), '.1f'),\n",
    "                (p.get_x() + p.get_width() / 2., p.get_height()),\n",
    "                ha = 'center', va = 'center',\n",
    "                xytext = (0, 7), textcoords = 'offset points')\n",
    "plt.title('Average of Math Score by Parent Education', y=1.05)\n",
    "plt.xlabel(None)\n",
    "plt.ylabel(None)\n",
    "sns.despine(left=True)\n",
    "plt.yticks([], [])\n",
    "plt.xticks(rotation = 45, ha='right')\n",
    "\n",
    "plt.subplot(1,3,2)\n",
    "parent_reading = students.groupby(['parent_education'])['reading_score'].mean().reset_index() \n",
    "ax = sns.barplot(x = 'parent_education', y = 'reading_score', data = parent_reading,\n",
    "                order=[\"high school\",\"some high school\",\"some college\",\"associate's degree\",\n",
    "                        \"bachelor's degree\",\"master's degree\"])\n",
    "for p in ax.patches:\n",
    "    ax.annotate(format(p.get_height(), '.1f'),\n",
    "                (p.get_x() + p.get_width() / 2., p.get_height()),\n",
    "                ha = 'center', va = 'center',\n",
    "                xytext = (0, 7), textcoords = 'offset points')\n",
    "plt.title('Average of Reading Score by Parent Education', y=1.05)\n",
    "plt.xlabel(None)\n",
    "plt.ylabel(None)\n",
    "sns.despine(left=True)\n",
    "plt.yticks([], [])\n",
    "plt.xticks(rotation = 45, ha='right')\n",
    "\n",
    "plt.subplot(1,3,3)\n",
    "parent_writing = students.groupby(['parent_education'])['writing_score'].mean().reset_index() \n",
    "ax = sns.barplot(x = 'parent_education', y = 'writing_score', data = parent_writing,\n",
    "                order=[\"high school\",\"some high school\",\"some college\",\"associate's degree\",\n",
    "                        \"bachelor's degree\",\"master's degree\"])\n",
    "for p in ax.patches:\n",
    "    ax.annotate(format(p.get_height(), '.1f'),\n",
    "                (p.get_x() + p.get_width() / 2., p.get_height()),\n",
    "                ha = 'center', va = 'center',\n",
    "                xytext = (0, 7), textcoords = 'offset points')\n",
    "plt.title('Average of Writing Score by Parent Education', y=1.05)\n",
    "plt.xlabel(None)\n",
    "plt.ylabel(None)\n",
    "sns.despine(left=True)\n",
    "plt.yticks([], [])\n",
    "plt.xticks(rotation = 45, ha='right')\n",
    "\n",
    "plt.show()"
   ]
  },
  {
   "cell_type": "code",
   "execution_count": 15,
   "id": "cfed8437",
   "metadata": {},
   "outputs": [
    {
     "data": {
      "image/png": "[encoded data removed]",
      "text/plain": [
       "<Figure size 1080x288 with 3 Axes>"
      ]
     },
     "metadata": {
      "needs_background": "light"
     },
     "output_type": "display_data"
    }
   ],
   "source": [
    "fig, axes = plt.subplots(figsize=(15,4))\n",
    "sns.set_palette(\"tab10\")\n",
    "\n",
    "plt.subplot(1,3,1)\n",
    "lunch_math = students.groupby(['lunch'])['math_score'].mean().reset_index() \n",
    "ax = sns.barplot(x = 'lunch', y = 'math_score', data = lunch_math)\n",
    "for p in ax.patches:\n",
    "    ax.annotate(format(p.get_height(), '.1f'),\n",
    "                (p.get_x() + p.get_width() / 2., p.get_height()),\n",
    "                ha = 'center', va = 'center',\n",
    "                xytext = (0, 7), textcoords = 'offset points')\n",
    "plt.title('Average of Math Score by Lunch', y=1.05)\n",
    "plt.xlabel(None)\n",
    "plt.ylabel(None)\n",
    "sns.despine(left=True)\n",
    "plt.yticks([], [])\n",
    "plt.xticks(rotation = 0)\n",
    "\n",
    "plt.subplot(1,3,2)\n",
    "lunch_reading = students.groupby(['lunch'])['reading_score'].mean().reset_index() \n",
    "ax = sns.barplot(x = 'lunch', y = 'reading_score', data = lunch_reading)\n",
    "for p in ax.patches:\n",
    "    ax.annotate(format(p.get_height(), '.1f'),\n",
    "                (p.get_x() + p.get_width() / 2., p.get_height()),\n",
    "                ha = 'center', va = 'center',\n",
    "                xytext = (0, 7), textcoords = 'offset points')\n",
    "plt.title('Average of Reading Score by Lunch', y=1.05)\n",
    "plt.xlabel(None)\n",
    "plt.ylabel(None)\n",
    "sns.despine(left=True)\n",
    "plt.yticks([], [])\n",
    "plt.xticks(rotation = 0)\n",
    "\n",
    "plt.subplot(1,3,3)\n",
    "lunch_writing = students.groupby(['lunch'])['writing_score'].mean().reset_index() \n",
    "ax = sns.barplot(x = 'lunch', y = 'writing_score', data = lunch_writing)\n",
    "for p in ax.patches:\n",
    "    ax.annotate(format(p.get_height(), '.1f'),\n",
    "                (p.get_x() + p.get_width() / 2., p.get_height()),\n",
    "                ha = 'center', va = 'center',\n",
    "                xytext = (0, 7), textcoords = 'offset points')\n",
    "plt.title('Average of Writing Score by Lunch', y=1.05)\n",
    "plt.xlabel(None)\n",
    "plt.ylabel(None)\n",
    "sns.despine(left=True)\n",
    "plt.yticks([], [])\n",
    "plt.xticks(rotation = 0)\n",
    "\n",
    "plt.show()"
   ]
  },
  {
   "cell_type": "code",
   "execution_count": 16,
   "id": "ad60f0f3",
   "metadata": {},
   "outputs": [
    {
     "data": {
      "image/png": "[encoded data removed]",
      "text/plain": [
       "<Figure size 1080x288 with 3 Axes>"
      ]
     },
     "metadata": {
      "needs_background": "light"
     },
     "output_type": "display_data"
    }
   ],
   "source": [
    "fig, axes = plt.subplots(figsize=(15,4))\n",
    "sns.set_palette(\"tab10\")\n",
    "\n",
    "plt.subplot(1,3,1)\n",
    "course_math = students.groupby(['course'])['math_score'].mean().reset_index() \n",
    "ax = sns.barplot(x = 'course', y = 'math_score', data = course_math)\n",
    "for p in ax.patches:\n",
    "    ax.annotate(format(p.get_height(), '.1f'),\n",
    "                (p.get_x() + p.get_width() / 2., p.get_height()),\n",
    "                ha = 'center', va = 'center',\n",
    "                xytext = (0, 7), textcoords = 'offset points')\n",
    "plt.title('Average of Math Score by Course', y=1.05)\n",
    "plt.xlabel(None)\n",
    "plt.ylabel(None)\n",
    "sns.despine(left=True)\n",
    "plt.yticks([], [])\n",
    "plt.xticks(rotation = 0)\n",
    "\n",
    "plt.subplot(1,3,2)\n",
    "course_reading = students.groupby(['course'])['reading_score'].mean().reset_index() \n",
    "ax = sns.barplot(x = 'course', y = 'reading_score', data = course_reading)\n",
    "for p in ax.patches:\n",
    "    ax.annotate(format(p.get_height(), '.1f'),\n",
    "                (p.get_x() + p.get_width() / 2., p.get_height()),\n",
    "                ha = 'center', va = 'center',\n",
    "                xytext = (0, 7), textcoords = 'offset points')\n",
    "plt.title('Average of Reading Score by Course', y=1.05)\n",
    "plt.xlabel(None)\n",
    "plt.ylabel(None)\n",
    "sns.despine(left=True)\n",
    "plt.yticks([], [])\n",
    "plt.xticks(rotation = 0)\n",
    "\n",
    "plt.subplot(1,3,3)\n",
    "course_writing = students.groupby(['course'])['writing_score'].mean().reset_index() \n",
    "ax = sns.barplot(x = 'course', y = 'writing_score', data = course_writing)\n",
    "for p in ax.patches:\n",
    "    ax.annotate(format(p.get_height(), '.1f'),\n",
    "                (p.get_x() + p.get_width() / 2., p.get_height()),\n",
    "                ha = 'center', va = 'center',\n",
    "                xytext = (0, 7), textcoords = 'offset points')\n",
    "plt.title('Average of Writing Score by Course', y=1.05)\n",
    "plt.xlabel(None)\n",
    "plt.ylabel(None)\n",
    "sns.despine(left=True)\n",
    "plt.yticks([], [])\n",
    "plt.xticks(rotation = 0)\n",
    "\n",
    "plt.show()"
   ]
  }
 ],
 "metadata": {
  "kernelspec": {
   "display_name": "Python 3 (ipykernel)",
   "language": "python",
   "name": "python3"
  },
  "language_info": {
   "codemirror_mode": {
    "name": "ipython",
    "version": 3
   },
   "file_extension": ".py",
   "mimetype": "text/x-python",
   "name": "python",
   "nbconvert_exporter": "python",
   "pygments_lexer": "ipython3",
   "version": "3.9.7"
  }
 },
 "nbformat": 4,
 "nbformat_minor": 5
}
