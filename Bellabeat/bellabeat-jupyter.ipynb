{
 "cells": [
  {
   "cell_type": "markdown",
   "id": "7cd572d5",
   "metadata": {},
   "source": [
    "## About the company\n",
    "\n",
    "Bellabeat, a high-tech company that manufactures health-focused smart products. Since it was founded in 2013, Bellabeat has grown rapidly and quickly positioned itself as a tech-driven wellness company for woman. Bellabeat through its co-founder, Urška Sršen, believes that their opportunities for company growth is coming from the analysis of Bellabeat product and smart device usage data.\n",
    "\n",
    "### Identify business task\n",
    "1.\tWhat are some trends in smart device usage? \n",
    "2.\tHow could these trends apply to Bellabeat customers?\n",
    "3.\tHow could these trends help inﬂuence Bellabeat marketing strategy?\n",
    "\n",
    "### Consider key stakeholders\n",
    "* **Primary stakeholders:**<br />\n",
    "Urška Sršen, Bellabeat’s cofounder and Chief Creative Oﬃcer <br />\n",
    "Sando Mur, Mathematician and Bellabeat’s cofounder <br />\n",
    "* **Secondary stakeholder:**<br />\n",
    "Bellabeat marketing analytics team <br />\n",
    "\n",
    "### Project objectives\n",
    "Design Bellabeat marketing strategies leading to available customer in smart device usage trends and patterns.\n",
    "\n",
    "### Description of Data Sources\n",
    "Data is a public data that explores smart device users’ daily habits. Download from [FitBit Fitness Tracker Data](https://www.kaggle.com/arashnic/fitbit). This Kaggle data set contains personal ﬁtness tracker from thirty ﬁtbit users including minute-level output for physical activity, heart rate, and sleep monitoring. It includes information about daily activity, steps, and heart rate that can be used to explore users’ habits. Its structure, integrity, and ethics show that data is ROOC (Reliable, Original, Comprehensive, Current, and Cited) and good for analysis."
   ]
  },
  {
   "cell_type": "code",
   "execution_count": 1,
   "id": "739cd70d",
   "metadata": {
    "scrolled": true
   },
   "outputs": [
    {
     "name": "stderr",
     "output_type": "stream",
     "text": [
      "Registered S3 methods overwritten by 'tibble':\n",
      "  method     from  \n",
      "  format.tbl pillar\n",
      "  print.tbl  pillar\n",
      "-- Attaching packages --------------------------------------- tidyverse 1.2.1 --\n",
      "v ggplot2 3.3.5       v purrr   0.3.2  \n",
      "v tibble  2.1.1       v dplyr   0.8.0.1\n",
      "v tidyr   0.8.3       v stringr 1.4.0  \n",
      "v readr   1.3.1       v forcats 0.4.0  \n",
      "-- Conflicts ------------------------------------------ tidyverse_conflicts() --\n",
      "x dplyr::filter() masks stats::filter()\n",
      "x dplyr::lag()    masks stats::lag()\n",
      "\n",
      "Attaching package: 'lubridate'\n",
      "\n",
      "The following object is masked from 'package:base':\n",
      "\n",
      "    date\n",
      "\n"
     ]
    }
   ],
   "source": [
    "# Load packages\n",
    "library(tidyverse)\n",
    "library(lubridate)\n",
    "library(ggplot2)"
   ]
  },
  {
   "cell_type": "code",
   "execution_count": 2,
   "id": "da8e518d",
   "metadata": {},
   "outputs": [],
   "source": [
    "# Import data\n",
    "daily_activity <- read.csv(\"dailyActivity_merged.csv\")\n",
    "hourly_intensities <- read.csv(\"hourlyIntensities_merged.csv\")\n",
    "sleep_day <- read.csv(\"sleepDay_merged.csv\")\n",
    "heart_rate_seconds <- read.csv(\"heartrate_seconds_merged.csv\")\n",
    "weight_log_info <- read.csv(\"weightLogInfo_merged.csv\")"
   ]
  },
  {
   "cell_type": "code",
   "execution_count": 3,
   "id": "8c589953",
   "metadata": {},
   "outputs": [
    {
     "data": {
      "text/html": [
       "940"
      ],
      "text/latex": [
       "940"
      ],
      "text/markdown": [
       "940"
      ],
      "text/plain": [
       "[1] 940"
      ]
     },
     "metadata": {},
     "output_type": "display_data"
    },
    {
     "data": {
      "text/html": [
       "940"
      ],
      "text/latex": [
       "940"
      ],
      "text/markdown": [
       "940"
      ],
      "text/plain": [
       "[1] 940"
      ]
     },
     "metadata": {},
     "output_type": "display_data"
    },
    {
     "data": {
      "text/html": [
       "22099"
      ],
      "text/latex": [
       "22099"
      ],
      "text/markdown": [
       "22099"
      ],
      "text/plain": [
       "[1] 22099"
      ]
     },
     "metadata": {},
     "output_type": "display_data"
    },
    {
     "data": {
      "text/html": [
       "22099"
      ],
      "text/latex": [
       "22099"
      ],
      "text/markdown": [
       "22099"
      ],
      "text/plain": [
       "[1] 22099"
      ]
     },
     "metadata": {},
     "output_type": "display_data"
    },
    {
     "data": {
      "text/html": [
       "410"
      ],
      "text/latex": [
       "410"
      ],
      "text/markdown": [
       "410"
      ],
      "text/plain": [
       "[1] 410"
      ]
     },
     "metadata": {},
     "output_type": "display_data"
    },
    {
     "data": {
      "text/html": [
       "413"
      ],
      "text/latex": [
       "413"
      ],
      "text/markdown": [
       "413"
      ],
      "text/plain": [
       "[1] 413"
      ]
     },
     "metadata": {},
     "output_type": "display_data"
    },
    {
     "data": {
      "text/html": [
       "2483658"
      ],
      "text/latex": [
       "2483658"
      ],
      "text/markdown": [
       "2483658"
      ],
      "text/plain": [
       "[1] 2483658"
      ]
     },
     "metadata": {},
     "output_type": "display_data"
    },
    {
     "data": {
      "text/html": [
       "2483658"
      ],
      "text/latex": [
       "2483658"
      ],
      "text/markdown": [
       "2483658"
      ],
      "text/plain": [
       "[1] 2483658"
      ]
     },
     "metadata": {},
     "output_type": "display_data"
    },
    {
     "data": {
      "text/html": [
       "67"
      ],
      "text/latex": [
       "67"
      ],
      "text/markdown": [
       "67"
      ],
      "text/plain": [
       "[1] 67"
      ]
     },
     "metadata": {},
     "output_type": "display_data"
    },
    {
     "data": {
      "text/html": [
       "67"
      ],
      "text/latex": [
       "67"
      ],
      "text/markdown": [
       "67"
      ],
      "text/plain": [
       "[1] 67"
      ]
     },
     "metadata": {},
     "output_type": "display_data"
    }
   ],
   "source": [
    "# Exploring duplicates\n",
    "n_distinct(daily_activity)\n",
    "nrow(daily_activity)\n",
    "\n",
    "n_distinct(hourly_intensities)\n",
    "nrow(hourly_intensities)\n",
    "\n",
    "n_distinct(sleep_day)\n",
    "nrow(sleep_day)\n",
    "\n",
    "n_distinct(heart_rate_seconds)\n",
    "nrow(heart_rate_seconds)\n",
    "\n",
    "n_distinct(weight_log_info)\n",
    "nrow(weight_log_info)"
   ]
  },
  {
   "cell_type": "markdown",
   "id": "f055e081",
   "metadata": {},
   "source": [
    "Looks like we have duplicates values from variable sleep_day. Let's remove them and check number of rows again."
   ]
  },
  {
   "cell_type": "code",
   "execution_count": 4,
   "id": "e5521fff",
   "metadata": {},
   "outputs": [
    {
     "data": {
      "text/html": [
       "410"
      ],
      "text/latex": [
       "410"
      ],
      "text/markdown": [
       "410"
      ],
      "text/plain": [
       "[1] 410"
      ]
     },
     "metadata": {},
     "output_type": "display_data"
    }
   ],
   "source": [
    "sleep_day <- distinct(sleep_day)\n",
    "nrow(sleep_day)"
   ]
  },
  {
   "cell_type": "code",
   "execution_count": 5,
   "id": "dadba437",
   "metadata": {},
   "outputs": [
    {
     "data": {
      "text/html": [
       "33"
      ],
      "text/latex": [
       "33"
      ],
      "text/markdown": [
       "33"
      ],
      "text/plain": [
       "[1] 33"
      ]
     },
     "metadata": {},
     "output_type": "display_data"
    },
    {
     "data": {
      "text/html": [
       "33"
      ],
      "text/latex": [
       "33"
      ],
      "text/markdown": [
       "33"
      ],
      "text/plain": [
       "[1] 33"
      ]
     },
     "metadata": {},
     "output_type": "display_data"
    },
    {
     "data": {
      "text/html": [
       "24"
      ],
      "text/latex": [
       "24"
      ],
      "text/markdown": [
       "24"
      ],
      "text/plain": [
       "[1] 24"
      ]
     },
     "metadata": {},
     "output_type": "display_data"
    },
    {
     "data": {
      "text/html": [
       "14"
      ],
      "text/latex": [
       "14"
      ],
      "text/markdown": [
       "14"
      ],
      "text/plain": [
       "[1] 14"
      ]
     },
     "metadata": {},
     "output_type": "display_data"
    },
    {
     "data": {
      "text/html": [
       "8"
      ],
      "text/latex": [
       "8"
      ],
      "text/markdown": [
       "8"
      ],
      "text/plain": [
       "[1] 8"
      ]
     },
     "metadata": {},
     "output_type": "display_data"
    }
   ],
   "source": [
    "# Exploring unique values for each dataset\n",
    "n_distinct(daily_activity$Id)\n",
    "n_distinct(hourly_intensities$Id)\n",
    "n_distinct(sleep_day$Id)\n",
    "n_distinct(heart_rate_seconds$Id)\n",
    "n_distinct(weight_log_info$Id)"
   ]
  },
  {
   "cell_type": "markdown",
   "id": "853a9641",
   "metadata": {},
   "source": [
    "It shows that heart_rate_second with **14** id and weight_log_info with **8** id can’t be used for analysis. It might be resulted in bias if we use those data for recommendation."
   ]
  },
  {
   "cell_type": "code",
   "execution_count": 6,
   "id": "9b073b93",
   "metadata": {},
   "outputs": [
    {
     "data": {
      "text/html": [
       "<ol class=list-inline>\n",
       "\t<li>'Id'</li>\n",
       "\t<li>'ActivityDate'</li>\n",
       "\t<li>'TotalSteps'</li>\n",
       "\t<li>'TotalDistance'</li>\n",
       "\t<li>'TrackerDistance'</li>\n",
       "\t<li>'LoggedActivitiesDistance'</li>\n",
       "\t<li>'VeryActiveDistance'</li>\n",
       "\t<li>'ModeratelyActiveDistance'</li>\n",
       "\t<li>'LightActiveDistance'</li>\n",
       "\t<li>'SedentaryActiveDistance'</li>\n",
       "\t<li>'VeryActiveMinutes'</li>\n",
       "\t<li>'FairlyActiveMinutes'</li>\n",
       "\t<li>'LightlyActiveMinutes'</li>\n",
       "\t<li>'SedentaryMinutes'</li>\n",
       "\t<li>'Calories'</li>\n",
       "</ol>\n"
      ],
      "text/latex": [
       "\\begin{enumerate*}\n",
       "\\item 'Id'\n",
       "\\item 'ActivityDate'\n",
       "\\item 'TotalSteps'\n",
       "\\item 'TotalDistance'\n",
       "\\item 'TrackerDistance'\n",
       "\\item 'LoggedActivitiesDistance'\n",
       "\\item 'VeryActiveDistance'\n",
       "\\item 'ModeratelyActiveDistance'\n",
       "\\item 'LightActiveDistance'\n",
       "\\item 'SedentaryActiveDistance'\n",
       "\\item 'VeryActiveMinutes'\n",
       "\\item 'FairlyActiveMinutes'\n",
       "\\item 'LightlyActiveMinutes'\n",
       "\\item 'SedentaryMinutes'\n",
       "\\item 'Calories'\n",
       "\\end{enumerate*}\n"
      ],
      "text/markdown": [
       "1. 'Id'\n",
       "2. 'ActivityDate'\n",
       "3. 'TotalSteps'\n",
       "4. 'TotalDistance'\n",
       "5. 'TrackerDistance'\n",
       "6. 'LoggedActivitiesDistance'\n",
       "7. 'VeryActiveDistance'\n",
       "8. 'ModeratelyActiveDistance'\n",
       "9. 'LightActiveDistance'\n",
       "10. 'SedentaryActiveDistance'\n",
       "11. 'VeryActiveMinutes'\n",
       "12. 'FairlyActiveMinutes'\n",
       "13. 'LightlyActiveMinutes'\n",
       "14. 'SedentaryMinutes'\n",
       "15. 'Calories'\n",
       "\n",
       "\n"
      ],
      "text/plain": [
       " [1] \"Id\"                       \"ActivityDate\"            \n",
       " [3] \"TotalSteps\"               \"TotalDistance\"           \n",
       " [5] \"TrackerDistance\"          \"LoggedActivitiesDistance\"\n",
       " [7] \"VeryActiveDistance\"       \"ModeratelyActiveDistance\"\n",
       " [9] \"LightActiveDistance\"      \"SedentaryActiveDistance\" \n",
       "[11] \"VeryActiveMinutes\"        \"FairlyActiveMinutes\"     \n",
       "[13] \"LightlyActiveMinutes\"     \"SedentaryMinutes\"        \n",
       "[15] \"Calories\"                "
      ]
     },
     "metadata": {},
     "output_type": "display_data"
    },
    {
     "name": "stdout",
     "output_type": "stream",
     "text": [
      "'data.frame':\t940 obs. of  15 variables:\n",
      " $ Id                      : num  1.5e+09 1.5e+09 1.5e+09 1.5e+09 1.5e+09 ...\n",
      " $ ActivityDate            : Factor w/ 31 levels \"4/12/2016\",\"4/13/2016\",..: 1 2 3 4 5 6 7 8 9 10 ...\n",
      " $ TotalSteps              : int  13162 10735 10460 9762 12669 9705 13019 15506 10544 9819 ...\n",
      " $ TotalDistance           : num  8.5 6.97 6.74 6.28 8.16 ...\n",
      " $ TrackerDistance         : num  8.5 6.97 6.74 6.28 8.16 ...\n",
      " $ LoggedActivitiesDistance: num  0 0 0 0 0 0 0 0 0 0 ...\n",
      " $ VeryActiveDistance      : num  1.88 1.57 2.44 2.14 2.71 ...\n",
      " $ ModeratelyActiveDistance: num  0.55 0.69 0.4 1.26 0.41 ...\n",
      " $ LightActiveDistance     : num  6.06 4.71 3.91 2.83 5.04 ...\n",
      " $ SedentaryActiveDistance : num  0 0 0 0 0 0 0 0 0 0 ...\n",
      " $ VeryActiveMinutes       : int  25 21 30 29 36 38 42 50 28 19 ...\n",
      " $ FairlyActiveMinutes     : int  13 19 11 34 10 20 16 31 12 8 ...\n",
      " $ LightlyActiveMinutes    : int  328 217 181 209 221 164 233 264 205 211 ...\n",
      " $ SedentaryMinutes        : int  728 776 1218 726 773 539 1149 775 818 838 ...\n",
      " $ Calories                : int  1985 1797 1776 1745 1863 1728 1921 2035 1786 1775 ...\n"
     ]
    },
    {
     "data": {
      "text/html": [
       "<ol class=list-inline>\n",
       "\t<li>'Id'</li>\n",
       "\t<li>'ActivityHour'</li>\n",
       "\t<li>'TotalIntensity'</li>\n",
       "\t<li>'AverageIntensity'</li>\n",
       "</ol>\n"
      ],
      "text/latex": [
       "\\begin{enumerate*}\n",
       "\\item 'Id'\n",
       "\\item 'ActivityHour'\n",
       "\\item 'TotalIntensity'\n",
       "\\item 'AverageIntensity'\n",
       "\\end{enumerate*}\n"
      ],
      "text/markdown": [
       "1. 'Id'\n",
       "2. 'ActivityHour'\n",
       "3. 'TotalIntensity'\n",
       "4. 'AverageIntensity'\n",
       "\n",
       "\n"
      ],
      "text/plain": [
       "[1] \"Id\"               \"ActivityHour\"     \"TotalIntensity\"   \"AverageIntensity\""
      ]
     },
     "metadata": {},
     "output_type": "display_data"
    },
    {
     "name": "stdout",
     "output_type": "stream",
     "text": [
      "'data.frame':\t22099 obs. of  4 variables:\n",
      " $ Id              : num  1.5e+09 1.5e+09 1.5e+09 1.5e+09 1.5e+09 ...\n",
      " $ ActivityHour    : Factor w/ 736 levels \"4/12/2016 1:00:00 AM\",..: 7 1 9 11 13 15 17 19 21 23 ...\n",
      " $ TotalIntensity  : int  20 8 7 0 0 0 0 0 13 30 ...\n",
      " $ AverageIntensity: num  0.333 0.133 0.117 0 0 ...\n"
     ]
    },
    {
     "data": {
      "text/html": [
       "<ol class=list-inline>\n",
       "\t<li>'Id'</li>\n",
       "\t<li>'SleepDay'</li>\n",
       "\t<li>'TotalSleepRecords'</li>\n",
       "\t<li>'TotalMinutesAsleep'</li>\n",
       "\t<li>'TotalTimeInBed'</li>\n",
       "</ol>\n"
      ],
      "text/latex": [
       "\\begin{enumerate*}\n",
       "\\item 'Id'\n",
       "\\item 'SleepDay'\n",
       "\\item 'TotalSleepRecords'\n",
       "\\item 'TotalMinutesAsleep'\n",
       "\\item 'TotalTimeInBed'\n",
       "\\end{enumerate*}\n"
      ],
      "text/markdown": [
       "1. 'Id'\n",
       "2. 'SleepDay'\n",
       "3. 'TotalSleepRecords'\n",
       "4. 'TotalMinutesAsleep'\n",
       "5. 'TotalTimeInBed'\n",
       "\n",
       "\n"
      ],
      "text/plain": [
       "[1] \"Id\"                 \"SleepDay\"           \"TotalSleepRecords\" \n",
       "[4] \"TotalMinutesAsleep\" \"TotalTimeInBed\"    "
      ]
     },
     "metadata": {},
     "output_type": "display_data"
    },
    {
     "name": "stdout",
     "output_type": "stream",
     "text": [
      "'data.frame':\t410 obs. of  5 variables:\n",
      " $ Id                : num  1.5e+09 1.5e+09 1.5e+09 1.5e+09 1.5e+09 ...\n",
      " $ SleepDay          : Factor w/ 31 levels \"4/12/2016 12:00:00 AM\",..: 1 2 4 5 6 8 9 10 12 13 ...\n",
      " $ TotalSleepRecords : int  1 2 1 2 1 1 1 1 1 1 ...\n",
      " $ TotalMinutesAsleep: int  327 384 412 340 700 304 360 325 361 430 ...\n",
      " $ TotalTimeInBed    : int  346 407 442 367 712 320 377 364 384 449 ...\n"
     ]
    }
   ],
   "source": [
    "# Wrangle data\n",
    "colnames(daily_activity)\n",
    "str(daily_activity)\n",
    "\n",
    "colnames(hourly_intensities)\n",
    "str(hourly_intensities)\n",
    "\n",
    "colnames(sleep_day)\n",
    "str(sleep_day)"
   ]
  },
  {
   "cell_type": "markdown",
   "id": "36417cab",
   "metadata": {},
   "source": [
    "Note that all the imported data have the ‘Id’ field - it can be combined into one dataset. From this preparation, we know that some column needs to be transformed, for example datetime."
   ]
  },
  {
   "cell_type": "code",
   "execution_count": 7,
   "id": "357de268",
   "metadata": {},
   "outputs": [],
   "source": [
    "# Transform data types\n",
    "daily_activity$ActivityDate = as.POSIXct(daily_activity$ActivityDate, format = \"%m/%d/%Y\", tz = Sys.timezone())\n",
    "daily_activity$date <- format(daily_activity$ActivityDate, format = \"%Y-%m-%d\")\n",
    "\n",
    "hourly_intensities$ActivityHour = as.POSIXct(hourly_intensities$ActivityHour, format = \"%m/%d/%Y %I:%M:%S %p\", tz = Sys.timezone())\n",
    "hourly_intensities$time <- format(hourly_intensities$ActivityHour, format = \"%H:%M:%S\")\n",
    "hourly_intensities$date <- format(hourly_intensities$ActivityHour, format = \"%Y-%m-%d\")\n",
    "\n",
    "sleep_day$SleepDay = as.POSIXct(sleep_day$SleepDay, format = \"%m/%d/%Y %I:%M:%S %p\", tz = Sys.timezone())\n",
    "sleep_day$date <- format(sleep_day$SleepDay, format = \"%Y-%m-%d\")"
   ]
  },
  {
   "cell_type": "code",
   "execution_count": 8,
   "id": "0ea8af19",
   "metadata": {
    "scrolled": true
   },
   "outputs": [
    {
     "name": "stdout",
     "output_type": "stream",
     "text": [
      "'data.frame':\t940 obs. of  16 variables:\n",
      " $ Id                      : num  1.5e+09 1.5e+09 1.5e+09 1.5e+09 1.5e+09 ...\n",
      " $ ActivityDate            : POSIXct, format: \"2016-04-12\" \"2016-04-13\" ...\n",
      " $ TotalSteps              : int  13162 10735 10460 9762 12669 9705 13019 15506 10544 9819 ...\n",
      " $ TotalDistance           : num  8.5 6.97 6.74 6.28 8.16 ...\n",
      " $ TrackerDistance         : num  8.5 6.97 6.74 6.28 8.16 ...\n",
      " $ LoggedActivitiesDistance: num  0 0 0 0 0 0 0 0 0 0 ...\n",
      " $ VeryActiveDistance      : num  1.88 1.57 2.44 2.14 2.71 ...\n",
      " $ ModeratelyActiveDistance: num  0.55 0.69 0.4 1.26 0.41 ...\n",
      " $ LightActiveDistance     : num  6.06 4.71 3.91 2.83 5.04 ...\n",
      " $ SedentaryActiveDistance : num  0 0 0 0 0 0 0 0 0 0 ...\n",
      " $ VeryActiveMinutes       : int  25 21 30 29 36 38 42 50 28 19 ...\n",
      " $ FairlyActiveMinutes     : int  13 19 11 34 10 20 16 31 12 8 ...\n",
      " $ LightlyActiveMinutes    : int  328 217 181 209 221 164 233 264 205 211 ...\n",
      " $ SedentaryMinutes        : int  728 776 1218 726 773 539 1149 775 818 838 ...\n",
      " $ Calories                : int  1985 1797 1776 1745 1863 1728 1921 2035 1786 1775 ...\n",
      " $ date                    : chr  \"2016-04-12\" \"2016-04-13\" \"2016-04-14\" \"2016-04-15\" ...\n"
     ]
    }
   ],
   "source": [
    "# Check transformed dataset\n",
    "str(daily_activity)"
   ]
  },
  {
   "cell_type": "code",
   "execution_count": 9,
   "id": "2bc3e822",
   "metadata": {},
   "outputs": [
    {
     "name": "stdout",
     "output_type": "stream",
     "text": [
      "'data.frame':\t22099 obs. of  6 variables:\n",
      " $ Id              : num  1.5e+09 1.5e+09 1.5e+09 1.5e+09 1.5e+09 ...\n",
      " $ ActivityHour    : POSIXct, format: \"2016-04-12 00:00:00\" \"2016-04-12 01:00:00\" ...\n",
      " $ TotalIntensity  : int  20 8 7 0 0 0 0 0 13 30 ...\n",
      " $ AverageIntensity: num  0.333 0.133 0.117 0 0 ...\n",
      " $ time            : chr  \"00:00:00\" \"01:00:00\" \"02:00:00\" \"03:00:00\" ...\n",
      " $ date            : chr  \"2016-04-12\" \"2016-04-12\" \"2016-04-12\" \"2016-04-12\" ...\n"
     ]
    }
   ],
   "source": [
    "str(hourly_intensities)"
   ]
  },
  {
   "cell_type": "code",
   "execution_count": 10,
   "id": "3b4f69cd",
   "metadata": {},
   "outputs": [
    {
     "name": "stdout",
     "output_type": "stream",
     "text": [
      "'data.frame':\t410 obs. of  6 variables:\n",
      " $ Id                : num  1.5e+09 1.5e+09 1.5e+09 1.5e+09 1.5e+09 ...\n",
      " $ SleepDay          : POSIXct, format: \"2016-04-12\" \"2016-04-13\" ...\n",
      " $ TotalSleepRecords : int  1 2 1 2 1 1 1 1 1 1 ...\n",
      " $ TotalMinutesAsleep: int  327 384 412 340 700 304 360 325 361 430 ...\n",
      " $ TotalTimeInBed    : int  346 407 442 367 712 320 377 364 384 449 ...\n",
      " $ date              : chr  \"2016-04-12\" \"2016-04-13\" \"2016-04-15\" \"2016-04-16\" ...\n"
     ]
    }
   ],
   "source": [
    "str(sleep_day)"
   ]
  },
  {
   "cell_type": "code",
   "execution_count": 11,
   "id": "3d9c185a",
   "metadata": {},
   "outputs": [
    {
     "data": {
      "text/plain": [
       "   TotalSteps    TotalDistance    SedentaryMinutes\n",
       " Min.   :    0   Min.   : 0.000   Min.   :   0.0  \n",
       " 1st Qu.: 3790   1st Qu.: 2.620   1st Qu.: 729.8  \n",
       " Median : 7406   Median : 5.245   Median :1057.5  \n",
       " Mean   : 7638   Mean   : 5.490   Mean   : 991.2  \n",
       " 3rd Qu.:10727   3rd Qu.: 7.713   3rd Qu.:1229.5  \n",
       " Max.   :36019   Max.   :28.030   Max.   :1440.0  "
      ]
     },
     "metadata": {},
     "output_type": "display_data"
    },
    {
     "data": {
      "text/plain": [
       " VeryActiveMinutes FairlyActiveMinutes LightlyActiveMinutes\n",
       " Min.   :  0.00    Min.   :  0.00      Min.   :  0.0       \n",
       " 1st Qu.:  0.00    1st Qu.:  0.00      1st Qu.:127.0       \n",
       " Median :  4.00    Median :  6.00      Median :199.0       \n",
       " Mean   : 21.16    Mean   : 13.56      Mean   :192.8       \n",
       " 3rd Qu.: 32.00    3rd Qu.: 19.00      3rd Qu.:264.0       \n",
       " Max.   :210.00    Max.   :143.00      Max.   :518.0       "
      ]
     },
     "metadata": {},
     "output_type": "display_data"
    },
    {
     "data": {
      "text/plain": [
       " TotalSleepRecords TotalMinutesAsleep TotalTimeInBed \n",
       " Min.   :1.00      Min.   : 58.0      Min.   : 61.0  \n",
       " 1st Qu.:1.00      1st Qu.:361.0      1st Qu.:403.8  \n",
       " Median :1.00      Median :432.5      Median :463.0  \n",
       " Mean   :1.12      Mean   :419.2      Mean   :458.5  \n",
       " 3rd Qu.:1.00      3rd Qu.:490.0      3rd Qu.:526.0  \n",
       " Max.   :3.00      Max.   :796.0      Max.   :961.0  "
      ]
     },
     "metadata": {},
     "output_type": "display_data"
    }
   ],
   "source": [
    "# Quick summary statistics\n",
    "daily_activity %>%\n",
    "select(TotalSteps, TotalDistance, SedentaryMinutes) %>%\n",
    "summary()\n",
    "\n",
    "daily_activity %>%\n",
    "select(VeryActiveMinutes, FairlyActiveMinutes, LightlyActiveMinutes) %>%\n",
    "summary()\n",
    "\n",
    "sleep_day %>%  \n",
    "select(TotalSleepRecords, TotalMinutesAsleep, TotalTimeInBed) %>%\n",
    "summary()"
   ]
  },
  {
   "cell_type": "markdown",
   "id": "6baf1082",
   "metadata": {},
   "source": [
    "**What does this tell us about?**\n",
    "1.\tStudy showed that people with more daily steps appeared to gain more health benefit, especially who took 7000 and 10000 steps which reduced the mortality risk. From the summary statistics of daily activity, average of total steps per day are 7638. We can encourage customer to increase daily steps to be more healthy.\n",
    "2.\tAverage of sedentary minutes show a significant value, 991.2 minutes or 16.5 hours.\n",
    "3.\tComparing three categories, lightly active has the greatest average minutes.\n",
    "4.\tBased on sleep monitoring data, most of participant sleep for 419.5 minutes or 7 hours. "
   ]
  },
  {
   "cell_type": "code",
   "execution_count": 12,
   "id": "e67432f0",
   "metadata": {
    "scrolled": true
   },
   "outputs": [
    {
     "data": {
      "text/html": [
       "24"
      ],
      "text/latex": [
       "24"
      ],
      "text/markdown": [
       "24"
      ],
      "text/plain": [
       "[1] 24"
      ]
     },
     "metadata": {},
     "output_type": "display_data"
    }
   ],
   "source": [
    "# Merge data\n",
    "merged_data <- merge(daily_activity, sleep_day, by = c('Id', 'date'))\n",
    "n_distinct(merged_data$Id)"
   ]
  },
  {
   "cell_type": "code",
   "execution_count": 13,
   "id": "5e3fea33",
   "metadata": {},
   "outputs": [
    {
     "data": {
      "text/html": [
       "<table>\n",
       "<thead><tr><th scope=col>Id</th><th scope=col>date</th><th scope=col>ActivityDate</th><th scope=col>TotalSteps</th><th scope=col>TotalDistance</th><th scope=col>TrackerDistance</th><th scope=col>LoggedActivitiesDistance</th><th scope=col>VeryActiveDistance</th><th scope=col>ModeratelyActiveDistance</th><th scope=col>LightActiveDistance</th><th scope=col>SedentaryActiveDistance</th><th scope=col>VeryActiveMinutes</th><th scope=col>FairlyActiveMinutes</th><th scope=col>LightlyActiveMinutes</th><th scope=col>SedentaryMinutes</th><th scope=col>Calories</th><th scope=col>SleepDay</th><th scope=col>TotalSleepRecords</th><th scope=col>TotalMinutesAsleep</th><th scope=col>TotalTimeInBed</th></tr></thead>\n",
       "<tbody>\n",
       "\t<tr><td>1503960366</td><td>2016-04-12</td><td>2016-04-12</td><td>13162     </td><td>8.50      </td><td>8.50      </td><td>0         </td><td>1.88      </td><td>0.55      </td><td>6.06      </td><td>0         </td><td>25        </td><td>13        </td><td>328       </td><td>728       </td><td>1985      </td><td>2016-04-12</td><td>1         </td><td>327       </td><td>346       </td></tr>\n",
       "\t<tr><td>1503960366</td><td>2016-04-13</td><td>2016-04-13</td><td>10735     </td><td>6.97      </td><td>6.97      </td><td>0         </td><td>1.57      </td><td>0.69      </td><td>4.71      </td><td>0         </td><td>21        </td><td>19        </td><td>217       </td><td>776       </td><td>1797      </td><td>2016-04-13</td><td>2         </td><td>384       </td><td>407       </td></tr>\n",
       "\t<tr><td>1503960366</td><td>2016-04-15</td><td>2016-04-15</td><td> 9762     </td><td>6.28      </td><td>6.28      </td><td>0         </td><td>2.14      </td><td>1.26      </td><td>2.83      </td><td>0         </td><td>29        </td><td>34        </td><td>209       </td><td>726       </td><td>1745      </td><td>2016-04-15</td><td>1         </td><td>412       </td><td>442       </td></tr>\n",
       "\t<tr><td>1503960366</td><td>2016-04-16</td><td>2016-04-16</td><td>12669     </td><td>8.16      </td><td>8.16      </td><td>0         </td><td>2.71      </td><td>0.41      </td><td>5.04      </td><td>0         </td><td>36        </td><td>10        </td><td>221       </td><td>773       </td><td>1863      </td><td>2016-04-16</td><td>2         </td><td>340       </td><td>367       </td></tr>\n",
       "\t<tr><td>1503960366</td><td>2016-04-17</td><td>2016-04-17</td><td> 9705     </td><td>6.48      </td><td>6.48      </td><td>0         </td><td>3.19      </td><td>0.78      </td><td>2.51      </td><td>0         </td><td>38        </td><td>20        </td><td>164       </td><td>539       </td><td>1728      </td><td>2016-04-17</td><td>1         </td><td>700       </td><td>712       </td></tr>\n",
       "\t<tr><td>1503960366</td><td>2016-04-19</td><td>2016-04-19</td><td>15506     </td><td>9.88      </td><td>9.88      </td><td>0         </td><td>3.53      </td><td>1.32      </td><td>5.03      </td><td>0         </td><td>50        </td><td>31        </td><td>264       </td><td>775       </td><td>2035      </td><td>2016-04-19</td><td>1         </td><td>304       </td><td>320       </td></tr>\n",
       "</tbody>\n",
       "</table>\n"
      ],
      "text/latex": [
       "\\begin{tabular}{r|llllllllllllllllllll}\n",
       " Id & date & ActivityDate & TotalSteps & TotalDistance & TrackerDistance & LoggedActivitiesDistance & VeryActiveDistance & ModeratelyActiveDistance & LightActiveDistance & SedentaryActiveDistance & VeryActiveMinutes & FairlyActiveMinutes & LightlyActiveMinutes & SedentaryMinutes & Calories & SleepDay & TotalSleepRecords & TotalMinutesAsleep & TotalTimeInBed\\\\\n",
       "\\hline\n",
       "\t 1503960366 & 2016-04-12 & 2016-04-12 & 13162      & 8.50       & 8.50       & 0          & 1.88       & 0.55       & 6.06       & 0          & 25         & 13         & 328        & 728        & 1985       & 2016-04-12 & 1          & 327        & 346       \\\\\n",
       "\t 1503960366 & 2016-04-13 & 2016-04-13 & 10735      & 6.97       & 6.97       & 0          & 1.57       & 0.69       & 4.71       & 0          & 21         & 19         & 217        & 776        & 1797       & 2016-04-13 & 2          & 384        & 407       \\\\\n",
       "\t 1503960366 & 2016-04-15 & 2016-04-15 &  9762      & 6.28       & 6.28       & 0          & 2.14       & 1.26       & 2.83       & 0          & 29         & 34         & 209        & 726        & 1745       & 2016-04-15 & 1          & 412        & 442       \\\\\n",
       "\t 1503960366 & 2016-04-16 & 2016-04-16 & 12669      & 8.16       & 8.16       & 0          & 2.71       & 0.41       & 5.04       & 0          & 36         & 10         & 221        & 773        & 1863       & 2016-04-16 & 2          & 340        & 367       \\\\\n",
       "\t 1503960366 & 2016-04-17 & 2016-04-17 &  9705      & 6.48       & 6.48       & 0          & 3.19       & 0.78       & 2.51       & 0          & 38         & 20         & 164        & 539        & 1728       & 2016-04-17 & 1          & 700        & 712       \\\\\n",
       "\t 1503960366 & 2016-04-19 & 2016-04-19 & 15506      & 9.88       & 9.88       & 0          & 3.53       & 1.32       & 5.03       & 0          & 50         & 31         & 264        & 775        & 2035       & 2016-04-19 & 1          & 304        & 320       \\\\\n",
       "\\end{tabular}\n"
      ],
      "text/markdown": [
       "\n",
       "| Id | date | ActivityDate | TotalSteps | TotalDistance | TrackerDistance | LoggedActivitiesDistance | VeryActiveDistance | ModeratelyActiveDistance | LightActiveDistance | SedentaryActiveDistance | VeryActiveMinutes | FairlyActiveMinutes | LightlyActiveMinutes | SedentaryMinutes | Calories | SleepDay | TotalSleepRecords | TotalMinutesAsleep | TotalTimeInBed |\n",
       "|---|---|---|---|---|---|---|---|---|---|---|---|---|---|---|---|---|---|---|---|\n",
       "| 1503960366 | 2016-04-12 | 2016-04-12 | 13162      | 8.50       | 8.50       | 0          | 1.88       | 0.55       | 6.06       | 0          | 25         | 13         | 328        | 728        | 1985       | 2016-04-12 | 1          | 327        | 346        |\n",
       "| 1503960366 | 2016-04-13 | 2016-04-13 | 10735      | 6.97       | 6.97       | 0          | 1.57       | 0.69       | 4.71       | 0          | 21         | 19         | 217        | 776        | 1797       | 2016-04-13 | 2          | 384        | 407        |\n",
       "| 1503960366 | 2016-04-15 | 2016-04-15 |  9762      | 6.28       | 6.28       | 0          | 2.14       | 1.26       | 2.83       | 0          | 29         | 34         | 209        | 726        | 1745       | 2016-04-15 | 1          | 412        | 442        |\n",
       "| 1503960366 | 2016-04-16 | 2016-04-16 | 12669      | 8.16       | 8.16       | 0          | 2.71       | 0.41       | 5.04       | 0          | 36         | 10         | 221        | 773        | 1863       | 2016-04-16 | 2          | 340        | 367        |\n",
       "| 1503960366 | 2016-04-17 | 2016-04-17 |  9705      | 6.48       | 6.48       | 0          | 3.19       | 0.78       | 2.51       | 0          | 38         | 20         | 164        | 539        | 1728       | 2016-04-17 | 1          | 700        | 712        |\n",
       "| 1503960366 | 2016-04-19 | 2016-04-19 | 15506      | 9.88       | 9.88       | 0          | 3.53       | 1.32       | 5.03       | 0          | 50         | 31         | 264        | 775        | 2035       | 2016-04-19 | 1          | 304        | 320        |\n",
       "\n"
      ],
      "text/plain": [
       "  Id         date       ActivityDate TotalSteps TotalDistance TrackerDistance\n",
       "1 1503960366 2016-04-12 2016-04-12   13162      8.50          8.50           \n",
       "2 1503960366 2016-04-13 2016-04-13   10735      6.97          6.97           \n",
       "3 1503960366 2016-04-15 2016-04-15    9762      6.28          6.28           \n",
       "4 1503960366 2016-04-16 2016-04-16   12669      8.16          8.16           \n",
       "5 1503960366 2016-04-17 2016-04-17    9705      6.48          6.48           \n",
       "6 1503960366 2016-04-19 2016-04-19   15506      9.88          9.88           \n",
       "  LoggedActivitiesDistance VeryActiveDistance ModeratelyActiveDistance\n",
       "1 0                        1.88               0.55                    \n",
       "2 0                        1.57               0.69                    \n",
       "3 0                        2.14               1.26                    \n",
       "4 0                        2.71               0.41                    \n",
       "5 0                        3.19               0.78                    \n",
       "6 0                        3.53               1.32                    \n",
       "  LightActiveDistance SedentaryActiveDistance VeryActiveMinutes\n",
       "1 6.06                0                       25               \n",
       "2 4.71                0                       21               \n",
       "3 2.83                0                       29               \n",
       "4 5.04                0                       36               \n",
       "5 2.51                0                       38               \n",
       "6 5.03                0                       50               \n",
       "  FairlyActiveMinutes LightlyActiveMinutes SedentaryMinutes Calories SleepDay  \n",
       "1 13                  328                  728              1985     2016-04-12\n",
       "2 19                  217                  776              1797     2016-04-13\n",
       "3 34                  209                  726              1745     2016-04-15\n",
       "4 10                  221                  773              1863     2016-04-16\n",
       "5 20                  164                  539              1728     2016-04-17\n",
       "6 31                  264                  775              2035     2016-04-19\n",
       "  TotalSleepRecords TotalMinutesAsleep TotalTimeInBed\n",
       "1 1                 327                346           \n",
       "2 2                 384                407           \n",
       "3 1                 412                442           \n",
       "4 2                 340                367           \n",
       "5 1                 700                712           \n",
       "6 1                 304                320           "
      ]
     },
     "metadata": {},
     "output_type": "display_data"
    }
   ],
   "source": [
    "head(merged_data)"
   ]
  },
  {
   "cell_type": "code",
   "execution_count": 14,
   "id": "ba1caef0",
   "metadata": {
    "scrolled": true
   },
   "outputs": [],
   "source": [
    "# Add day of week, is_weekend, and day\n",
    "demo_data <- merged_data\n",
    "demo_data$day_of_week <- wday(demo_data$date)\n",
    "\n",
    "demo_data <- demo_data %>% \n",
    "  mutate(is_weekend = if_else(day_of_week == 1 | day_of_week == 7,\n",
    "                              \"TRUE\", \"FALSE\"))\n",
    "\n",
    "demo_data$day <- format(demo_data$ActivityDate, format = \"%a\")"
   ]
  },
  {
   "cell_type": "code",
   "execution_count": 15,
   "id": "508cfd9b",
   "metadata": {},
   "outputs": [
    {
     "name": "stdout",
     "output_type": "stream",
     "text": [
      "'data.frame':\t410 obs. of  23 variables:\n",
      " $ Id                      : num  1.5e+09 1.5e+09 1.5e+09 1.5e+09 1.5e+09 ...\n",
      " $ date                    : chr  \"2016-04-12\" \"2016-04-13\" \"2016-04-15\" \"2016-04-16\" ...\n",
      " $ ActivityDate            : POSIXct, format: \"2016-04-12\" \"2016-04-13\" ...\n",
      " $ TotalSteps              : int  13162 10735 9762 12669 9705 15506 10544 9819 14371 10039 ...\n",
      " $ TotalDistance           : num  8.5 6.97 6.28 8.16 6.48 ...\n",
      " $ TrackerDistance         : num  8.5 6.97 6.28 8.16 6.48 ...\n",
      " $ LoggedActivitiesDistance: num  0 0 0 0 0 0 0 0 0 0 ...\n",
      " $ VeryActiveDistance      : num  1.88 1.57 2.14 2.71 3.19 ...\n",
      " $ ModeratelyActiveDistance: num  0.55 0.69 1.26 0.41 0.78 ...\n",
      " $ LightActiveDistance     : num  6.06 4.71 2.83 5.04 2.51 ...\n",
      " $ SedentaryActiveDistance : num  0 0 0 0 0 0 0 0 0 0 ...\n",
      " $ VeryActiveMinutes       : int  25 21 29 36 38 50 28 19 41 39 ...\n",
      " $ FairlyActiveMinutes     : int  13 19 34 10 20 31 12 8 21 5 ...\n",
      " $ LightlyActiveMinutes    : int  328 217 209 221 164 264 205 211 262 238 ...\n",
      " $ SedentaryMinutes        : int  728 776 726 773 539 775 818 838 732 709 ...\n",
      " $ Calories                : int  1985 1797 1745 1863 1728 2035 1786 1775 1949 1788 ...\n",
      " $ SleepDay                : POSIXct, format: \"2016-04-12\" \"2016-04-13\" ...\n",
      " $ TotalSleepRecords       : int  1 2 1 2 1 1 1 1 1 1 ...\n",
      " $ TotalMinutesAsleep      : int  327 384 412 340 700 304 360 325 361 430 ...\n",
      " $ TotalTimeInBed          : int  346 407 442 367 712 320 377 364 384 449 ...\n",
      " $ day_of_week             : num  3 4 6 7 1 3 4 5 7 1 ...\n",
      " $ is_weekend              : chr  \"FALSE\" \"FALSE\" \"FALSE\" \"TRUE\" ...\n",
      " $ day                     : chr  \"Tue\" \"Wed\" \"Fri\" \"Sat\" ...\n"
     ]
    }
   ],
   "source": [
    "str(demo_data)"
   ]
  },
  {
   "cell_type": "code",
   "execution_count": 16,
   "id": "7f857d76",
   "metadata": {},
   "outputs": [
    {
     "data": {
      "text/html": [
       "<table>\n",
       "<thead><tr><th scope=col>Id</th><th scope=col>date</th><th scope=col>ActivityDate</th><th scope=col>TotalSteps</th><th scope=col>TotalDistance</th><th scope=col>TrackerDistance</th><th scope=col>LoggedActivitiesDistance</th><th scope=col>VeryActiveDistance</th><th scope=col>ModeratelyActiveDistance</th><th scope=col>LightActiveDistance</th><th scope=col>...</th><th scope=col>LightlyActiveMinutes</th><th scope=col>SedentaryMinutes</th><th scope=col>Calories</th><th scope=col>SleepDay</th><th scope=col>TotalSleepRecords</th><th scope=col>TotalMinutesAsleep</th><th scope=col>TotalTimeInBed</th><th scope=col>day_of_week</th><th scope=col>is_weekend</th><th scope=col>day</th></tr></thead>\n",
       "<tbody>\n",
       "\t<tr><td>1503960366</td><td>2016-04-12</td><td>2016-04-12</td><td>13162     </td><td>8.50      </td><td>8.50      </td><td>0         </td><td>1.88      </td><td>0.55      </td><td>6.06      </td><td>...       </td><td>328       </td><td>728       </td><td>1985      </td><td>2016-04-12</td><td>1         </td><td>327       </td><td>346       </td><td>3         </td><td>FALSE     </td><td>Tue       </td></tr>\n",
       "\t<tr><td>1503960366</td><td>2016-04-13</td><td>2016-04-13</td><td>10735     </td><td>6.97      </td><td>6.97      </td><td>0         </td><td>1.57      </td><td>0.69      </td><td>4.71      </td><td>...       </td><td>217       </td><td>776       </td><td>1797      </td><td>2016-04-13</td><td>2         </td><td>384       </td><td>407       </td><td>4         </td><td>FALSE     </td><td>Wed       </td></tr>\n",
       "\t<tr><td>1503960366</td><td>2016-04-15</td><td>2016-04-15</td><td> 9762     </td><td>6.28      </td><td>6.28      </td><td>0         </td><td>2.14      </td><td>1.26      </td><td>2.83      </td><td>...       </td><td>209       </td><td>726       </td><td>1745      </td><td>2016-04-15</td><td>1         </td><td>412       </td><td>442       </td><td>6         </td><td>FALSE     </td><td>Fri       </td></tr>\n",
       "\t<tr><td>1503960366</td><td>2016-04-16</td><td>2016-04-16</td><td>12669     </td><td>8.16      </td><td>8.16      </td><td>0         </td><td>2.71      </td><td>0.41      </td><td>5.04      </td><td>...       </td><td>221       </td><td>773       </td><td>1863      </td><td>2016-04-16</td><td>2         </td><td>340       </td><td>367       </td><td>7         </td><td>TRUE      </td><td>Sat       </td></tr>\n",
       "\t<tr><td>1503960366</td><td>2016-04-17</td><td>2016-04-17</td><td> 9705     </td><td>6.48      </td><td>6.48      </td><td>0         </td><td>3.19      </td><td>0.78      </td><td>2.51      </td><td>...       </td><td>164       </td><td>539       </td><td>1728      </td><td>2016-04-17</td><td>1         </td><td>700       </td><td>712       </td><td>1         </td><td>TRUE      </td><td>Sun       </td></tr>\n",
       "\t<tr><td>1503960366</td><td>2016-04-19</td><td>2016-04-19</td><td>15506     </td><td>9.88      </td><td>9.88      </td><td>0         </td><td>3.53      </td><td>1.32      </td><td>5.03      </td><td>...       </td><td>264       </td><td>775       </td><td>2035      </td><td>2016-04-19</td><td>1         </td><td>304       </td><td>320       </td><td>3         </td><td>FALSE     </td><td>Tue       </td></tr>\n",
       "</tbody>\n",
       "</table>\n"
      ],
      "text/latex": [
       "\\begin{tabular}{r|lllllllllllllllllllllll}\n",
       " Id & date & ActivityDate & TotalSteps & TotalDistance & TrackerDistance & LoggedActivitiesDistance & VeryActiveDistance & ModeratelyActiveDistance & LightActiveDistance & ... & LightlyActiveMinutes & SedentaryMinutes & Calories & SleepDay & TotalSleepRecords & TotalMinutesAsleep & TotalTimeInBed & day\\_of\\_week & is\\_weekend & day\\\\\n",
       "\\hline\n",
       "\t 1503960366 & 2016-04-12 & 2016-04-12 & 13162      & 8.50       & 8.50       & 0          & 1.88       & 0.55       & 6.06       & ...        & 328        & 728        & 1985       & 2016-04-12 & 1          & 327        & 346        & 3          & FALSE      & Tue       \\\\\n",
       "\t 1503960366 & 2016-04-13 & 2016-04-13 & 10735      & 6.97       & 6.97       & 0          & 1.57       & 0.69       & 4.71       & ...        & 217        & 776        & 1797       & 2016-04-13 & 2          & 384        & 407        & 4          & FALSE      & Wed       \\\\\n",
       "\t 1503960366 & 2016-04-15 & 2016-04-15 &  9762      & 6.28       & 6.28       & 0          & 2.14       & 1.26       & 2.83       & ...        & 209        & 726        & 1745       & 2016-04-15 & 1          & 412        & 442        & 6          & FALSE      & Fri       \\\\\n",
       "\t 1503960366 & 2016-04-16 & 2016-04-16 & 12669      & 8.16       & 8.16       & 0          & 2.71       & 0.41       & 5.04       & ...        & 221        & 773        & 1863       & 2016-04-16 & 2          & 340        & 367        & 7          & TRUE       & Sat       \\\\\n",
       "\t 1503960366 & 2016-04-17 & 2016-04-17 &  9705      & 6.48       & 6.48       & 0          & 3.19       & 0.78       & 2.51       & ...        & 164        & 539        & 1728       & 2016-04-17 & 1          & 700        & 712        & 1          & TRUE       & Sun       \\\\\n",
       "\t 1503960366 & 2016-04-19 & 2016-04-19 & 15506      & 9.88       & 9.88       & 0          & 3.53       & 1.32       & 5.03       & ...        & 264        & 775        & 2035       & 2016-04-19 & 1          & 304        & 320        & 3          & FALSE      & Tue       \\\\\n",
       "\\end{tabular}\n"
      ],
      "text/markdown": [
       "\n",
       "| Id | date | ActivityDate | TotalSteps | TotalDistance | TrackerDistance | LoggedActivitiesDistance | VeryActiveDistance | ModeratelyActiveDistance | LightActiveDistance | ... | LightlyActiveMinutes | SedentaryMinutes | Calories | SleepDay | TotalSleepRecords | TotalMinutesAsleep | TotalTimeInBed | day_of_week | is_weekend | day |\n",
       "|---|---|---|---|---|---|---|---|---|---|---|---|---|---|---|---|---|---|---|---|---|\n",
       "| 1503960366 | 2016-04-12 | 2016-04-12 | 13162      | 8.50       | 8.50       | 0          | 1.88       | 0.55       | 6.06       | ...        | 328        | 728        | 1985       | 2016-04-12 | 1          | 327        | 346        | 3          | FALSE      | Tue        |\n",
       "| 1503960366 | 2016-04-13 | 2016-04-13 | 10735      | 6.97       | 6.97       | 0          | 1.57       | 0.69       | 4.71       | ...        | 217        | 776        | 1797       | 2016-04-13 | 2          | 384        | 407        | 4          | FALSE      | Wed        |\n",
       "| 1503960366 | 2016-04-15 | 2016-04-15 |  9762      | 6.28       | 6.28       | 0          | 2.14       | 1.26       | 2.83       | ...        | 209        | 726        | 1745       | 2016-04-15 | 1          | 412        | 442        | 6          | FALSE      | Fri        |\n",
       "| 1503960366 | 2016-04-16 | 2016-04-16 | 12669      | 8.16       | 8.16       | 0          | 2.71       | 0.41       | 5.04       | ...        | 221        | 773        | 1863       | 2016-04-16 | 2          | 340        | 367        | 7          | TRUE       | Sat        |\n",
       "| 1503960366 | 2016-04-17 | 2016-04-17 |  9705      | 6.48       | 6.48       | 0          | 3.19       | 0.78       | 2.51       | ...        | 164        | 539        | 1728       | 2016-04-17 | 1          | 700        | 712        | 1          | TRUE       | Sun        |\n",
       "| 1503960366 | 2016-04-19 | 2016-04-19 | 15506      | 9.88       | 9.88       | 0          | 3.53       | 1.32       | 5.03       | ...        | 264        | 775        | 2035       | 2016-04-19 | 1          | 304        | 320        | 3          | FALSE      | Tue        |\n",
       "\n"
      ],
      "text/plain": [
       "  Id         date       ActivityDate TotalSteps TotalDistance TrackerDistance\n",
       "1 1503960366 2016-04-12 2016-04-12   13162      8.50          8.50           \n",
       "2 1503960366 2016-04-13 2016-04-13   10735      6.97          6.97           \n",
       "3 1503960366 2016-04-15 2016-04-15    9762      6.28          6.28           \n",
       "4 1503960366 2016-04-16 2016-04-16   12669      8.16          8.16           \n",
       "5 1503960366 2016-04-17 2016-04-17    9705      6.48          6.48           \n",
       "6 1503960366 2016-04-19 2016-04-19   15506      9.88          9.88           \n",
       "  LoggedActivitiesDistance VeryActiveDistance ModeratelyActiveDistance\n",
       "1 0                        1.88               0.55                    \n",
       "2 0                        1.57               0.69                    \n",
       "3 0                        2.14               1.26                    \n",
       "4 0                        2.71               0.41                    \n",
       "5 0                        3.19               0.78                    \n",
       "6 0                        3.53               1.32                    \n",
       "  LightActiveDistance ... LightlyActiveMinutes SedentaryMinutes Calories\n",
       "1 6.06                ... 328                  728              1985    \n",
       "2 4.71                ... 217                  776              1797    \n",
       "3 2.83                ... 209                  726              1745    \n",
       "4 5.04                ... 221                  773              1863    \n",
       "5 2.51                ... 164                  539              1728    \n",
       "6 5.03                ... 264                  775              2035    \n",
       "  SleepDay   TotalSleepRecords TotalMinutesAsleep TotalTimeInBed day_of_week\n",
       "1 2016-04-12 1                 327                346            3          \n",
       "2 2016-04-13 2                 384                407            4          \n",
       "3 2016-04-15 1                 412                442            6          \n",
       "4 2016-04-16 2                 340                367            7          \n",
       "5 2016-04-17 1                 700                712            1          \n",
       "6 2016-04-19 1                 304                320            3          \n",
       "  is_weekend day\n",
       "1 FALSE      Tue\n",
       "2 FALSE      Wed\n",
       "3 FALSE      Fri\n",
       "4 TRUE       Sat\n",
       "5 TRUE       Sun\n",
       "6 FALSE      Tue"
      ]
     },
     "metadata": {},
     "output_type": "display_data"
    }
   ],
   "source": [
    "head(demo_data)"
   ]
  },
  {
   "cell_type": "code",
   "execution_count": 17,
   "id": "0452645b",
   "metadata": {
    "scrolled": true
   },
   "outputs": [],
   "source": [
    "# Compare weekend and weekday\n",
    "grouped_data <- demo_data %>% \n",
    "select(-c(Id, date, day, ActivityDate, SleepDay)) %>%\n",
    "group_by(is_weekend) %>% \n",
    "summarise_all(\"mean\")"
   ]
  },
  {
   "cell_type": "code",
   "execution_count": 18,
   "id": "850c60f1",
   "metadata": {
    "scrolled": false
   },
   "outputs": [
    {
     "data": {
      "text/html": [
       "<table>\n",
       "<thead><tr><th scope=col>is_weekend</th><th scope=col>TotalSteps</th><th scope=col>TotalDistance</th><th scope=col>TrackerDistance</th><th scope=col>LoggedActivitiesDistance</th><th scope=col>VeryActiveDistance</th><th scope=col>ModeratelyActiveDistance</th><th scope=col>LightActiveDistance</th><th scope=col>SedentaryActiveDistance</th><th scope=col>VeryActiveMinutes</th><th scope=col>FairlyActiveMinutes</th><th scope=col>LightlyActiveMinutes</th><th scope=col>SedentaryMinutes</th><th scope=col>Calories</th><th scope=col>TotalSleepRecords</th><th scope=col>TotalMinutesAsleep</th><th scope=col>TotalTimeInBed</th><th scope=col>day_of_week</th></tr></thead>\n",
       "<tbody>\n",
       "\t<tr><td>FALSE      </td><td>8480.124   </td><td>5.973221   </td><td>5.966309   </td><td>0.1497838  </td><td>1.428859   </td><td>0.7095973  </td><td>3.792886   </td><td>0.001275168</td><td>25.10067   </td><td>17.22148   </td><td>213.8054   </td><td>722.6711   </td><td>2387.601   </td><td>1.09396    </td><td>412.9966   </td><td>449.9128   </td><td>4.070470   </td></tr>\n",
       "\t<tr><td>TRUE       </td><td>8607.464   </td><td>6.116607   </td><td>6.116607   </td><td>0.0000000  </td><td>1.492411   </td><td>0.8351786  </td><td>3.786429   </td><td>0.000000000</td><td>24.90179   </td><td>19.79464   </td><td>223.8214   </td><td>683.9732   </td><td>2393.804   </td><td>1.18750    </td><td>435.6071   </td><td>481.2857   </td><td>4.053571   </td></tr>\n",
       "</tbody>\n",
       "</table>\n"
      ],
      "text/latex": [
       "\\begin{tabular}{r|llllllllllllllllll}\n",
       " is\\_weekend & TotalSteps & TotalDistance & TrackerDistance & LoggedActivitiesDistance & VeryActiveDistance & ModeratelyActiveDistance & LightActiveDistance & SedentaryActiveDistance & VeryActiveMinutes & FairlyActiveMinutes & LightlyActiveMinutes & SedentaryMinutes & Calories & TotalSleepRecords & TotalMinutesAsleep & TotalTimeInBed & day\\_of\\_week\\\\\n",
       "\\hline\n",
       "\t FALSE       & 8480.124    & 5.973221    & 5.966309    & 0.1497838   & 1.428859    & 0.7095973   & 3.792886    & 0.001275168 & 25.10067    & 17.22148    & 213.8054    & 722.6711    & 2387.601    & 1.09396     & 412.9966    & 449.9128    & 4.070470   \\\\\n",
       "\t TRUE        & 8607.464    & 6.116607    & 6.116607    & 0.0000000   & 1.492411    & 0.8351786   & 3.786429    & 0.000000000 & 24.90179    & 19.79464    & 223.8214    & 683.9732    & 2393.804    & 1.18750     & 435.6071    & 481.2857    & 4.053571   \\\\\n",
       "\\end{tabular}\n"
      ],
      "text/markdown": [
       "\n",
       "| is_weekend | TotalSteps | TotalDistance | TrackerDistance | LoggedActivitiesDistance | VeryActiveDistance | ModeratelyActiveDistance | LightActiveDistance | SedentaryActiveDistance | VeryActiveMinutes | FairlyActiveMinutes | LightlyActiveMinutes | SedentaryMinutes | Calories | TotalSleepRecords | TotalMinutesAsleep | TotalTimeInBed | day_of_week |\n",
       "|---|---|---|---|---|---|---|---|---|---|---|---|---|---|---|---|---|---|\n",
       "| FALSE       | 8480.124    | 5.973221    | 5.966309    | 0.1497838   | 1.428859    | 0.7095973   | 3.792886    | 0.001275168 | 25.10067    | 17.22148    | 213.8054    | 722.6711    | 2387.601    | 1.09396     | 412.9966    | 449.9128    | 4.070470    |\n",
       "| TRUE        | 8607.464    | 6.116607    | 6.116607    | 0.0000000   | 1.492411    | 0.8351786   | 3.786429    | 0.000000000 | 24.90179    | 19.79464    | 223.8214    | 683.9732    | 2393.804    | 1.18750     | 435.6071    | 481.2857    | 4.053571    |\n",
       "\n"
      ],
      "text/plain": [
       "  is_weekend TotalSteps TotalDistance TrackerDistance LoggedActivitiesDistance\n",
       "1 FALSE      8480.124   5.973221      5.966309        0.1497838               \n",
       "2 TRUE       8607.464   6.116607      6.116607        0.0000000               \n",
       "  VeryActiveDistance ModeratelyActiveDistance LightActiveDistance\n",
       "1 1.428859           0.7095973                3.792886           \n",
       "2 1.492411           0.8351786                3.786429           \n",
       "  SedentaryActiveDistance VeryActiveMinutes FairlyActiveMinutes\n",
       "1 0.001275168             25.10067          17.22148           \n",
       "2 0.000000000             24.90179          19.79464           \n",
       "  LightlyActiveMinutes SedentaryMinutes Calories TotalSleepRecords\n",
       "1 213.8054             722.6711         2387.601 1.09396          \n",
       "2 223.8214             683.9732         2393.804 1.18750          \n",
       "  TotalMinutesAsleep TotalTimeInBed day_of_week\n",
       "1 412.9966           449.9128       4.070470   \n",
       "2 435.6071           481.2857       4.053571   "
      ]
     },
     "metadata": {},
     "output_type": "display_data"
    }
   ],
   "source": [
    "head(grouped_data)"
   ]
  },
  {
   "cell_type": "markdown",
   "id": "9291d801",
   "metadata": {},
   "source": [
    "No significant differences between weekend and weekday for daily activity and sleep monitoring."
   ]
  },
  {
   "cell_type": "code",
   "execution_count": 19,
   "id": "3fc4dcbb",
   "metadata": {},
   "outputs": [],
   "source": [
    "# Compare per day\n",
    "grouped_day <- demo_data %>%\n",
    "select(-c(Id, date, day, is_weekend, ActivityDate, SleepDay)) %>%\n",
    "group_by(day_of_week) %>% \n",
    "summarise_all(\"mean\")"
   ]
  },
  {
   "cell_type": "code",
   "execution_count": 20,
   "id": "f2d7625d",
   "metadata": {},
   "outputs": [
    {
     "data": {
      "text/html": [
       "<table>\n",
       "<thead><tr><th scope=col>day_of_week</th><th scope=col>TotalSteps</th><th scope=col>TotalDistance</th><th scope=col>TrackerDistance</th><th scope=col>LoggedActivitiesDistance</th><th scope=col>VeryActiveDistance</th><th scope=col>ModeratelyActiveDistance</th><th scope=col>LightActiveDistance</th><th scope=col>SedentaryActiveDistance</th><th scope=col>VeryActiveMinutes</th><th scope=col>FairlyActiveMinutes</th><th scope=col>LightlyActiveMinutes</th><th scope=col>SedentaryMinutes</th><th scope=col>Calories</th><th scope=col>TotalSleepRecords</th><th scope=col>TotalMinutesAsleep</th><th scope=col>TotalTimeInBed</th></tr></thead>\n",
       "<tbody>\n",
       "\t<tr><td>1           </td><td>7297.855    </td><td>5.184727    </td><td>5.184727    </td><td>0.00000000  </td><td>1.190182    </td><td>0.7025454   </td><td>3.289273    </td><td>0.0000000000</td><td>22.14545    </td><td>16.76364    </td><td>200.0364    </td><td>687.6364    </td><td>2276.600    </td><td>1.181818    </td><td>452.7455    </td><td>503.5091    </td></tr>\n",
       "\t<tr><td>2           </td><td>9273.217    </td><td>6.540870    </td><td>6.535870    </td><td>0.31133881  </td><td>1.734348    </td><td>0.7843478   </td><td>4.013913    </td><td>0.0021739131</td><td>30.71739    </td><td>19.08696    </td><td>222.3696    </td><td>718.4130    </td><td>2431.978    </td><td>1.108696    </td><td>419.5000    </td><td>457.3478    </td></tr>\n",
       "\t<tr><td>3           </td><td>9182.692    </td><td>6.430000    </td><td>6.430000    </td><td>0.13865114  </td><td>1.718462    </td><td>0.8166154   </td><td>3.886615    </td><td>0.0013846154</td><td>30.61538    </td><td>20.04615    </td><td>216.5846    </td><td>740.0462    </td><td>2496.200    </td><td>1.107692    </td><td>404.5385    </td><td>443.2923    </td></tr>\n",
       "\t<tr><td>4           </td><td>8022.864    </td><td>5.719849    </td><td>5.719849    </td><td>0.09509760  </td><td>1.357879    </td><td>0.7040909   </td><td>3.652121    </td><td>0.0000000000</td><td>21.33333    </td><td>16.74242    </td><td>207.9697    </td><td>714.4545    </td><td>2378.242    </td><td>1.151515    </td><td>434.6818    </td><td>470.0303    </td></tr>\n",
       "\t<tr><td>5           </td><td>8183.516    </td><td>5.773438    </td><td>5.744844    </td><td>0.16938962  </td><td>1.250937    </td><td>0.6610937   </td><td>3.695938    </td><td>0.0028125000</td><td>22.85938    </td><td>15.85938    </td><td>202.9375    </td><td>698.3750    </td><td>2306.672    </td><td>1.031250    </td><td>401.2969    </td><td>434.8750    </td></tr>\n",
       "\t<tr><td>6           </td><td>7901.404    </td><td>5.511930    </td><td>5.511930    </td><td>0.07340867  </td><td>1.134035    </td><td>0.5880702   </td><td>3.779474    </td><td>0.0001754386</td><td>21.15789    </td><td>14.57895    </td><td>222.6842    </td><td>743.0877    </td><td>2329.649    </td><td>1.070175    </td><td>405.4211    </td><td>445.0526    </td></tr>\n",
       "</tbody>\n",
       "</table>\n"
      ],
      "text/latex": [
       "\\begin{tabular}{r|lllllllllllllllll}\n",
       " day\\_of\\_week & TotalSteps & TotalDistance & TrackerDistance & LoggedActivitiesDistance & VeryActiveDistance & ModeratelyActiveDistance & LightActiveDistance & SedentaryActiveDistance & VeryActiveMinutes & FairlyActiveMinutes & LightlyActiveMinutes & SedentaryMinutes & Calories & TotalSleepRecords & TotalMinutesAsleep & TotalTimeInBed\\\\\n",
       "\\hline\n",
       "\t 1            & 7297.855     & 5.184727     & 5.184727     & 0.00000000   & 1.190182     & 0.7025454    & 3.289273     & 0.0000000000 & 22.14545     & 16.76364     & 200.0364     & 687.6364     & 2276.600     & 1.181818     & 452.7455     & 503.5091    \\\\\n",
       "\t 2            & 9273.217     & 6.540870     & 6.535870     & 0.31133881   & 1.734348     & 0.7843478    & 4.013913     & 0.0021739131 & 30.71739     & 19.08696     & 222.3696     & 718.4130     & 2431.978     & 1.108696     & 419.5000     & 457.3478    \\\\\n",
       "\t 3            & 9182.692     & 6.430000     & 6.430000     & 0.13865114   & 1.718462     & 0.8166154    & 3.886615     & 0.0013846154 & 30.61538     & 20.04615     & 216.5846     & 740.0462     & 2496.200     & 1.107692     & 404.5385     & 443.2923    \\\\\n",
       "\t 4            & 8022.864     & 5.719849     & 5.719849     & 0.09509760   & 1.357879     & 0.7040909    & 3.652121     & 0.0000000000 & 21.33333     & 16.74242     & 207.9697     & 714.4545     & 2378.242     & 1.151515     & 434.6818     & 470.0303    \\\\\n",
       "\t 5            & 8183.516     & 5.773438     & 5.744844     & 0.16938962   & 1.250937     & 0.6610937    & 3.695938     & 0.0028125000 & 22.85938     & 15.85938     & 202.9375     & 698.3750     & 2306.672     & 1.031250     & 401.2969     & 434.8750    \\\\\n",
       "\t 6            & 7901.404     & 5.511930     & 5.511930     & 0.07340867   & 1.134035     & 0.5880702    & 3.779474     & 0.0001754386 & 21.15789     & 14.57895     & 222.6842     & 743.0877     & 2329.649     & 1.070175     & 405.4211     & 445.0526    \\\\\n",
       "\\end{tabular}\n"
      ],
      "text/markdown": [
       "\n",
       "| day_of_week | TotalSteps | TotalDistance | TrackerDistance | LoggedActivitiesDistance | VeryActiveDistance | ModeratelyActiveDistance | LightActiveDistance | SedentaryActiveDistance | VeryActiveMinutes | FairlyActiveMinutes | LightlyActiveMinutes | SedentaryMinutes | Calories | TotalSleepRecords | TotalMinutesAsleep | TotalTimeInBed |\n",
       "|---|---|---|---|---|---|---|---|---|---|---|---|---|---|---|---|---|\n",
       "| 1            | 7297.855     | 5.184727     | 5.184727     | 0.00000000   | 1.190182     | 0.7025454    | 3.289273     | 0.0000000000 | 22.14545     | 16.76364     | 200.0364     | 687.6364     | 2276.600     | 1.181818     | 452.7455     | 503.5091     |\n",
       "| 2            | 9273.217     | 6.540870     | 6.535870     | 0.31133881   | 1.734348     | 0.7843478    | 4.013913     | 0.0021739131 | 30.71739     | 19.08696     | 222.3696     | 718.4130     | 2431.978     | 1.108696     | 419.5000     | 457.3478     |\n",
       "| 3            | 9182.692     | 6.430000     | 6.430000     | 0.13865114   | 1.718462     | 0.8166154    | 3.886615     | 0.0013846154 | 30.61538     | 20.04615     | 216.5846     | 740.0462     | 2496.200     | 1.107692     | 404.5385     | 443.2923     |\n",
       "| 4            | 8022.864     | 5.719849     | 5.719849     | 0.09509760   | 1.357879     | 0.7040909    | 3.652121     | 0.0000000000 | 21.33333     | 16.74242     | 207.9697     | 714.4545     | 2378.242     | 1.151515     | 434.6818     | 470.0303     |\n",
       "| 5            | 8183.516     | 5.773438     | 5.744844     | 0.16938962   | 1.250937     | 0.6610937    | 3.695938     | 0.0028125000 | 22.85938     | 15.85938     | 202.9375     | 698.3750     | 2306.672     | 1.031250     | 401.2969     | 434.8750     |\n",
       "| 6            | 7901.404     | 5.511930     | 5.511930     | 0.07340867   | 1.134035     | 0.5880702    | 3.779474     | 0.0001754386 | 21.15789     | 14.57895     | 222.6842     | 743.0877     | 2329.649     | 1.070175     | 405.4211     | 445.0526     |\n",
       "\n"
      ],
      "text/plain": [
       "  day_of_week TotalSteps TotalDistance TrackerDistance LoggedActivitiesDistance\n",
       "1 1           7297.855   5.184727      5.184727        0.00000000              \n",
       "2 2           9273.217   6.540870      6.535870        0.31133881              \n",
       "3 3           9182.692   6.430000      6.430000        0.13865114              \n",
       "4 4           8022.864   5.719849      5.719849        0.09509760              \n",
       "5 5           8183.516   5.773438      5.744844        0.16938962              \n",
       "6 6           7901.404   5.511930      5.511930        0.07340867              \n",
       "  VeryActiveDistance ModeratelyActiveDistance LightActiveDistance\n",
       "1 1.190182           0.7025454                3.289273           \n",
       "2 1.734348           0.7843478                4.013913           \n",
       "3 1.718462           0.8166154                3.886615           \n",
       "4 1.357879           0.7040909                3.652121           \n",
       "5 1.250937           0.6610937                3.695938           \n",
       "6 1.134035           0.5880702                3.779474           \n",
       "  SedentaryActiveDistance VeryActiveMinutes FairlyActiveMinutes\n",
       "1 0.0000000000            22.14545          16.76364           \n",
       "2 0.0021739131            30.71739          19.08696           \n",
       "3 0.0013846154            30.61538          20.04615           \n",
       "4 0.0000000000            21.33333          16.74242           \n",
       "5 0.0028125000            22.85938          15.85938           \n",
       "6 0.0001754386            21.15789          14.57895           \n",
       "  LightlyActiveMinutes SedentaryMinutes Calories TotalSleepRecords\n",
       "1 200.0364             687.6364         2276.600 1.181818         \n",
       "2 222.3696             718.4130         2431.978 1.108696         \n",
       "3 216.5846             740.0462         2496.200 1.107692         \n",
       "4 207.9697             714.4545         2378.242 1.151515         \n",
       "5 202.9375             698.3750         2306.672 1.031250         \n",
       "6 222.6842             743.0877         2329.649 1.070175         \n",
       "  TotalMinutesAsleep TotalTimeInBed\n",
       "1 452.7455           503.5091      \n",
       "2 419.5000           457.3478      \n",
       "3 404.5385           443.2923      \n",
       "4 434.6818           470.0303      \n",
       "5 401.2969           434.8750      \n",
       "6 405.4211           445.0526      "
      ]
     },
     "metadata": {},
     "output_type": "display_data"
    }
   ],
   "source": [
    "head(grouped_day)"
   ]
  },
  {
   "cell_type": "code",
   "execution_count": 21,
   "id": "da2c04eb",
   "metadata": {
    "scrolled": true
   },
   "outputs": [
    {
     "name": "stderr",
     "output_type": "stream",
     "text": [
      "`geom_smooth()` using method = 'loess' and formula 'y ~ x'\n"
     ]
    },
    {
     "data": {
      "image/png": "[encoded data removed]",
      "text/plain": [
       "plot without title"
      ]
     },
     "metadata": {},
     "output_type": "display_data"
    }
   ],
   "source": [
    "# Visualization\n",
    "options(repr.plot.width = 5, repr.plot.height = 5)\n",
    "ggplot(data=daily_activity, aes(x=TotalSteps, y=Calories)) + \n",
    "geom_point() + geom_smooth() + labs(title=\"Total Steps vs. Calories\",\n",
    "                                    x = \"Total Steps\", y = \"Calories\") +\n",
    "theme(plot.title=element_text(hjust=0.5, size=15))"
   ]
  },
  {
   "cell_type": "markdown",
   "id": "602ccb6e",
   "metadata": {},
   "source": [
    "**What's the relationship between total steps and burned calories?** <br />\n",
    "Data visualization shows positive correlation between total steps and calories. It’s clear that we burn more calories as we took more steps."
   ]
  },
  {
   "cell_type": "code",
   "execution_count": 22,
   "id": "5903392c",
   "metadata": {},
   "outputs": [
    {
     "name": "stderr",
     "output_type": "stream",
     "text": [
      "Warning message:\n",
      "\"package 'gridExtra' was built under R version 3.6.3\"\n",
      "Attaching package: 'gridExtra'\n",
      "\n",
      "The following object is masked from 'package:dplyr':\n",
      "\n",
      "    combine\n",
      "\n"
     ]
    }
   ],
   "source": [
    "library(gridExtra)"
   ]
  },
  {
   "cell_type": "code",
   "execution_count": 23,
   "id": "cca5d57d",
   "metadata": {},
   "outputs": [],
   "source": [
    "very_active_calories <- ggplot(data=daily_activity, aes(x=VeryActiveMinutes, y=Calories)) + \n",
    "geom_point() + labs(title=\"Very Active Minutes vs. Calories\",\n",
    "                                    x = \"Very Active Minutes\", y = \"Calories\") +\n",
    "theme(plot.title=element_text(hjust=0.5), text=element_text(size=8))\n",
    "\n",
    "fairly_active_calories <- ggplot(data=daily_activity, aes(x=FairlyActiveMinutes, y=Calories)) + \n",
    "geom_point() + labs(title=\"Fairly Active Minutes vs. Calories\",\n",
    "                                    x = \"Fairly Active Minutes\", y = \"Calories\") +\n",
    "theme(plot.title=element_text(hjust=0.5), text=element_text(size=8))\n",
    "\n",
    "lightly_active_calories <- ggplot(data=daily_activity, aes(x=LightlyActiveMinutes, y=Calories)) + \n",
    "geom_point() + labs(title=\"Lightly Active Minutes vs. Calories\",\n",
    "                                    x = \"Lightly Active Minutes\", y = \"Calories\") +\n",
    "theme(plot.title=element_text(hjust=0.5), text=element_text(size=8))\n",
    "\n",
    "sedentary_calories <- ggplot(data=daily_activity, aes(x=SedentaryMinutes, y=Calories)) + \n",
    "geom_point() + labs(title=\"Sedentary Minutes vs. Calories\",\n",
    "                                    x = \"Sedentary Minutes\", y = \"Calories\") +\n",
    "theme(plot.title=element_text(hjust=0.5), text=element_text(size=8))"
   ]
  },
  {
   "cell_type": "code",
   "execution_count": 24,
   "id": "b587694d",
   "metadata": {
    "scrolled": true
   },
   "outputs": [
    {
     "data": {
      "image/png": "[encoded data removed]",
      "text/plain": [
       "plot without title"
      ]
     },
     "metadata": {},
     "output_type": "display_data"
    }
   ],
   "source": [
    "options(repr.plot.width = 6, repr.plot.height = 6)\n",
    "grid.arrange(very_active_calories, fairly_active_calories, lightly_active_calories, sedentary_calories,\n",
    "             ncol=2, nrow =2)"
   ]
  },
  {
   "cell_type": "markdown",
   "id": "ffc93938",
   "metadata": {},
   "source": [
    "The calories burned tend to have positive relationship with active minutes."
   ]
  },
  {
   "cell_type": "code",
   "execution_count": 25,
   "id": "b721e0d7",
   "metadata": {},
   "outputs": [],
   "source": [
    "intensities_summary <- hourly_intensities  %>% \n",
    "group_by(time) %>% \n",
    "summarise(average_int = mean(TotalIntensity), min_int = min(TotalIntensity), max_int = max(TotalIntensity))"
   ]
  },
  {
   "cell_type": "code",
   "execution_count": 26,
   "id": "a7407b9f",
   "metadata": {},
   "outputs": [
    {
     "data": {
      "text/html": [
       "<table>\n",
       "<thead><tr><th scope=col>time</th><th scope=col>average_int</th><th scope=col>min_int</th><th scope=col>max_int</th></tr></thead>\n",
       "<tbody>\n",
       "\t<tr><td>00:00:00 </td><td>2.1295503</td><td>0        </td><td> 55      </td></tr>\n",
       "\t<tr><td>01:00:00 </td><td>1.4190782</td><td>0        </td><td> 97      </td></tr>\n",
       "\t<tr><td>02:00:00 </td><td>1.0439443</td><td>0        </td><td>118      </td></tr>\n",
       "\t<tr><td>03:00:00 </td><td>0.4437299</td><td>0        </td><td> 35      </td></tr>\n",
       "\t<tr><td>04:00:00 </td><td>0.6330472</td><td>0        </td><td> 32      </td></tr>\n",
       "\t<tr><td>05:00:00 </td><td>4.9506438</td><td>0        </td><td>165      </td></tr>\n",
       "</tbody>\n",
       "</table>\n"
      ],
      "text/latex": [
       "\\begin{tabular}{r|llll}\n",
       " time & average\\_int & min\\_int & max\\_int\\\\\n",
       "\\hline\n",
       "\t 00:00:00  & 2.1295503 & 0         &  55      \\\\\n",
       "\t 01:00:00  & 1.4190782 & 0         &  97      \\\\\n",
       "\t 02:00:00  & 1.0439443 & 0         & 118      \\\\\n",
       "\t 03:00:00  & 0.4437299 & 0         &  35      \\\\\n",
       "\t 04:00:00  & 0.6330472 & 0         &  32      \\\\\n",
       "\t 05:00:00  & 4.9506438 & 0         & 165      \\\\\n",
       "\\end{tabular}\n"
      ],
      "text/markdown": [
       "\n",
       "| time | average_int | min_int | max_int |\n",
       "|---|---|---|---|\n",
       "| 00:00:00  | 2.1295503 | 0         |  55       |\n",
       "| 01:00:00  | 1.4190782 | 0         |  97       |\n",
       "| 02:00:00  | 1.0439443 | 0         | 118       |\n",
       "| 03:00:00  | 0.4437299 | 0         |  35       |\n",
       "| 04:00:00  | 0.6330472 | 0         |  32       |\n",
       "| 05:00:00  | 4.9506438 | 0         | 165       |\n",
       "\n"
      ],
      "text/plain": [
       "  time     average_int min_int max_int\n",
       "1 00:00:00 2.1295503   0        55    \n",
       "2 01:00:00 1.4190782   0        97    \n",
       "3 02:00:00 1.0439443   0       118    \n",
       "4 03:00:00 0.4437299   0        35    \n",
       "5 04:00:00 0.6330472   0        32    \n",
       "6 05:00:00 4.9506438   0       165    "
      ]
     },
     "metadata": {},
     "output_type": "display_data"
    }
   ],
   "source": [
    "head(intensities_summary)"
   ]
  },
  {
   "cell_type": "code",
   "execution_count": 27,
   "id": "719d0a93",
   "metadata": {
    "scrolled": true
   },
   "outputs": [
    {
     "name": "stderr",
     "output_type": "stream",
     "text": [
      "Warning message:\n",
      "\"Ignoring unknown parameters: binwidth, bins, pad\""
     ]
    },
    {
     "data": {
      "image/png": "[encoded data removed]",
      "text/plain": [
       "plot without title"
      ]
     },
     "metadata": {},
     "output_type": "display_data"
    }
   ],
   "source": [
    "options(repr.plot.width = 5, repr.plot.height = 5)\n",
    "ggplot(data=intensities_summary, aes(x=time, y=average_int)) +\n",
    "geom_histogram(stat = \"identity\", fill='skyblue', alpha=0.9) +\n",
    "theme(axis.text.x = element_text(angle = 90)) +\n",
    "labs(title=\"Average Total Intensity vs. Time\", y = \"Average Total Intensity\") +\n",
    "theme(plot.title=element_text(hjust=0.5, size=15), axis.title.x = element_blank())"
   ]
  },
  {
   "attachments": {},
   "cell_type": "markdown",
   "id": "61e3809f",
   "metadata": {},
   "source": [
    "From this distribution, we know that participant tend to do activities from  05:00 – 23.00 and most of intensities took time from 17.00 - 19.00"
   ]
  },
  {
   "cell_type": "code",
   "execution_count": 28,
   "id": "694da0b5",
   "metadata": {
    "scrolled": true
   },
   "outputs": [
    {
     "data": {
      "image/png": "[encoded data removed]",
      "text/plain": [
       "plot without title"
      ]
     },
     "metadata": {},
     "output_type": "display_data"
    }
   ],
   "source": [
    "options(repr.plot.width = 5, repr.plot.height = 5)\n",
    "ggplot(data=daily_activity, aes(x=TotalSteps, y=SedentaryMinutes)) + geom_point() +\n",
    "labs(title=\"Total Steps vs. Sedentary Minutes\",\n",
    "                    x = \"Total Steps\", y = \"Sedentary Minutes\") +\n",
    "theme(plot.title=element_text(hjust=0.5, size=15))"
   ]
  },
  {
   "cell_type": "markdown",
   "id": "ab37c8cb",
   "metadata": {},
   "source": [
    "**What's the relationship between steps taken in a day and sedentary minutes? How could this help inform the customer segments that we can market to?**<br />\n",
    "It shows negative relationship between total steps and sedentary minutes which means the greater participant took daily steps, the less sedentary minutes is.\n",
    "Bellabeat can encourage their customer to increase their daily steps in order to decrease the sedentary minutes."
   ]
  },
  {
   "cell_type": "markdown",
   "id": "1bf45374",
   "metadata": {},
   "source": [
    "After this, we can combine several plots comparing day of week with total steps, calories, very active minutes, and sedentary minutes."
   ]
  },
  {
   "cell_type": "code",
   "execution_count": 29,
   "id": "db04923e",
   "metadata": {
    "scrolled": true
   },
   "outputs": [],
   "source": [
    "step_day <- ggplot(data=grouped_day) +\n",
    "geom_bar(aes(x = day_of_week, y = TotalSteps),\n",
    "           stat = 'identity',\n",
    "           fill=\"darkred\",\n",
    "           alpha=0.9) +\n",
    "labs(title=\"Total Steps vs. Day of Week\", x = \"Day of Week\", y = \"Total Steps\") +\n",
    "theme(plot.title=element_text(hjust=0.5), text=element_text(size=8)) +\n",
    "scale_x_discrete(limits = c(\"1\", \"2\", \"3\", \"4\", \"5\", \"6\", \"7\"),\n",
    "                 labels = c(\"Sun\", \"Mon\", \"Tue\", \"Wed\", \"Thu\", \"Fri\", \"Sat\"))\n",
    "\n",
    "calories_day <- ggplot(data=grouped_day) +\n",
    "  geom_bar(aes(x = day_of_week, y = Calories),\n",
    "           stat = 'identity',\n",
    "           fill=\"darkgreen\",\n",
    "           alpha=0.9) +\n",
    "labs(title=\"Calories Burned vs. Day of Week\", x = \"Day of Week\", y = \"Calories Burned\") +\n",
    "theme(plot.title=element_text(hjust=0.5), text=element_text(size=8)) +\n",
    "scale_x_discrete(limits = c(\"1\", \"2\", \"3\", \"4\", \"5\", \"6\", \"7\"),\n",
    "                 labels = c(\"Sun\", \"Mon\", \"Tue\", \"Wed\", \"Thu\", \"Fri\", \"Sat\"))\n",
    "\n",
    "active_day <- ggplot(data=grouped_day) +\n",
    "  geom_bar(aes(x = day_of_week, y = VeryActiveMinutes),\n",
    "           stat = 'identity',\n",
    "           fill=\"orange\",\n",
    "           alpha=0.9) +\n",
    "labs(title=\"Very Active Minutes vs. Day of Week\", x = \"Day of Week\", y = \"Very Active Minutes\") +\n",
    "theme(plot.title=element_text(hjust=0.5), text=element_text(size=8)) +\n",
    "scale_x_discrete(limits = c(\"1\", \"2\", \"3\", \"4\", \"5\", \"6\", \"7\"),\n",
    "                 labels = c(\"Sun\", \"Mon\", \"Tue\", \"Wed\", \"Thu\", \"Fri\", \"Sat\"))\n",
    "\n",
    "sedentary_day <- ggplot(data=grouped_day) +\n",
    "  geom_bar(aes(x = day_of_week, y = SedentaryMinutes),\n",
    "           stat = 'identity',\n",
    "           fill=\"darkblue\",\n",
    "           alpha=0.9) +\n",
    "labs(title=\"Sedentary Minutes vs. Day of Week\", x = \"Day of Week\", y = \"Sedentary Minutes\") +\n",
    "theme(plot.title=element_text(hjust=0.5), text=element_text(size=8)) +\n",
    "scale_x_discrete(limits = c(\"1\", \"2\", \"3\", \"4\", \"5\", \"6\", \"7\"),\n",
    "                 labels = c(\"Sun\", \"Mon\", \"Tue\", \"Wed\", \"Thu\", \"Fri\", \"Sat\"))"
   ]
  },
  {
   "cell_type": "code",
   "execution_count": 30,
   "id": "2e7337af",
   "metadata": {},
   "outputs": [
    {
     "data": {
      "image/png": "[encoded data removed]",
      "text/plain": [
       "plot without title"
      ]
     },
     "metadata": {},
     "output_type": "display_data"
    }
   ],
   "source": [
    "options(repr.plot.width = 5, repr.plot.height = 5)\n",
    "grid.arrange(step_day, calories_day, active_day, sedentary_day, ncol=2, nrow =2)"
   ]
  },
  {
   "cell_type": "markdown",
   "id": "60927845",
   "metadata": {},
   "source": [
    "Within a week, the highest total steps took in Saturday, almost 10000 steps. Looks like the burned calories also have the highest values in Saturday. What about very active minutes? These graphs show that Monday and Tuesday become the  days with most of participant very active."
   ]
  },
  {
   "cell_type": "code",
   "execution_count": 31,
   "id": "727f4624",
   "metadata": {
    "scrolled": true
   },
   "outputs": [
    {
     "data": {
      "image/png": "[encoded data removed]",
      "text/plain": [
       "plot without title"
      ]
     },
     "metadata": {},
     "output_type": "display_data"
    }
   ],
   "source": [
    "options(repr.plot.width = 5, repr.plot.height = 5)\n",
    "ggplot(data=sleep_day, aes(x=TotalMinutesAsleep, y=TotalTimeInBed)) +\n",
    "geom_point() + labs(title=\"Total Minutes Asleep vs. Total Time in Bed\",\n",
    "                    x = \"Total Minutes Asleep\", y = \"Total Time in Bed\") +\n",
    "theme(plot.title=element_text(hjust=0.5, size=15))"
   ]
  },
  {
   "cell_type": "markdown",
   "id": "ca36b5cd",
   "metadata": {},
   "source": [
    "**What's the relationship between total minutes asleep and time in bed?** <br />\n",
    "Relationship between total minutes asleep and total time in bed is almost linear. "
   ]
  },
  {
   "cell_type": "code",
   "execution_count": 32,
   "id": "4661e0f2",
   "metadata": {
    "scrolled": true
   },
   "outputs": [
    {
     "name": "stderr",
     "output_type": "stream",
     "text": [
      "`geom_smooth()` using method = 'loess' and formula 'y ~ x'\n"
     ]
    },
    {
     "data": {
      "image/png": "[encoded data removed]",
      "text/plain": [
       "plot without title"
      ]
     },
     "metadata": {},
     "output_type": "display_data"
    }
   ],
   "source": [
    "options(repr.plot.width = 5, repr.plot.height = 5)\n",
    "ggplot(data=merged_data, aes(x=TotalMinutesAsleep, y=SedentaryMinutes)) + \n",
    "geom_point(color='darkblue') + geom_smooth() +\n",
    "labs(title=\"Total Minutes Asleep vs. Sedentary Minutes\", x = \"Total Minutes Asleep\", y = \"Sedentary Minutes\") +\n",
    "theme(plot.title=element_text(hjust=0.5, size=15))"
   ]
  },
  {
   "cell_type": "markdown",
   "id": "ccb05983",
   "metadata": {},
   "source": [
    "**What's the relationship between total minutes asleep and sedentary minutes?** <br />\n",
    "It's negative relationship between those two categories. The greater total minutes asleep by participant, the less its sedentary minutes."
   ]
  },
  {
   "cell_type": "code",
   "execution_count": 33,
   "id": "c20508b0",
   "metadata": {
    "scrolled": true
   },
   "outputs": [
    {
     "name": "stderr",
     "output_type": "stream",
     "text": [
      "Warning message:\n",
      "\"Removed 16 rows containing non-finite values (stat_bin).\"Warning message:\n",
      "\"Removed 2 rows containing missing values (geom_bar).\""
     ]
    },
    {
     "data": {
      "image/png": "[encoded data removed]",
      "text/plain": [
       "plot without title"
      ]
     },
     "metadata": {},
     "output_type": "display_data"
    }
   ],
   "source": [
    "options(repr.plot.width = 5, repr.plot.height = 5)\n",
    "ggplot(data = sleep_day, aes(x=TotalTimeInBed/60)) +\n",
    "geom_histogram(binwidth=1, fill=\"#69b3a2\", color=\"#e9ecef\", alpha=0.9) +\n",
    "labs(title=\"Distribution of Total Time in Bed (Hours)\", x = \"Total Time in Bed\", y = \"Count\") +\n",
    "xlim(c(2, 15))"
   ]
  },
  {
   "cell_type": "markdown",
   "id": "a79f6a1e",
   "metadata": {},
   "source": [
    "Averaging a sleep of 7.64 hours with a deviation 2.12"
   ]
  },
  {
   "cell_type": "code",
   "execution_count": 34,
   "id": "95c1df64",
   "metadata": {},
   "outputs": [
    {
     "data": {
      "text/html": [
       "<table>\n",
       "<thead><tr><th scope=col>mean</th><th scope=col>median</th><th scope=col>std</th><th scope=col>max</th><th scope=col>min</th></tr></thead>\n",
       "<tbody>\n",
       "\t<tr><td>7.64 </td><td>7.72 </td><td>2.12 </td><td>16.02</td><td>1.02 </td></tr>\n",
       "</tbody>\n",
       "</table>\n"
      ],
      "text/latex": [
       "\\begin{tabular}{r|lllll}\n",
       " mean & median & std & max & min\\\\\n",
       "\\hline\n",
       "\t 7.64  & 7.72  & 2.12  & 16.02 & 1.02 \\\\\n",
       "\\end{tabular}\n"
      ],
      "text/markdown": [
       "\n",
       "| mean | median | std | max | min |\n",
       "|---|---|---|---|---|\n",
       "| 7.64  | 7.72  | 2.12  | 16.02 | 1.02  |\n",
       "\n"
      ],
      "text/plain": [
       "  mean median std  max   min \n",
       "1 7.64 7.72   2.12 16.02 1.02"
      ]
     },
     "metadata": {},
     "output_type": "display_data"
    }
   ],
   "source": [
    "mean = c(round(mean(sleep_day$TotalTimeInBed/60),2))\n",
    "median = c(round(median(sleep_day$TotalTimeInBed/60),2))\n",
    "std = c(round(sd(sleep_day$TotalTimeInBed/60),2))\n",
    "max = c(round(max(sleep_day$TotalTimeInBed/60),2))\n",
    "min = c(round(min(sleep_day$TotalTimeInBed/60),2))\n",
    "df <- data.frame(mean, median, std, max, min)\n",
    "df"
   ]
  },
  {
   "cell_type": "code",
   "execution_count": 35,
   "id": "4db7e0bd",
   "metadata": {},
   "outputs": [],
   "source": [
    "sleep_minutes <- sleep_day %>% \n",
    "group_by(SleepDay) %>% \n",
    "summarise(average_sleep = mean(TotalMinutesAsleep))"
   ]
  },
  {
   "cell_type": "code",
   "execution_count": 36,
   "id": "a84811d7",
   "metadata": {
    "scrolled": false
   },
   "outputs": [
    {
     "data": {
      "image/png": "[encoded data removed]",
      "text/plain": [
       "plot without title"
      ]
     },
     "metadata": {},
     "output_type": "display_data"
    }
   ],
   "source": [
    "options(repr.plot.width = 5, repr.plot.height = 3)\n",
    "ggplot(data = sleep_minutes, aes(x = SleepDay, y = average_sleep), group=1) +\n",
    "geom_line(linetype=\"solid\", color=\"navy\", size=1, alpha=0.7) +\n",
    "geom_point(color=\"navy\") +\n",
    "labs(title=\"Average of Total Minutes Asleep\", y = \"Total Minutes Asleep\") +\n",
    "theme(plot.title=element_text(hjust=0.5, size=13),\n",
    "      axis.title.x = element_blank())"
   ]
  },
  {
   "cell_type": "markdown",
   "id": "5c49587e",
   "metadata": {},
   "source": [
    "Averaging of total minutes asleep of 419.17 minutes or 6.98 hours."
   ]
  }
 ],
 "metadata": {
  "kernelspec": {
   "display_name": "R",
   "language": "R",
   "name": "ir"
  },
  "language_info": {
   "codemirror_mode": "r",
   "file_extension": ".r",
   "mimetype": "text/x-r-source",
   "name": "R",
   "pygments_lexer": "r",
   "version": "3.6.1"
  }
 },
 "nbformat": 4,
 "nbformat_minor": 5
}
