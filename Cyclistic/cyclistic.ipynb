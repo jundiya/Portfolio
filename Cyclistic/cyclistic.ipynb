{
 "cells": [
  {
   "cell_type": "markdown",
   "id": "e5ee4a1a",
   "metadata": {},
   "source": [
    "### About the company\n",
    "Cyclistic, a fictional company, launched as a bike-share oﬀering. Cyclistic sets itself apart by also oﬀering reclining bikes, hand tricycles, and cargo bikes, making bike-share more inclusive to people with disabilities and riders who can’t use a standard two-wheeled bike. Cyclistic has two kind of customers, cyclistic members and casual riders involves single-ride passes and full-day passes.<br/>\n",
    "As the growth of the company, cyclistic’s ﬁnance analysts have concluded that annual members are much more proﬁtable than casual riders.  Although the pricing ﬂexibility helps cyclistic attract more customers, Moreno as the director of marketing and manager, believes that maximizing the number of annual members will be key to future growth. Rather than creating a marketing campaign that targets all-new customers, Moreno believes there is a very good chance to convert casual riders into members."
   ]
  },
  {
   "cell_type": "markdown",
   "id": "39c37268",
   "metadata": {},
   "source": [
    "### Business task\n",
    "Design marketing strategies aimed at converting casual riders into annual members."
   ]
  },
  {
   "cell_type": "markdown",
   "id": "470f453d",
   "metadata": {},
   "source": [
    "**Primary stakeholder:**<br/>\n",
    "Cyclistic executive team<br/>\n",
    "**Secondary stakeholders:**<br/>\n",
    "Lily Moreno<br/>\n",
    "Cyclistic marketing analytics team"
   ]
  },
  {
   "cell_type": "markdown",
   "id": "c20b261b",
   "metadata": {},
   "source": [
    "### Question to answer\n",
    "1. How do annual members and casual riders use Cyclistic bikes diﬀerently?\n",
    "2. Why would casual riders buy Cyclistic annual memberships?\n",
    "3. How can Cyclistic use digital media to inﬂuence casual riders to become members? "
   ]
  },
  {
   "cell_type": "code",
   "execution_count": 1,
   "id": "efc03163",
   "metadata": {},
   "outputs": [
    {
     "name": "stderr",
     "output_type": "stream",
     "text": [
      "Registered S3 methods overwritten by 'tibble':\n",
      "  method     from  \n",
      "  format.tbl pillar\n",
      "  print.tbl  pillar\n",
      "-- Attaching packages --------------------------------------- tidyverse 1.2.1 --\n",
      "v ggplot2 3.3.5       v purrr   0.3.2  \n",
      "v tibble  2.1.1       v dplyr   0.8.0.1\n",
      "v tidyr   0.8.3       v stringr 1.4.0  \n",
      "v readr   1.3.1       v forcats 0.4.0  \n",
      "-- Conflicts ------------------------------------------ tidyverse_conflicts() --\n",
      "x dplyr::filter() masks stats::filter()\n",
      "x dplyr::lag()    masks stats::lag()\n",
      "\n",
      "Attaching package: 'lubridate'\n",
      "\n",
      "The following object is masked from 'package:base':\n",
      "\n",
      "    date\n",
      "\n"
     ]
    }
   ],
   "source": [
    "# Load packages\n",
    "library(tidyverse)\n",
    "library(lubridate)\n",
    "library(ggplot2)"
   ]
  },
  {
   "cell_type": "markdown",
   "id": "176db1e6",
   "metadata": {},
   "source": [
    "**STEP 1: DATA COLLECTION**"
   ]
  },
  {
   "cell_type": "code",
   "execution_count": 2,
   "id": "1545151f",
   "metadata": {},
   "outputs": [
    {
     "name": "stderr",
     "output_type": "stream",
     "text": [
      "Parsed with column specification:\n",
      "cols(\n",
      "  `01 - Rental Details Rental ID` = col_double(),\n",
      "  `01 - Rental Details Local Start Time` = col_datetime(format = \"\"),\n",
      "  `01 - Rental Details Local End Time` = col_datetime(format = \"\"),\n",
      "  `01 - Rental Details Bike ID` = col_double(),\n",
      "  `01 - Rental Details Duration In Seconds Uncapped` = col_number(),\n",
      "  `03 - Rental Start Station ID` = col_double(),\n",
      "  `03 - Rental Start Station Name` = col_character(),\n",
      "  `02 - Rental End Station ID` = col_double(),\n",
      "  `02 - Rental End Station Name` = col_character(),\n",
      "  `User Type` = col_character(),\n",
      "  `Member Gender` = col_character(),\n",
      "  `05 - Member Details Member Birthday Year` = col_double()\n",
      ")\n",
      "Parsed with column specification:\n",
      "cols(\n",
      "  trip_id = col_double(),\n",
      "  start_time = col_datetime(format = \"\"),\n",
      "  end_time = col_datetime(format = \"\"),\n",
      "  bikeid = col_double(),\n",
      "  tripduration = col_number(),\n",
      "  from_station_id = col_double(),\n",
      "  from_station_name = col_character(),\n",
      "  to_station_id = col_double(),\n",
      "  to_station_name = col_character(),\n",
      "  usertype = col_character(),\n",
      "  gender = col_character(),\n",
      "  birthyear = col_double()\n",
      ")\n",
      "Parsed with column specification:\n",
      "cols(\n",
      "  trip_id = col_double(),\n",
      "  start_time = col_datetime(format = \"\"),\n",
      "  end_time = col_datetime(format = \"\"),\n",
      "  bikeid = col_double(),\n",
      "  tripduration = col_number(),\n",
      "  from_station_id = col_double(),\n",
      "  from_station_name = col_character(),\n",
      "  to_station_id = col_double(),\n",
      "  to_station_name = col_character(),\n",
      "  usertype = col_character(),\n",
      "  gender = col_character(),\n",
      "  birthyear = col_double()\n",
      ")\n",
      "Parsed with column specification:\n",
      "cols(\n",
      "  ride_id = col_character(),\n",
      "  rideable_type = col_character(),\n",
      "  started_at = col_datetime(format = \"\"),\n",
      "  ended_at = col_datetime(format = \"\"),\n",
      "  start_station_name = col_character(),\n",
      "  start_station_id = col_double(),\n",
      "  end_station_name = col_character(),\n",
      "  end_station_id = col_double(),\n",
      "  start_lat = col_double(),\n",
      "  start_lng = col_double(),\n",
      "  end_lat = col_double(),\n",
      "  end_lng = col_double(),\n",
      "  member_casual = col_character()\n",
      ")\n"
     ]
    }
   ],
   "source": [
    "# Import data\n",
    "q2_2019 <- read_csv(\"Divvy_Trips_2019_Q2.csv\")\n",
    "q3_2019 <- read_csv(\"Divvy_Trips_2019_Q3.csv\")\n",
    "q4_2019 <- read_csv(\"Divvy_Trips_2019_Q4.csv\")\n",
    "q1_2020 <- read_csv(\"Divvy_Trips_2020_Q1.csv\")"
   ]
  },
  {
   "cell_type": "markdown",
   "id": "37cb1d34",
   "metadata": {},
   "source": [
    "**STEP 2: DATA WRANGLING**"
   ]
  },
  {
   "cell_type": "code",
   "execution_count": 3,
   "id": "33ceb57f",
   "metadata": {},
   "outputs": [
    {
     "data": {
      "text/html": [
       "<ol class=list-inline>\n",
       "\t<li>'01 - Rental Details Rental ID'</li>\n",
       "\t<li>'01 - Rental Details Local Start Time'</li>\n",
       "\t<li>'01 - Rental Details Local End Time'</li>\n",
       "\t<li>'01 - Rental Details Bike ID'</li>\n",
       "\t<li>'01 - Rental Details Duration In Seconds Uncapped'</li>\n",
       "\t<li>'03 - Rental Start Station ID'</li>\n",
       "\t<li>'03 - Rental Start Station Name'</li>\n",
       "\t<li>'02 - Rental End Station ID'</li>\n",
       "\t<li>'02 - Rental End Station Name'</li>\n",
       "\t<li>'User Type'</li>\n",
       "\t<li>'Member Gender'</li>\n",
       "\t<li>'05 - Member Details Member Birthday Year'</li>\n",
       "</ol>\n"
      ],
      "text/latex": [
       "\\begin{enumerate*}\n",
       "\\item '01 - Rental Details Rental ID'\n",
       "\\item '01 - Rental Details Local Start Time'\n",
       "\\item '01 - Rental Details Local End Time'\n",
       "\\item '01 - Rental Details Bike ID'\n",
       "\\item '01 - Rental Details Duration In Seconds Uncapped'\n",
       "\\item '03 - Rental Start Station ID'\n",
       "\\item '03 - Rental Start Station Name'\n",
       "\\item '02 - Rental End Station ID'\n",
       "\\item '02 - Rental End Station Name'\n",
       "\\item 'User Type'\n",
       "\\item 'Member Gender'\n",
       "\\item '05 - Member Details Member Birthday Year'\n",
       "\\end{enumerate*}\n"
      ],
      "text/markdown": [
       "1. '01 - Rental Details Rental ID'\n",
       "2. '01 - Rental Details Local Start Time'\n",
       "3. '01 - Rental Details Local End Time'\n",
       "4. '01 - Rental Details Bike ID'\n",
       "5. '01 - Rental Details Duration In Seconds Uncapped'\n",
       "6. '03 - Rental Start Station ID'\n",
       "7. '03 - Rental Start Station Name'\n",
       "8. '02 - Rental End Station ID'\n",
       "9. '02 - Rental End Station Name'\n",
       "10. 'User Type'\n",
       "11. 'Member Gender'\n",
       "12. '05 - Member Details Member Birthday Year'\n",
       "\n",
       "\n"
      ],
      "text/plain": [
       " [1] \"01 - Rental Details Rental ID\"                   \n",
       " [2] \"01 - Rental Details Local Start Time\"            \n",
       " [3] \"01 - Rental Details Local End Time\"              \n",
       " [4] \"01 - Rental Details Bike ID\"                     \n",
       " [5] \"01 - Rental Details Duration In Seconds Uncapped\"\n",
       " [6] \"03 - Rental Start Station ID\"                    \n",
       " [7] \"03 - Rental Start Station Name\"                  \n",
       " [8] \"02 - Rental End Station ID\"                      \n",
       " [9] \"02 - Rental End Station Name\"                    \n",
       "[10] \"User Type\"                                       \n",
       "[11] \"Member Gender\"                                   \n",
       "[12] \"05 - Member Details Member Birthday Year\"        "
      ]
     },
     "metadata": {},
     "output_type": "display_data"
    },
    {
     "data": {
      "text/html": [
       "<ol class=list-inline>\n",
       "\t<li>'trip_id'</li>\n",
       "\t<li>'start_time'</li>\n",
       "\t<li>'end_time'</li>\n",
       "\t<li>'bikeid'</li>\n",
       "\t<li>'tripduration'</li>\n",
       "\t<li>'from_station_id'</li>\n",
       "\t<li>'from_station_name'</li>\n",
       "\t<li>'to_station_id'</li>\n",
       "\t<li>'to_station_name'</li>\n",
       "\t<li>'usertype'</li>\n",
       "\t<li>'gender'</li>\n",
       "\t<li>'birthyear'</li>\n",
       "</ol>\n"
      ],
      "text/latex": [
       "\\begin{enumerate*}\n",
       "\\item 'trip\\_id'\n",
       "\\item 'start\\_time'\n",
       "\\item 'end\\_time'\n",
       "\\item 'bikeid'\n",
       "\\item 'tripduration'\n",
       "\\item 'from\\_station\\_id'\n",
       "\\item 'from\\_station\\_name'\n",
       "\\item 'to\\_station\\_id'\n",
       "\\item 'to\\_station\\_name'\n",
       "\\item 'usertype'\n",
       "\\item 'gender'\n",
       "\\item 'birthyear'\n",
       "\\end{enumerate*}\n"
      ],
      "text/markdown": [
       "1. 'trip_id'\n",
       "2. 'start_time'\n",
       "3. 'end_time'\n",
       "4. 'bikeid'\n",
       "5. 'tripduration'\n",
       "6. 'from_station_id'\n",
       "7. 'from_station_name'\n",
       "8. 'to_station_id'\n",
       "9. 'to_station_name'\n",
       "10. 'usertype'\n",
       "11. 'gender'\n",
       "12. 'birthyear'\n",
       "\n",
       "\n"
      ],
      "text/plain": [
       " [1] \"trip_id\"           \"start_time\"        \"end_time\"         \n",
       " [4] \"bikeid\"            \"tripduration\"      \"from_station_id\"  \n",
       " [7] \"from_station_name\" \"to_station_id\"     \"to_station_name\"  \n",
       "[10] \"usertype\"          \"gender\"            \"birthyear\"        "
      ]
     },
     "metadata": {},
     "output_type": "display_data"
    },
    {
     "data": {
      "text/html": [
       "<ol class=list-inline>\n",
       "\t<li>'trip_id'</li>\n",
       "\t<li>'start_time'</li>\n",
       "\t<li>'end_time'</li>\n",
       "\t<li>'bikeid'</li>\n",
       "\t<li>'tripduration'</li>\n",
       "\t<li>'from_station_id'</li>\n",
       "\t<li>'from_station_name'</li>\n",
       "\t<li>'to_station_id'</li>\n",
       "\t<li>'to_station_name'</li>\n",
       "\t<li>'usertype'</li>\n",
       "\t<li>'gender'</li>\n",
       "\t<li>'birthyear'</li>\n",
       "</ol>\n"
      ],
      "text/latex": [
       "\\begin{enumerate*}\n",
       "\\item 'trip\\_id'\n",
       "\\item 'start\\_time'\n",
       "\\item 'end\\_time'\n",
       "\\item 'bikeid'\n",
       "\\item 'tripduration'\n",
       "\\item 'from\\_station\\_id'\n",
       "\\item 'from\\_station\\_name'\n",
       "\\item 'to\\_station\\_id'\n",
       "\\item 'to\\_station\\_name'\n",
       "\\item 'usertype'\n",
       "\\item 'gender'\n",
       "\\item 'birthyear'\n",
       "\\end{enumerate*}\n"
      ],
      "text/markdown": [
       "1. 'trip_id'\n",
       "2. 'start_time'\n",
       "3. 'end_time'\n",
       "4. 'bikeid'\n",
       "5. 'tripduration'\n",
       "6. 'from_station_id'\n",
       "7. 'from_station_name'\n",
       "8. 'to_station_id'\n",
       "9. 'to_station_name'\n",
       "10. 'usertype'\n",
       "11. 'gender'\n",
       "12. 'birthyear'\n",
       "\n",
       "\n"
      ],
      "text/plain": [
       " [1] \"trip_id\"           \"start_time\"        \"end_time\"         \n",
       " [4] \"bikeid\"            \"tripduration\"      \"from_station_id\"  \n",
       " [7] \"from_station_name\" \"to_station_id\"     \"to_station_name\"  \n",
       "[10] \"usertype\"          \"gender\"            \"birthyear\"        "
      ]
     },
     "metadata": {},
     "output_type": "display_data"
    },
    {
     "data": {
      "text/html": [
       "<ol class=list-inline>\n",
       "\t<li>'ride_id'</li>\n",
       "\t<li>'rideable_type'</li>\n",
       "\t<li>'started_at'</li>\n",
       "\t<li>'ended_at'</li>\n",
       "\t<li>'start_station_name'</li>\n",
       "\t<li>'start_station_id'</li>\n",
       "\t<li>'end_station_name'</li>\n",
       "\t<li>'end_station_id'</li>\n",
       "\t<li>'start_lat'</li>\n",
       "\t<li>'start_lng'</li>\n",
       "\t<li>'end_lat'</li>\n",
       "\t<li>'end_lng'</li>\n",
       "\t<li>'member_casual'</li>\n",
       "</ol>\n"
      ],
      "text/latex": [
       "\\begin{enumerate*}\n",
       "\\item 'ride\\_id'\n",
       "\\item 'rideable\\_type'\n",
       "\\item 'started\\_at'\n",
       "\\item 'ended\\_at'\n",
       "\\item 'start\\_station\\_name'\n",
       "\\item 'start\\_station\\_id'\n",
       "\\item 'end\\_station\\_name'\n",
       "\\item 'end\\_station\\_id'\n",
       "\\item 'start\\_lat'\n",
       "\\item 'start\\_lng'\n",
       "\\item 'end\\_lat'\n",
       "\\item 'end\\_lng'\n",
       "\\item 'member\\_casual'\n",
       "\\end{enumerate*}\n"
      ],
      "text/markdown": [
       "1. 'ride_id'\n",
       "2. 'rideable_type'\n",
       "3. 'started_at'\n",
       "4. 'ended_at'\n",
       "5. 'start_station_name'\n",
       "6. 'start_station_id'\n",
       "7. 'end_station_name'\n",
       "8. 'end_station_id'\n",
       "9. 'start_lat'\n",
       "10. 'start_lng'\n",
       "11. 'end_lat'\n",
       "12. 'end_lng'\n",
       "13. 'member_casual'\n",
       "\n",
       "\n"
      ],
      "text/plain": [
       " [1] \"ride_id\"            \"rideable_type\"      \"started_at\"        \n",
       " [4] \"ended_at\"           \"start_station_name\" \"start_station_id\"  \n",
       " [7] \"end_station_name\"   \"end_station_id\"     \"start_lat\"         \n",
       "[10] \"start_lng\"          \"end_lat\"            \"end_lng\"           \n",
       "[13] \"member_casual\"     "
      ]
     },
     "metadata": {},
     "output_type": "display_data"
    }
   ],
   "source": [
    "# Compare column names of each files\n",
    "colnames(q2_2019)\n",
    "colnames(q3_2019)\n",
    "colnames(q4_2019)\n",
    "colnames(q1_2020)"
   ]
  },
  {
   "cell_type": "markdown",
   "id": "153ad036",
   "metadata": {},
   "source": [
    "Before analysis process, each column names should be matched perfectly in order to join them into a single file."
   ]
  },
  {
   "cell_type": "code",
   "execution_count": 4,
   "id": "74d767b6",
   "metadata": {},
   "outputs": [],
   "source": [
    "# Rename columns to make them consisent with q1_2020\n",
    "q2_2019 <- rename(q2_2019, ride_id = \"01 - Rental Details Rental ID\",\n",
    "                   rideable_type = \"01 - Rental Details Bike ID\",\n",
    "                   started_at = \"01 - Rental Details Local Start Time\",\n",
    "                   ended_at = \"01 - Rental Details Local End Time\",\n",
    "                   start_station_name = \"03 - Rental Start Station Name\",\n",
    "                   start_station_id = \"03 - Rental Start Station ID\",\n",
    "                   end_station_name = \"02 - Rental End Station Name\",\n",
    "                   end_station_id = \"02 - Rental End Station ID\",\n",
    "                   member_casual = \"User Type\")\n",
    "q3_2019 <- rename(q3_2019,ride_id = trip_id,\n",
    "                   rideable_type = bikeid,\n",
    "                   started_at = start_time,\n",
    "                   ended_at = end_time,\n",
    "                   start_station_name = from_station_name,\n",
    "                   start_station_id = from_station_id,\n",
    "                   end_station_name = to_station_name,\n",
    "                   end_station_id = to_station_id,\n",
    "                   member_casual = usertype)\n",
    "q4_2019 <- rename(q4_2019,ride_id = trip_id,\n",
    "                   rideable_type = bikeid,\n",
    "                   started_at = start_time,\n",
    "                   ended_at = end_time,\n",
    "                   start_station_name = from_station_name,\n",
    "                   start_station_id = from_station_id,\n",
    "                   end_station_name = to_station_name,\n",
    "                   end_station_id = to_station_id,\n",
    "                   member_casual = usertype)"
   ]
  },
  {
   "cell_type": "code",
   "execution_count": 5,
   "id": "87292edc",
   "metadata": {
    "scrolled": true
   },
   "outputs": [
    {
     "name": "stdout",
     "output_type": "stream",
     "text": [
      "Classes 'spec_tbl_df', 'tbl_df', 'tbl' and 'data.frame':\t426887 obs. of  13 variables:\n",
      " $ ride_id           : chr  \"EACB19130B0CDA4A\" \"8FED874C809DC021\" \"789F3C21E472CA96\" \"C9A388DAC6ABF313\" ...\n",
      " $ rideable_type     : chr  \"docked_bike\" \"docked_bike\" \"docked_bike\" \"docked_bike\" ...\n",
      " $ started_at        : POSIXct, format: \"2020-01-21 20:06:59\" \"2020-01-30 14:22:39\" ...\n",
      " $ ended_at          : POSIXct, format: \"2020-01-21 20:14:30\" \"2020-01-30 14:26:22\" ...\n",
      " $ start_station_name: chr  \"Western Ave & Leland Ave\" \"Clark St & Montrose Ave\" \"Broadway & Belmont Ave\" \"Clark St & Randolph St\" ...\n",
      " $ start_station_id  : num  239 234 296 51 66 212 96 96 212 38 ...\n",
      " $ end_station_name  : chr  \"Clark St & Leland Ave\" \"Southport Ave & Irving Park Rd\" \"Wilton Ave & Belmont Ave\" \"Fairbanks Ct & Grand Ave\" ...\n",
      " $ end_station_id    : num  326 318 117 24 212 96 212 212 96 100 ...\n",
      " $ start_lat         : num  42 42 41.9 41.9 41.9 ...\n",
      " $ start_lng         : num  -87.7 -87.7 -87.6 -87.6 -87.6 ...\n",
      " $ end_lat           : num  42 42 41.9 41.9 41.9 ...\n",
      " $ end_lng           : num  -87.7 -87.7 -87.7 -87.6 -87.6 ...\n",
      " $ member_casual     : chr  \"member\" \"member\" \"member\" \"member\" ...\n",
      " - attr(*, \"spec\")=\n",
      "  .. cols(\n",
      "  ..   ride_id = col_character(),\n",
      "  ..   rideable_type = col_character(),\n",
      "  ..   started_at = col_datetime(format = \"\"),\n",
      "  ..   ended_at = col_datetime(format = \"\"),\n",
      "  ..   start_station_name = col_character(),\n",
      "  ..   start_station_id = col_double(),\n",
      "  ..   end_station_name = col_character(),\n",
      "  ..   end_station_id = col_double(),\n",
      "  ..   start_lat = col_double(),\n",
      "  ..   start_lng = col_double(),\n",
      "  ..   end_lat = col_double(),\n",
      "  ..   end_lng = col_double(),\n",
      "  ..   member_casual = col_character()\n",
      "  .. )\n"
     ]
    }
   ],
   "source": [
    "# Inspect the dataframes and look for incongruencies\n",
    "str(q1_2020)"
   ]
  },
  {
   "cell_type": "code",
   "execution_count": 6,
   "id": "f1a7bc4a",
   "metadata": {
    "scrolled": true
   },
   "outputs": [
    {
     "name": "stdout",
     "output_type": "stream",
     "text": [
      "Classes 'spec_tbl_df', 'tbl_df', 'tbl' and 'data.frame':\t1108163 obs. of  12 variables:\n",
      " $ ride_id                                         : num  22178529 22178530 22178531 22178532 22178533 ...\n",
      " $ started_at                                      : POSIXct, format: \"2019-04-01 00:02:22\" \"2019-04-01 00:03:02\" ...\n",
      " $ ended_at                                        : POSIXct, format: \"2019-04-01 00:09:48\" \"2019-04-01 00:20:30\" ...\n",
      " $ rideable_type                                   : num  6251 6226 5649 4151 3270 ...\n",
      " $ 01 - Rental Details Duration In Seconds Uncapped: num  446 1048 252 357 1007 ...\n",
      " $ start_station_id                                : num  81 317 283 26 202 420 503 260 211 211 ...\n",
      " $ start_station_name                              : chr  \"Daley Center Plaza\" \"Wood St & Taylor St\" \"LaSalle St & Jackson Blvd\" \"McClurg Ct & Illinois St\" ...\n",
      " $ end_station_id                                  : num  56 59 174 133 129 426 500 499 211 211 ...\n",
      " $ end_station_name                                : chr  \"Desplaines St & Kinzie St\" \"Wabash Ave & Roosevelt Rd\" \"Canal St & Madison St\" \"Kingsbury St & Kinzie St\" ...\n",
      " $ member_casual                                   : chr  \"Subscriber\" \"Subscriber\" \"Subscriber\" \"Subscriber\" ...\n",
      " $ Member Gender                                   : chr  \"Male\" \"Female\" \"Male\" \"Male\" ...\n",
      " $ 05 - Member Details Member Birthday Year        : num  1975 1984 1990 1993 1992 ...\n",
      " - attr(*, \"spec\")=\n",
      "  .. cols(\n",
      "  ..   `01 - Rental Details Rental ID` = col_double(),\n",
      "  ..   `01 - Rental Details Local Start Time` = col_datetime(format = \"\"),\n",
      "  ..   `01 - Rental Details Local End Time` = col_datetime(format = \"\"),\n",
      "  ..   `01 - Rental Details Bike ID` = col_double(),\n",
      "  ..   `01 - Rental Details Duration In Seconds Uncapped` = col_number(),\n",
      "  ..   `03 - Rental Start Station ID` = col_double(),\n",
      "  ..   `03 - Rental Start Station Name` = col_character(),\n",
      "  ..   `02 - Rental End Station ID` = col_double(),\n",
      "  ..   `02 - Rental End Station Name` = col_character(),\n",
      "  ..   `User Type` = col_character(),\n",
      "  ..   `Member Gender` = col_character(),\n",
      "  ..   `05 - Member Details Member Birthday Year` = col_double()\n",
      "  .. )\n"
     ]
    }
   ],
   "source": [
    "str(q2_2019)"
   ]
  },
  {
   "cell_type": "code",
   "execution_count": 7,
   "id": "45a8bc11",
   "metadata": {
    "scrolled": true
   },
   "outputs": [
    {
     "name": "stdout",
     "output_type": "stream",
     "text": [
      "Classes 'spec_tbl_df', 'tbl_df', 'tbl' and 'data.frame':\t1640718 obs. of  12 variables:\n",
      " $ ride_id           : num  23479388 23479389 23479390 23479391 23479392 ...\n",
      " $ started_at        : POSIXct, format: \"2019-07-01 00:00:27\" \"2019-07-01 00:01:16\" ...\n",
      " $ ended_at          : POSIXct, format: \"2019-07-01 00:20:41\" \"2019-07-01 00:18:44\" ...\n",
      " $ rideable_type     : num  3591 5353 6180 5540 6014 ...\n",
      " $ tripduration      : num  1214 1048 1554 1503 1213 ...\n",
      " $ start_station_id  : num  117 381 313 313 168 300 168 313 43 43 ...\n",
      " $ start_station_name: chr  \"Wilton Ave & Belmont Ave\" \"Western Ave & Monroe St\" \"Lakeview Ave & Fullerton Pkwy\" \"Lakeview Ave & Fullerton Pkwy\" ...\n",
      " $ end_station_id    : num  497 203 144 144 62 232 62 144 195 195 ...\n",
      " $ end_station_name  : chr  \"Kimball Ave & Belmont Ave\" \"Western Ave & 21st St\" \"Larrabee St & Webster Ave\" \"Larrabee St & Webster Ave\" ...\n",
      " $ member_casual     : chr  \"Subscriber\" \"Customer\" \"Customer\" \"Customer\" ...\n",
      " $ gender            : chr  \"Male\" NA NA NA ...\n",
      " $ birthyear         : num  1992 NA NA NA NA ...\n",
      " - attr(*, \"spec\")=\n",
      "  .. cols(\n",
      "  ..   trip_id = col_double(),\n",
      "  ..   start_time = col_datetime(format = \"\"),\n",
      "  ..   end_time = col_datetime(format = \"\"),\n",
      "  ..   bikeid = col_double(),\n",
      "  ..   tripduration = col_number(),\n",
      "  ..   from_station_id = col_double(),\n",
      "  ..   from_station_name = col_character(),\n",
      "  ..   to_station_id = col_double(),\n",
      "  ..   to_station_name = col_character(),\n",
      "  ..   usertype = col_character(),\n",
      "  ..   gender = col_character(),\n",
      "  ..   birthyear = col_double()\n",
      "  .. )\n"
     ]
    }
   ],
   "source": [
    "str(q3_2019)"
   ]
  },
  {
   "cell_type": "code",
   "execution_count": 8,
   "id": "26a1d249",
   "metadata": {
    "scrolled": true
   },
   "outputs": [
    {
     "name": "stdout",
     "output_type": "stream",
     "text": [
      "Classes 'spec_tbl_df', 'tbl_df', 'tbl' and 'data.frame':\t704054 obs. of  12 variables:\n",
      " $ ride_id           : num  25223640 25223641 25223642 25223643 25223644 ...\n",
      " $ started_at        : POSIXct, format: \"2019-10-01 00:01:39\" \"2019-10-01 00:02:16\" ...\n",
      " $ ended_at          : POSIXct, format: \"2019-10-01 00:17:20\" \"2019-10-01 00:06:34\" ...\n",
      " $ rideable_type     : num  2215 6328 3003 3275 5294 ...\n",
      " $ tripduration      : num  940 258 850 2350 1867 ...\n",
      " $ start_station_id  : num  20 19 84 313 210 156 84 156 156 336 ...\n",
      " $ start_station_name: chr  \"Sheffield Ave & Kingsbury St\" \"Throop (Loomis) St & Taylor St\" \"Milwaukee Ave & Grand Ave\" \"Lakeview Ave & Fullerton Pkwy\" ...\n",
      " $ end_station_id    : num  309 241 199 290 382 226 142 463 463 336 ...\n",
      " $ end_station_name  : chr  \"Leavitt St & Armitage Ave\" \"Morgan St & Polk St\" \"Wabash Ave & Grand Ave\" \"Kedzie Ave & Palmer Ct\" ...\n",
      " $ member_casual     : chr  \"Subscriber\" \"Subscriber\" \"Subscriber\" \"Subscriber\" ...\n",
      " $ gender            : chr  \"Male\" \"Male\" \"Female\" \"Male\" ...\n",
      " $ birthyear         : num  1987 1998 1991 1990 1987 ...\n",
      " - attr(*, \"spec\")=\n",
      "  .. cols(\n",
      "  ..   trip_id = col_double(),\n",
      "  ..   start_time = col_datetime(format = \"\"),\n",
      "  ..   end_time = col_datetime(format = \"\"),\n",
      "  ..   bikeid = col_double(),\n",
      "  ..   tripduration = col_number(),\n",
      "  ..   from_station_id = col_double(),\n",
      "  ..   from_station_name = col_character(),\n",
      "  ..   to_station_id = col_double(),\n",
      "  ..   to_station_name = col_character(),\n",
      "  ..   usertype = col_character(),\n",
      "  ..   gender = col_character(),\n",
      "  ..   birthyear = col_double()\n",
      "  .. )\n"
     ]
    }
   ],
   "source": [
    "str(q4_2019)"
   ]
  },
  {
   "cell_type": "markdown",
   "id": "c5635ee6",
   "metadata": {},
   "source": [
    "In the q1_2020, most of ride_id is combination of numbers and letters and rideable_type is type of the ride which written with letter. We need to transform the other files data types to make them aligned with q1_2020."
   ]
  },
  {
   "cell_type": "code",
   "execution_count": 9,
   "id": "2cc7bc3e",
   "metadata": {},
   "outputs": [],
   "source": [
    "# Convert ride_id and rideable_type to character\n",
    "q2_2019 <-  mutate(q2_2019, ride_id = as.character(ride_id),\n",
    "                   rideable_type = as.character(rideable_type))\n",
    "q3_2019 <-  mutate(q3_2019, ride_id = as.character(ride_id),\n",
    "                   rideable_type = as.character(rideable_type))\n",
    "q4_2019 <-  mutate(q4_2019, ride_id = as.character(ride_id),\n",
    "                   rideable_type = as.character(rideable_type))"
   ]
  },
  {
   "cell_type": "markdown",
   "id": "20e2e08f",
   "metadata": {},
   "source": [
    "**STEP 3: DATA MERGING**"
   ]
  },
  {
   "cell_type": "code",
   "execution_count": 10,
   "id": "6dc64caf",
   "metadata": {},
   "outputs": [],
   "source": [
    "# Join individual quarter's dataframes into a single dataframe\n",
    "all_trips <- bind_rows(q2_2019, q3_2019, q4_2019, q1_2020)"
   ]
  },
  {
   "cell_type": "code",
   "execution_count": 11,
   "id": "31f162a7",
   "metadata": {},
   "outputs": [],
   "source": [
    "# Remove unused columns\n",
    "all_trips <- all_trips %>%  \n",
    "select(-c(start_lat, start_lng, end_lat, end_lng, birthyear, gender,\n",
    "            \"01 - Rental Details Duration In Seconds Uncapped\",\n",
    "            \"05 - Member Details Member Birthday Year\", \"Member Gender\", \"tripduration\"))"
   ]
  },
  {
   "cell_type": "markdown",
   "id": "146441b0",
   "metadata": {},
   "source": [
    "**STEP 4: DATA CLEANING**"
   ]
  },
  {
   "cell_type": "code",
   "execution_count": 12,
   "id": "37cf30fe",
   "metadata": {},
   "outputs": [
    {
     "data": {
      "text/html": [
       "<ol class=list-inline>\n",
       "\t<li>'ride_id'</li>\n",
       "\t<li>'started_at'</li>\n",
       "\t<li>'ended_at'</li>\n",
       "\t<li>'rideable_type'</li>\n",
       "\t<li>'start_station_id'</li>\n",
       "\t<li>'start_station_name'</li>\n",
       "\t<li>'end_station_id'</li>\n",
       "\t<li>'end_station_name'</li>\n",
       "\t<li>'member_casual'</li>\n",
       "</ol>\n"
      ],
      "text/latex": [
       "\\begin{enumerate*}\n",
       "\\item 'ride\\_id'\n",
       "\\item 'started\\_at'\n",
       "\\item 'ended\\_at'\n",
       "\\item 'rideable\\_type'\n",
       "\\item 'start\\_station\\_id'\n",
       "\\item 'start\\_station\\_name'\n",
       "\\item 'end\\_station\\_id'\n",
       "\\item 'end\\_station\\_name'\n",
       "\\item 'member\\_casual'\n",
       "\\end{enumerate*}\n"
      ],
      "text/markdown": [
       "1. 'ride_id'\n",
       "2. 'started_at'\n",
       "3. 'ended_at'\n",
       "4. 'rideable_type'\n",
       "5. 'start_station_id'\n",
       "6. 'start_station_name'\n",
       "7. 'end_station_id'\n",
       "8. 'end_station_name'\n",
       "9. 'member_casual'\n",
       "\n",
       "\n"
      ],
      "text/plain": [
       "[1] \"ride_id\"            \"started_at\"         \"ended_at\"          \n",
       "[4] \"rideable_type\"      \"start_station_id\"   \"start_station_name\"\n",
       "[7] \"end_station_id\"     \"end_station_name\"   \"member_casual\"     "
      ]
     },
     "metadata": {},
     "output_type": "display_data"
    }
   ],
   "source": [
    "# Inspect the new table\n",
    "colnames(all_trips)"
   ]
  },
  {
   "cell_type": "code",
   "execution_count": 13,
   "id": "aa1dfc46",
   "metadata": {},
   "outputs": [
    {
     "data": {
      "text/html": [
       "3879822"
      ],
      "text/latex": [
       "3879822"
      ],
      "text/markdown": [
       "3879822"
      ],
      "text/plain": [
       "[1] 3879822"
      ]
     },
     "metadata": {},
     "output_type": "display_data"
    }
   ],
   "source": [
    "nrow(all_trips)"
   ]
  },
  {
   "cell_type": "code",
   "execution_count": 14,
   "id": "fd13d673",
   "metadata": {},
   "outputs": [
    {
     "data": {
      "text/html": [
       "<ol class=list-inline>\n",
       "\t<li>3879822</li>\n",
       "\t<li>9</li>\n",
       "</ol>\n"
      ],
      "text/latex": [
       "\\begin{enumerate*}\n",
       "\\item 3879822\n",
       "\\item 9\n",
       "\\end{enumerate*}\n"
      ],
      "text/markdown": [
       "1. 3879822\n",
       "2. 9\n",
       "\n",
       "\n"
      ],
      "text/plain": [
       "[1] 3879822       9"
      ]
     },
     "metadata": {},
     "output_type": "display_data"
    }
   ],
   "source": [
    "dim(all_trips)"
   ]
  },
  {
   "cell_type": "code",
   "execution_count": 15,
   "id": "751c1638",
   "metadata": {},
   "outputs": [
    {
     "data": {
      "text/html": [
       "<table>\n",
       "<thead><tr><th scope=col>ride_id</th><th scope=col>started_at</th><th scope=col>ended_at</th><th scope=col>rideable_type</th><th scope=col>start_station_id</th><th scope=col>start_station_name</th><th scope=col>end_station_id</th><th scope=col>end_station_name</th><th scope=col>member_casual</th></tr></thead>\n",
       "<tbody>\n",
       "\t<tr><td>22178529                                                         </td><td>2019-04-01 00:02:22                                              </td><td>2019-04-01 00:09:48                                              </td><td>6251                                                             </td><td> 81                                                              </td><td><span style=white-space:pre-wrap>Daley Center Plaza       </span></td><td> 56                                                              </td><td>Desplaines St &amp; Kinzie St                                    </td><td>Subscriber                                                       </td></tr>\n",
       "\t<tr><td>22178530                                                             </td><td>2019-04-01 00:03:02                                                  </td><td>2019-04-01 00:20:30                                                  </td><td>6226                                                                 </td><td>317                                                                  </td><td><span style=white-space:pre-wrap>Wood St &amp; Taylor St      </span></td><td> 59                                                                  </td><td>Wabash Ave &amp; Roosevelt Rd                                        </td><td>Subscriber                                                           </td></tr>\n",
       "\t<tr><td>22178531                                                             </td><td>2019-04-01 00:11:07                                                  </td><td>2019-04-01 00:15:19                                                  </td><td>5649                                                                 </td><td>283                                                                  </td><td>LaSalle St &amp; Jackson Blvd                                        </td><td>174                                                                  </td><td><span style=white-space:pre-wrap>Canal St &amp; Madison St    </span></td><td>Subscriber                                                           </td></tr>\n",
       "\t<tr><td>22178532                     </td><td>2019-04-01 00:13:01          </td><td>2019-04-01 00:18:58          </td><td>4151                         </td><td> 26                          </td><td>McClurg Ct &amp; Illinois St </td><td>133                          </td><td>Kingsbury St &amp; Kinzie St </td><td>Subscriber                   </td></tr>\n",
       "\t<tr><td>22178533                                                             </td><td>2019-04-01 00:19:26                                                  </td><td>2019-04-01 00:36:13                                                  </td><td>3270                                                                 </td><td>202                                                                  </td><td><span style=white-space:pre-wrap>Halsted St &amp; 18th St     </span></td><td>129                                                                  </td><td>Blue Island Ave &amp; 18th St                                        </td><td>Subscriber                                                           </td></tr>\n",
       "\t<tr><td>22178534                                                             </td><td>2019-04-01 00:19:39                                                  </td><td>2019-04-01 00:23:56                                                  </td><td>3123                                                                 </td><td>420                                                                  </td><td><span style=white-space:pre-wrap>Ellis Ave &amp; 55th St      </span></td><td>426                                                                  </td><td><span style=white-space:pre-wrap>Ellis Ave &amp; 60th St      </span></td><td>Subscriber                                                           </td></tr>\n",
       "</tbody>\n",
       "</table>\n"
      ],
      "text/latex": [
       "\\begin{tabular}{r|lllllllll}\n",
       " ride\\_id & started\\_at & ended\\_at & rideable\\_type & start\\_station\\_id & start\\_station\\_name & end\\_station\\_id & end\\_station\\_name & member\\_casual\\\\\n",
       "\\hline\n",
       "\t 22178529                    & 2019-04-01 00:02:22         & 2019-04-01 00:09:48         & 6251                        &  81                         & Daley Center Plaza          &  56                         & Desplaines St \\& Kinzie St & Subscriber                 \\\\\n",
       "\t 22178530                    & 2019-04-01 00:03:02         & 2019-04-01 00:20:30         & 6226                        & 317                         & Wood St \\& Taylor St       &  59                         & Wabash Ave \\& Roosevelt Rd & Subscriber                 \\\\\n",
       "\t 22178531                    & 2019-04-01 00:11:07         & 2019-04-01 00:15:19         & 5649                        & 283                         & LaSalle St \\& Jackson Blvd & 174                         & Canal St \\& Madison St     & Subscriber                 \\\\\n",
       "\t 22178532                    & 2019-04-01 00:13:01         & 2019-04-01 00:18:58         & 4151                        &  26                         & McClurg Ct \\& Illinois St  & 133                         & Kingsbury St \\& Kinzie St  & Subscriber                 \\\\\n",
       "\t 22178533                    & 2019-04-01 00:19:26         & 2019-04-01 00:36:13         & 3270                        & 202                         & Halsted St \\& 18th St      & 129                         & Blue Island Ave \\& 18th St & Subscriber                 \\\\\n",
       "\t 22178534                    & 2019-04-01 00:19:39         & 2019-04-01 00:23:56         & 3123                        & 420                         & Ellis Ave \\& 55th St       & 426                         & Ellis Ave \\& 60th St       & Subscriber                 \\\\\n",
       "\\end{tabular}\n"
      ],
      "text/markdown": [
       "\n",
       "| ride_id | started_at | ended_at | rideable_type | start_station_id | start_station_name | end_station_id | end_station_name | member_casual |\n",
       "|---|---|---|---|---|---|---|---|---|\n",
       "| 22178529                  | 2019-04-01 00:02:22       | 2019-04-01 00:09:48       | 6251                      |  81                       | Daley Center Plaza        |  56                       | Desplaines St & Kinzie St | Subscriber                |\n",
       "| 22178530                  | 2019-04-01 00:03:02       | 2019-04-01 00:20:30       | 6226                      | 317                       | Wood St & Taylor St       |  59                       | Wabash Ave & Roosevelt Rd | Subscriber                |\n",
       "| 22178531                  | 2019-04-01 00:11:07       | 2019-04-01 00:15:19       | 5649                      | 283                       | LaSalle St & Jackson Blvd | 174                       | Canal St & Madison St     | Subscriber                |\n",
       "| 22178532                  | 2019-04-01 00:13:01       | 2019-04-01 00:18:58       | 4151                      |  26                       | McClurg Ct & Illinois St  | 133                       | Kingsbury St & Kinzie St  | Subscriber                |\n",
       "| 22178533                  | 2019-04-01 00:19:26       | 2019-04-01 00:36:13       | 3270                      | 202                       | Halsted St & 18th St      | 129                       | Blue Island Ave & 18th St | Subscriber                |\n",
       "| 22178534                  | 2019-04-01 00:19:39       | 2019-04-01 00:23:56       | 3123                      | 420                       | Ellis Ave & 55th St       | 426                       | Ellis Ave & 60th St       | Subscriber                |\n",
       "\n"
      ],
      "text/plain": [
       "  ride_id  started_at          ended_at            rideable_type\n",
       "1 22178529 2019-04-01 00:02:22 2019-04-01 00:09:48 6251         \n",
       "2 22178530 2019-04-01 00:03:02 2019-04-01 00:20:30 6226         \n",
       "3 22178531 2019-04-01 00:11:07 2019-04-01 00:15:19 5649         \n",
       "4 22178532 2019-04-01 00:13:01 2019-04-01 00:18:58 4151         \n",
       "5 22178533 2019-04-01 00:19:26 2019-04-01 00:36:13 3270         \n",
       "6 22178534 2019-04-01 00:19:39 2019-04-01 00:23:56 3123         \n",
       "  start_station_id start_station_name        end_station_id\n",
       "1  81              Daley Center Plaza         56           \n",
       "2 317              Wood St & Taylor St        59           \n",
       "3 283              LaSalle St & Jackson Blvd 174           \n",
       "4  26              McClurg Ct & Illinois St  133           \n",
       "5 202              Halsted St & 18th St      129           \n",
       "6 420              Ellis Ave & 55th St       426           \n",
       "  end_station_name          member_casual\n",
       "1 Desplaines St & Kinzie St Subscriber   \n",
       "2 Wabash Ave & Roosevelt Rd Subscriber   \n",
       "3 Canal St & Madison St     Subscriber   \n",
       "4 Kingsbury St & Kinzie St  Subscriber   \n",
       "5 Blue Island Ave & 18th St Subscriber   \n",
       "6 Ellis Ave & 60th St       Subscriber   "
      ]
     },
     "metadata": {},
     "output_type": "display_data"
    }
   ],
   "source": [
    "head(all_trips)"
   ]
  },
  {
   "cell_type": "code",
   "execution_count": 16,
   "id": "a3faad71",
   "metadata": {
    "scrolled": true
   },
   "outputs": [
    {
     "name": "stdout",
     "output_type": "stream",
     "text": [
      "Classes 'spec_tbl_df', 'tbl_df', 'tbl' and 'data.frame':\t3879822 obs. of  9 variables:\n",
      " $ ride_id           : chr  \"22178529\" \"22178530\" \"22178531\" \"22178532\" ...\n",
      " $ started_at        : POSIXct, format: \"2019-04-01 00:02:22\" \"2019-04-01 00:03:02\" ...\n",
      " $ ended_at          : POSIXct, format: \"2019-04-01 00:09:48\" \"2019-04-01 00:20:30\" ...\n",
      " $ rideable_type     : chr  \"6251\" \"6226\" \"5649\" \"4151\" ...\n",
      " $ start_station_id  : num  81 317 283 26 202 420 503 260 211 211 ...\n",
      " $ start_station_name: chr  \"Daley Center Plaza\" \"Wood St & Taylor St\" \"LaSalle St & Jackson Blvd\" \"McClurg Ct & Illinois St\" ...\n",
      " $ end_station_id    : num  56 59 174 133 129 426 500 499 211 211 ...\n",
      " $ end_station_name  : chr  \"Desplaines St & Kinzie St\" \"Wabash Ave & Roosevelt Rd\" \"Canal St & Madison St\" \"Kingsbury St & Kinzie St\" ...\n",
      " $ member_casual     : chr  \"Subscriber\" \"Subscriber\" \"Subscriber\" \"Subscriber\" ...\n"
     ]
    }
   ],
   "source": [
    "str(all_trips)"
   ]
  },
  {
   "cell_type": "code",
   "execution_count": 17,
   "id": "70de04c1",
   "metadata": {
    "scrolled": true
   },
   "outputs": [
    {
     "data": {
      "text/plain": [
       "   ride_id            started_at                     ended_at                  \n",
       " Length:3879822     Min.   :2019-04-01 00:02:22   Min.   :2019-04-01 00:09:48  \n",
       " Class :character   1st Qu.:2019-06-23 07:49:09   1st Qu.:2019-06-23 08:20:27  \n",
       " Mode  :character   Median :2019-08-14 17:43:38   Median :2019-08-14 18:02:04  \n",
       "                    Mean   :2019-08-26 00:49:59   Mean   :2019-08-26 01:14:37  \n",
       "                    3rd Qu.:2019-10-12 12:10:21   3rd Qu.:2019-10-12 12:36:16  \n",
       "                    Max.   :2020-03-31 23:51:34   Max.   :2020-05-19 20:10:34  \n",
       "                                                                               \n",
       " rideable_type      start_station_id start_station_name end_station_id \n",
       " Length:3879822     Min.   :  1.0    Length:3879822     Min.   :  1.0  \n",
       " Class :character   1st Qu.: 77.0    Class :character   1st Qu.: 77.0  \n",
       " Mode  :character   Median :174.0    Mode  :character   Median :174.0  \n",
       "                    Mean   :202.9                       Mean   :203.8  \n",
       "                    3rd Qu.:291.0                       3rd Qu.:291.0  \n",
       "                    Max.   :675.0                       Max.   :675.0  \n",
       "                                                        NA's   :1      \n",
       " end_station_name   member_casual     \n",
       " Length:3879822     Length:3879822    \n",
       " Class :character   Class :character  \n",
       " Mode  :character   Mode  :character  \n",
       "                                      \n",
       "                                      \n",
       "                                      \n",
       "                                      "
      ]
     },
     "metadata": {},
     "output_type": "display_data"
    }
   ],
   "source": [
    "summary(all_trips)"
   ]
  },
  {
   "cell_type": "markdown",
   "id": "3c819563",
   "metadata": {},
   "source": [
    "In the \"member_casual\" column, there are two names for members (\"member\" and \"Subscriber\") and two names for casual riders (\"Customer\" and \"casual\"). We will need to consolidate that from four to two labels.\n",
    "\n",
    "We can replace \"Subscriber\" with \"member\" and \"Customer\" with \"casual\" to make them consistent with the new format."
   ]
  },
  {
   "cell_type": "code",
   "execution_count": 18,
   "id": "23230ca3",
   "metadata": {},
   "outputs": [
    {
     "data": {
      "text/plain": [
       "\n",
       "    casual   Customer     member Subscriber \n",
       "     48480     857474     378407    2595461 "
      ]
     },
     "metadata": {},
     "output_type": "display_data"
    }
   ],
   "source": [
    "# Inspect total number of each category\n",
    "table(all_trips$member_casual)"
   ]
  },
  {
   "cell_type": "code",
   "execution_count": 19,
   "id": "aeb895a4",
   "metadata": {},
   "outputs": [],
   "source": [
    "# Reassign to the desired values to match with q1_2020\n",
    "all_trips <-  all_trips %>% \n",
    "mutate(member_casual = recode(member_casual\n",
    "                           ,\"Subscriber\" = \"member\"\n",
    "                           ,\"Customer\" = \"casual\"))"
   ]
  },
  {
   "cell_type": "code",
   "execution_count": 20,
   "id": "94b92d06",
   "metadata": {},
   "outputs": [
    {
     "data": {
      "text/plain": [
       "\n",
       " casual  member \n",
       " 905954 2973868 "
      ]
     },
     "metadata": {},
     "output_type": "display_data"
    }
   ],
   "source": [
    "# Check the result of data cleaning\n",
    "table(all_trips$member_casual)"
   ]
  },
  {
   "cell_type": "markdown",
   "id": "7c2972ca",
   "metadata": {},
   "source": [
    "**STEP 5: ADD DATA**\n",
    "\n",
    "To answer the first question, we need to aggregate the ride data for each month, day, or year."
   ]
  },
  {
   "cell_type": "code",
   "execution_count": 21,
   "id": "a1023b94",
   "metadata": {},
   "outputs": [],
   "source": [
    "# Add columns that list the date, month, day, and year of each ride\n",
    "all_trips$date <- as.Date(all_trips$started_at)\n",
    "all_trips$month <- format(as.Date(all_trips$date), \"%m\")\n",
    "all_trips$day <- format(as.Date(all_trips$date), \"%d\")\n",
    "all_trips$year <- format(as.Date(all_trips$date), \"%Y\")\n",
    "all_trips$day_of_week <- format(as.Date(all_trips$date), \"%A\")"
   ]
  },
  {
   "cell_type": "markdown",
   "id": "b258efd1",
   "metadata": {},
   "source": [
    "We don't have column that shows trip duration of each ride. But from the data, we can calculate the length of each ride by subtracting the column “started_at” from the column “ended_at” and named as “ride_length”."
   ]
  },
  {
   "cell_type": "code",
   "execution_count": 22,
   "id": "b5c4daa2",
   "metadata": {},
   "outputs": [],
   "source": [
    "# Create a column called “ride_length”\n",
    "all_trips$ride_length <- difftime(all_trips$ended_at,all_trips$started_at)"
   ]
  },
  {
   "cell_type": "code",
   "execution_count": 23,
   "id": "0427f054",
   "metadata": {
    "scrolled": false
   },
   "outputs": [
    {
     "name": "stdout",
     "output_type": "stream",
     "text": [
      "Classes 'spec_tbl_df', 'tbl_df', 'tbl' and 'data.frame':\t3879822 obs. of  15 variables:\n",
      " $ ride_id           : chr  \"22178529\" \"22178530\" \"22178531\" \"22178532\" ...\n",
      " $ started_at        : POSIXct, format: \"2019-04-01 00:02:22\" \"2019-04-01 00:03:02\" ...\n",
      " $ ended_at          : POSIXct, format: \"2019-04-01 00:09:48\" \"2019-04-01 00:20:30\" ...\n",
      " $ rideable_type     : chr  \"6251\" \"6226\" \"5649\" \"4151\" ...\n",
      " $ start_station_id  : num  81 317 283 26 202 420 503 260 211 211 ...\n",
      " $ start_station_name: chr  \"Daley Center Plaza\" \"Wood St & Taylor St\" \"LaSalle St & Jackson Blvd\" \"McClurg Ct & Illinois St\" ...\n",
      " $ end_station_id    : num  56 59 174 133 129 426 500 499 211 211 ...\n",
      " $ end_station_name  : chr  \"Desplaines St & Kinzie St\" \"Wabash Ave & Roosevelt Rd\" \"Canal St & Madison St\" \"Kingsbury St & Kinzie St\" ...\n",
      " $ member_casual     : chr  \"member\" \"member\" \"member\" \"member\" ...\n",
      " $ date              : Date, format: \"2019-04-01\" \"2019-04-01\" ...\n",
      " $ month             : chr  \"04\" \"04\" \"04\" \"04\" ...\n",
      " $ day               : chr  \"01\" \"01\" \"01\" \"01\" ...\n",
      " $ year              : chr  \"2019\" \"2019\" \"2019\" \"2019\" ...\n",
      " $ day_of_week       : chr  \"Monday\" \"Monday\" \"Monday\" \"Monday\" ...\n",
      " $ ride_length       : 'difftime' num  446 1048 252 357 ...\n",
      "  ..- attr(*, \"units\")= chr \"secs\"\n"
     ]
    }
   ],
   "source": [
    "# Inspect the structure of the columns\n",
    "str(all_trips)"
   ]
  },
  {
   "cell_type": "code",
   "execution_count": 24,
   "id": "5d66e506",
   "metadata": {},
   "outputs": [
    {
     "data": {
      "text/html": [
       "FALSE"
      ],
      "text/latex": [
       "FALSE"
      ],
      "text/markdown": [
       "FALSE"
      ],
      "text/plain": [
       "[1] FALSE"
      ]
     },
     "metadata": {},
     "output_type": "display_data"
    },
    {
     "data": {
      "text/html": [
       "TRUE"
      ],
      "text/latex": [
       "TRUE"
      ],
      "text/markdown": [
       "TRUE"
      ],
      "text/plain": [
       "[1] TRUE"
      ]
     },
     "metadata": {},
     "output_type": "display_data"
    }
   ],
   "source": [
    "# Convert \"ride_length\" from factor to numeric so we can run calculations on the data\n",
    "is.factor(all_trips$ride_length)\n",
    "all_trips$ride_length <- as.numeric(as.character(all_trips$ride_length))\n",
    "is.numeric(all_trips$ride_length)"
   ]
  },
  {
   "cell_type": "markdown",
   "id": "14326f8b",
   "metadata": {},
   "source": [
    "The dataframe includes a few hundred entries when bikes were taken out of docks and checked for quality by Divvy or ride_length was negative (due to start_at is greater than ended_at). We can use OR operator \"|\" and NOT operator \"!\" to remove those data. Then we will create a new version of the data frame (v2) since data is being removed."
   ]
  },
  {
   "cell_type": "code",
   "execution_count": 25,
   "id": "aded13bf",
   "metadata": {},
   "outputs": [],
   "source": [
    "# Remove \"bad\" data\n",
    "all_trips_v2 <- all_trips[!(all_trips$start_station_name == \"HQ QR\" | all_trips$ride_length<0),]"
   ]
  },
  {
   "cell_type": "code",
   "execution_count": 26,
   "id": "8084072d",
   "metadata": {},
   "outputs": [
    {
     "data": {
      "text/html": [
       "<table>\n",
       "<thead><tr><th scope=col>ride_id</th><th scope=col>started_at</th><th scope=col>ended_at</th><th scope=col>rideable_type</th><th scope=col>start_station_id</th><th scope=col>start_station_name</th><th scope=col>end_station_id</th><th scope=col>end_station_name</th><th scope=col>member_casual</th><th scope=col>date</th><th scope=col>month</th><th scope=col>day</th><th scope=col>year</th><th scope=col>day_of_week</th><th scope=col>ride_length</th></tr></thead>\n",
       "<tbody>\n",
       "\t<tr><td>22178529                                                         </td><td>2019-04-01 00:02:22                                              </td><td>2019-04-01 00:09:48                                              </td><td>6251                                                             </td><td> 81                                                              </td><td><span style=white-space:pre-wrap>Daley Center Plaza       </span></td><td> 56                                                              </td><td>Desplaines St &amp; Kinzie St                                    </td><td>member                                                           </td><td>2019-04-01                                                       </td><td>04                                                               </td><td>01                                                               </td><td>2019                                                             </td><td>Monday                                                           </td><td> 446                                                             </td></tr>\n",
       "\t<tr><td>22178530                                                             </td><td>2019-04-01 00:03:02                                                  </td><td>2019-04-01 00:20:30                                                  </td><td>6226                                                                 </td><td>317                                                                  </td><td><span style=white-space:pre-wrap>Wood St &amp; Taylor St      </span></td><td> 59                                                                  </td><td>Wabash Ave &amp; Roosevelt Rd                                        </td><td>member                                                               </td><td>2019-04-01                                                           </td><td>04                                                                   </td><td>01                                                                   </td><td>2019                                                                 </td><td>Monday                                                               </td><td>1048                                                                 </td></tr>\n",
       "\t<tr><td>22178531                                                             </td><td>2019-04-01 00:11:07                                                  </td><td>2019-04-01 00:15:19                                                  </td><td>5649                                                                 </td><td>283                                                                  </td><td>LaSalle St &amp; Jackson Blvd                                        </td><td>174                                                                  </td><td><span style=white-space:pre-wrap>Canal St &amp; Madison St    </span></td><td>member                                                               </td><td>2019-04-01                                                           </td><td>04                                                                   </td><td>01                                                                   </td><td>2019                                                                 </td><td>Monday                                                               </td><td> 252                                                                 </td></tr>\n",
       "\t<tr><td>22178532                     </td><td>2019-04-01 00:13:01          </td><td>2019-04-01 00:18:58          </td><td>4151                         </td><td> 26                          </td><td>McClurg Ct &amp; Illinois St </td><td>133                          </td><td>Kingsbury St &amp; Kinzie St </td><td>member                       </td><td>2019-04-01                   </td><td>04                           </td><td>01                           </td><td>2019                         </td><td>Monday                       </td><td> 357                         </td></tr>\n",
       "\t<tr><td>22178533                                                             </td><td>2019-04-01 00:19:26                                                  </td><td>2019-04-01 00:36:13                                                  </td><td>3270                                                                 </td><td>202                                                                  </td><td><span style=white-space:pre-wrap>Halsted St &amp; 18th St     </span></td><td>129                                                                  </td><td>Blue Island Ave &amp; 18th St                                        </td><td>member                                                               </td><td>2019-04-01                                                           </td><td>04                                                                   </td><td>01                                                                   </td><td>2019                                                                 </td><td>Monday                                                               </td><td>1007                                                                 </td></tr>\n",
       "\t<tr><td>22178534                                                             </td><td>2019-04-01 00:19:39                                                  </td><td>2019-04-01 00:23:56                                                  </td><td>3123                                                                 </td><td>420                                                                  </td><td><span style=white-space:pre-wrap>Ellis Ave &amp; 55th St      </span></td><td>426                                                                  </td><td><span style=white-space:pre-wrap>Ellis Ave &amp; 60th St      </span></td><td>member                                                               </td><td>2019-04-01                                                           </td><td>04                                                                   </td><td>01                                                                   </td><td>2019                                                                 </td><td>Monday                                                               </td><td> 257                                                                 </td></tr>\n",
       "</tbody>\n",
       "</table>\n"
      ],
      "text/latex": [
       "\\begin{tabular}{r|lllllllllllllll}\n",
       " ride\\_id & started\\_at & ended\\_at & rideable\\_type & start\\_station\\_id & start\\_station\\_name & end\\_station\\_id & end\\_station\\_name & member\\_casual & date & month & day & year & day\\_of\\_week & ride\\_length\\\\\n",
       "\\hline\n",
       "\t 22178529                    & 2019-04-01 00:02:22         & 2019-04-01 00:09:48         & 6251                        &  81                         & Daley Center Plaza          &  56                         & Desplaines St \\& Kinzie St & member                      & 2019-04-01                  & 04                          & 01                          & 2019                        & Monday                      &  446                       \\\\\n",
       "\t 22178530                    & 2019-04-01 00:03:02         & 2019-04-01 00:20:30         & 6226                        & 317                         & Wood St \\& Taylor St       &  59                         & Wabash Ave \\& Roosevelt Rd & member                      & 2019-04-01                  & 04                          & 01                          & 2019                        & Monday                      & 1048                       \\\\\n",
       "\t 22178531                    & 2019-04-01 00:11:07         & 2019-04-01 00:15:19         & 5649                        & 283                         & LaSalle St \\& Jackson Blvd & 174                         & Canal St \\& Madison St     & member                      & 2019-04-01                  & 04                          & 01                          & 2019                        & Monday                      &  252                       \\\\\n",
       "\t 22178532                    & 2019-04-01 00:13:01         & 2019-04-01 00:18:58         & 4151                        &  26                         & McClurg Ct \\& Illinois St  & 133                         & Kingsbury St \\& Kinzie St  & member                      & 2019-04-01                  & 04                          & 01                          & 2019                        & Monday                      &  357                       \\\\\n",
       "\t 22178533                    & 2019-04-01 00:19:26         & 2019-04-01 00:36:13         & 3270                        & 202                         & Halsted St \\& 18th St      & 129                         & Blue Island Ave \\& 18th St & member                      & 2019-04-01                  & 04                          & 01                          & 2019                        & Monday                      & 1007                       \\\\\n",
       "\t 22178534                    & 2019-04-01 00:19:39         & 2019-04-01 00:23:56         & 3123                        & 420                         & Ellis Ave \\& 55th St       & 426                         & Ellis Ave \\& 60th St       & member                      & 2019-04-01                  & 04                          & 01                          & 2019                        & Monday                      &  257                       \\\\\n",
       "\\end{tabular}\n"
      ],
      "text/markdown": [
       "\n",
       "| ride_id | started_at | ended_at | rideable_type | start_station_id | start_station_name | end_station_id | end_station_name | member_casual | date | month | day | year | day_of_week | ride_length |\n",
       "|---|---|---|---|---|---|---|---|---|---|---|---|---|---|---|\n",
       "| 22178529                  | 2019-04-01 00:02:22       | 2019-04-01 00:09:48       | 6251                      |  81                       | Daley Center Plaza        |  56                       | Desplaines St & Kinzie St | member                    | 2019-04-01                | 04                        | 01                        | 2019                      | Monday                    |  446                      |\n",
       "| 22178530                  | 2019-04-01 00:03:02       | 2019-04-01 00:20:30       | 6226                      | 317                       | Wood St & Taylor St       |  59                       | Wabash Ave & Roosevelt Rd | member                    | 2019-04-01                | 04                        | 01                        | 2019                      | Monday                    | 1048                      |\n",
       "| 22178531                  | 2019-04-01 00:11:07       | 2019-04-01 00:15:19       | 5649                      | 283                       | LaSalle St & Jackson Blvd | 174                       | Canal St & Madison St     | member                    | 2019-04-01                | 04                        | 01                        | 2019                      | Monday                    |  252                      |\n",
       "| 22178532                  | 2019-04-01 00:13:01       | 2019-04-01 00:18:58       | 4151                      |  26                       | McClurg Ct & Illinois St  | 133                       | Kingsbury St & Kinzie St  | member                    | 2019-04-01                | 04                        | 01                        | 2019                      | Monday                    |  357                      |\n",
       "| 22178533                  | 2019-04-01 00:19:26       | 2019-04-01 00:36:13       | 3270                      | 202                       | Halsted St & 18th St      | 129                       | Blue Island Ave & 18th St | member                    | 2019-04-01                | 04                        | 01                        | 2019                      | Monday                    | 1007                      |\n",
       "| 22178534                  | 2019-04-01 00:19:39       | 2019-04-01 00:23:56       | 3123                      | 420                       | Ellis Ave & 55th St       | 426                       | Ellis Ave & 60th St       | member                    | 2019-04-01                | 04                        | 01                        | 2019                      | Monday                    |  257                      |\n",
       "\n"
      ],
      "text/plain": [
       "  ride_id  started_at          ended_at            rideable_type\n",
       "1 22178529 2019-04-01 00:02:22 2019-04-01 00:09:48 6251         \n",
       "2 22178530 2019-04-01 00:03:02 2019-04-01 00:20:30 6226         \n",
       "3 22178531 2019-04-01 00:11:07 2019-04-01 00:15:19 5649         \n",
       "4 22178532 2019-04-01 00:13:01 2019-04-01 00:18:58 4151         \n",
       "5 22178533 2019-04-01 00:19:26 2019-04-01 00:36:13 3270         \n",
       "6 22178534 2019-04-01 00:19:39 2019-04-01 00:23:56 3123         \n",
       "  start_station_id start_station_name        end_station_id\n",
       "1  81              Daley Center Plaza         56           \n",
       "2 317              Wood St & Taylor St        59           \n",
       "3 283              LaSalle St & Jackson Blvd 174           \n",
       "4  26              McClurg Ct & Illinois St  133           \n",
       "5 202              Halsted St & 18th St      129           \n",
       "6 420              Ellis Ave & 55th St       426           \n",
       "  end_station_name          member_casual date       month day year day_of_week\n",
       "1 Desplaines St & Kinzie St member        2019-04-01 04    01  2019 Monday     \n",
       "2 Wabash Ave & Roosevelt Rd member        2019-04-01 04    01  2019 Monday     \n",
       "3 Canal St & Madison St     member        2019-04-01 04    01  2019 Monday     \n",
       "4 Kingsbury St & Kinzie St  member        2019-04-01 04    01  2019 Monday     \n",
       "5 Blue Island Ave & 18th St member        2019-04-01 04    01  2019 Monday     \n",
       "6 Ellis Ave & 60th St       member        2019-04-01 04    01  2019 Monday     \n",
       "  ride_length\n",
       "1  446       \n",
       "2 1048       \n",
       "3  252       \n",
       "4  357       \n",
       "5 1007       \n",
       "6  257       "
      ]
     },
     "metadata": {},
     "output_type": "display_data"
    }
   ],
   "source": [
    "head(all_trips_v2)"
   ]
  },
  {
   "cell_type": "markdown",
   "id": "1b08f6f0",
   "metadata": {},
   "source": [
    "**STEP 6: CONDUCT DESCRIPTIVE ANALYSIS**"
   ]
  },
  {
   "cell_type": "code",
   "execution_count": 27,
   "id": "6242901f",
   "metadata": {},
   "outputs": [
    {
     "data": {
      "text/plain": [
       "   Min. 1st Qu.  Median    Mean 3rd Qu.    Max. \n",
       "      1     412     712    1479    1289 9387024 "
      ]
     },
     "metadata": {},
     "output_type": "display_data"
    }
   ],
   "source": [
    "# Descriptive analysis on ride_length (note that all figures are in seconds)\n",
    "summary(all_trips_v2$ride_length)"
   ]
  },
  {
   "cell_type": "code",
   "execution_count": 28,
   "id": "f671aacc",
   "metadata": {},
   "outputs": [
    {
     "data": {
      "text/html": [
       "<table>\n",
       "<thead><tr><th scope=col>all_trips_v2$member_casual</th><th scope=col>all_trips_v2$ride_length</th></tr></thead>\n",
       "<tbody>\n",
       "\t<tr><td>casual   </td><td>3552.7502</td></tr>\n",
       "\t<tr><td>member   </td><td> 850.0662</td></tr>\n",
       "</tbody>\n",
       "</table>\n"
      ],
      "text/latex": [
       "\\begin{tabular}{r|ll}\n",
       " all\\_trips\\_v2\\$member\\_casual & all\\_trips\\_v2\\$ride\\_length\\\\\n",
       "\\hline\n",
       "\t casual    & 3552.7502\\\\\n",
       "\t member    &  850.0662\\\\\n",
       "\\end{tabular}\n"
      ],
      "text/markdown": [
       "\n",
       "| all_trips_v2$member_casual | all_trips_v2$ride_length |\n",
       "|---|---|\n",
       "| casual    | 3552.7502 |\n",
       "| member    |  850.0662 |\n",
       "\n"
      ],
      "text/plain": [
       "  all_trips_v2$member_casual all_trips_v2$ride_length\n",
       "1 casual                     3552.7502               \n",
       "2 member                      850.0662               "
      ]
     },
     "metadata": {},
     "output_type": "display_data"
    },
    {
     "data": {
      "text/html": [
       "<table>\n",
       "<thead><tr><th scope=col>all_trips_v2$member_casual</th><th scope=col>all_trips_v2$ride_length</th></tr></thead>\n",
       "<tbody>\n",
       "\t<tr><td>casual</td><td>1546  </td></tr>\n",
       "\t<tr><td>member</td><td> 589  </td></tr>\n",
       "</tbody>\n",
       "</table>\n"
      ],
      "text/latex": [
       "\\begin{tabular}{r|ll}\n",
       " all\\_trips\\_v2\\$member\\_casual & all\\_trips\\_v2\\$ride\\_length\\\\\n",
       "\\hline\n",
       "\t casual & 1546  \\\\\n",
       "\t member &  589  \\\\\n",
       "\\end{tabular}\n"
      ],
      "text/markdown": [
       "\n",
       "| all_trips_v2$member_casual | all_trips_v2$ride_length |\n",
       "|---|---|\n",
       "| casual | 1546   |\n",
       "| member |  589   |\n",
       "\n"
      ],
      "text/plain": [
       "  all_trips_v2$member_casual all_trips_v2$ride_length\n",
       "1 casual                     1546                    \n",
       "2 member                      589                    "
      ]
     },
     "metadata": {},
     "output_type": "display_data"
    },
    {
     "data": {
      "text/html": [
       "<table>\n",
       "<thead><tr><th scope=col>all_trips_v2$member_casual</th><th scope=col>all_trips_v2$ride_length</th></tr></thead>\n",
       "<tbody>\n",
       "\t<tr><td>casual </td><td>9387024</td></tr>\n",
       "\t<tr><td>member </td><td>9056634</td></tr>\n",
       "</tbody>\n",
       "</table>\n"
      ],
      "text/latex": [
       "\\begin{tabular}{r|ll}\n",
       " all\\_trips\\_v2\\$member\\_casual & all\\_trips\\_v2\\$ride\\_length\\\\\n",
       "\\hline\n",
       "\t casual  & 9387024\\\\\n",
       "\t member  & 9056634\\\\\n",
       "\\end{tabular}\n"
      ],
      "text/markdown": [
       "\n",
       "| all_trips_v2$member_casual | all_trips_v2$ride_length |\n",
       "|---|---|\n",
       "| casual  | 9387024 |\n",
       "| member  | 9056634 |\n",
       "\n"
      ],
      "text/plain": [
       "  all_trips_v2$member_casual all_trips_v2$ride_length\n",
       "1 casual                     9387024                 \n",
       "2 member                     9056634                 "
      ]
     },
     "metadata": {},
     "output_type": "display_data"
    },
    {
     "data": {
      "text/html": [
       "<table>\n",
       "<thead><tr><th scope=col>all_trips_v2$member_casual</th><th scope=col>all_trips_v2$ride_length</th></tr></thead>\n",
       "<tbody>\n",
       "\t<tr><td>casual</td><td>2     </td></tr>\n",
       "\t<tr><td>member</td><td>1     </td></tr>\n",
       "</tbody>\n",
       "</table>\n"
      ],
      "text/latex": [
       "\\begin{tabular}{r|ll}\n",
       " all\\_trips\\_v2\\$member\\_casual & all\\_trips\\_v2\\$ride\\_length\\\\\n",
       "\\hline\n",
       "\t casual & 2     \\\\\n",
       "\t member & 1     \\\\\n",
       "\\end{tabular}\n"
      ],
      "text/markdown": [
       "\n",
       "| all_trips_v2$member_casual | all_trips_v2$ride_length |\n",
       "|---|---|\n",
       "| casual | 2      |\n",
       "| member | 1      |\n",
       "\n"
      ],
      "text/plain": [
       "  all_trips_v2$member_casual all_trips_v2$ride_length\n",
       "1 casual                     2                       \n",
       "2 member                     1                       "
      ]
     },
     "metadata": {},
     "output_type": "display_data"
    }
   ],
   "source": [
    "# Compare members and casual users\n",
    "aggregate(all_trips_v2$ride_length ~ all_trips_v2$member_casual, FUN = mean)\n",
    "aggregate(all_trips_v2$ride_length ~ all_trips_v2$member_casual, FUN = median)\n",
    "aggregate(all_trips_v2$ride_length ~ all_trips_v2$member_casual, FUN = max)\n",
    "aggregate(all_trips_v2$ride_length ~ all_trips_v2$member_casual, FUN = min)"
   ]
  },
  {
   "cell_type": "code",
   "execution_count": 29,
   "id": "9e8337f5",
   "metadata": {},
   "outputs": [
    {
     "data": {
      "text/html": [
       "<table>\n",
       "<thead><tr><th scope=col>all_trips_v2$member_casual</th><th scope=col>all_trips_v2$day_of_week</th><th scope=col>all_trips_v2$ride_length</th></tr></thead>\n",
       "<tbody>\n",
       "\t<tr><td>casual   </td><td>Friday   </td><td>3773.8351</td></tr>\n",
       "\t<tr><td>member   </td><td>Friday   </td><td> 824.5305</td></tr>\n",
       "\t<tr><td>casual   </td><td>Monday   </td><td>3372.2869</td></tr>\n",
       "\t<tr><td>member   </td><td>Monday   </td><td> 842.5726</td></tr>\n",
       "\t<tr><td>casual   </td><td>Saturday </td><td>3331.9138</td></tr>\n",
       "\t<tr><td>member   </td><td>Saturday </td><td> 968.9337</td></tr>\n",
       "\t<tr><td>casual   </td><td>Sunday   </td><td>3581.4054</td></tr>\n",
       "\t<tr><td>member   </td><td>Sunday   </td><td> 919.9746</td></tr>\n",
       "\t<tr><td>casual   </td><td>Thursday </td><td>3682.9847</td></tr>\n",
       "\t<tr><td>member   </td><td>Thursday </td><td> 823.9278</td></tr>\n",
       "\t<tr><td>casual   </td><td>Tuesday  </td><td>3596.3599</td></tr>\n",
       "\t<tr><td>member   </td><td>Tuesday  </td><td> 826.1427</td></tr>\n",
       "\t<tr><td>casual   </td><td>Wednesday</td><td>3718.6619</td></tr>\n",
       "\t<tr><td>member   </td><td>Wednesday</td><td> 823.9996</td></tr>\n",
       "</tbody>\n",
       "</table>\n"
      ],
      "text/latex": [
       "\\begin{tabular}{r|lll}\n",
       " all\\_trips\\_v2\\$member\\_casual & all\\_trips\\_v2\\$day\\_of\\_week & all\\_trips\\_v2\\$ride\\_length\\\\\n",
       "\\hline\n",
       "\t casual    & Friday    & 3773.8351\\\\\n",
       "\t member    & Friday    &  824.5305\\\\\n",
       "\t casual    & Monday    & 3372.2869\\\\\n",
       "\t member    & Monday    &  842.5726\\\\\n",
       "\t casual    & Saturday  & 3331.9138\\\\\n",
       "\t member    & Saturday  &  968.9337\\\\\n",
       "\t casual    & Sunday    & 3581.4054\\\\\n",
       "\t member    & Sunday    &  919.9746\\\\\n",
       "\t casual    & Thursday  & 3682.9847\\\\\n",
       "\t member    & Thursday  &  823.9278\\\\\n",
       "\t casual    & Tuesday   & 3596.3599\\\\\n",
       "\t member    & Tuesday   &  826.1427\\\\\n",
       "\t casual    & Wednesday & 3718.6619\\\\\n",
       "\t member    & Wednesday &  823.9996\\\\\n",
       "\\end{tabular}\n"
      ],
      "text/markdown": [
       "\n",
       "| all_trips_v2$member_casual | all_trips_v2$day_of_week | all_trips_v2$ride_length |\n",
       "|---|---|---|\n",
       "| casual    | Friday    | 3773.8351 |\n",
       "| member    | Friday    |  824.5305 |\n",
       "| casual    | Monday    | 3372.2869 |\n",
       "| member    | Monday    |  842.5726 |\n",
       "| casual    | Saturday  | 3331.9138 |\n",
       "| member    | Saturday  |  968.9337 |\n",
       "| casual    | Sunday    | 3581.4054 |\n",
       "| member    | Sunday    |  919.9746 |\n",
       "| casual    | Thursday  | 3682.9847 |\n",
       "| member    | Thursday  |  823.9278 |\n",
       "| casual    | Tuesday   | 3596.3599 |\n",
       "| member    | Tuesday   |  826.1427 |\n",
       "| casual    | Wednesday | 3718.6619 |\n",
       "| member    | Wednesday |  823.9996 |\n",
       "\n"
      ],
      "text/plain": [
       "   all_trips_v2$member_casual all_trips_v2$day_of_week all_trips_v2$ride_length\n",
       "1  casual                     Friday                   3773.8351               \n",
       "2  member                     Friday                    824.5305               \n",
       "3  casual                     Monday                   3372.2869               \n",
       "4  member                     Monday                    842.5726               \n",
       "5  casual                     Saturday                 3331.9138               \n",
       "6  member                     Saturday                  968.9337               \n",
       "7  casual                     Sunday                   3581.4054               \n",
       "8  member                     Sunday                    919.9746               \n",
       "9  casual                     Thursday                 3682.9847               \n",
       "10 member                     Thursday                  823.9278               \n",
       "11 casual                     Tuesday                  3596.3599               \n",
       "12 member                     Tuesday                   826.1427               \n",
       "13 casual                     Wednesday                3718.6619               \n",
       "14 member                     Wednesday                 823.9996               "
      ]
     },
     "metadata": {},
     "output_type": "display_data"
    }
   ],
   "source": [
    "# Aggregate the average ride time by each day for members vs casual users\n",
    "aggregate(all_trips_v2$ride_length ~ all_trips_v2$member_casual + all_trips_v2$day_of_week, FUN = mean)"
   ]
  },
  {
   "cell_type": "code",
   "execution_count": 30,
   "id": "07ef4da0",
   "metadata": {},
   "outputs": [],
   "source": [
    "# Sort \"day_of_week\" start from Sunday\n",
    "all_trips_v2$day_of_week <- ordered(all_trips_v2$day_of_week,\n",
    "                                    levels=c(\"Sunday\", \"Monday\", \"Tuesday\",\n",
    "                                             \"Wednesday\", \"Thursday\", \"Friday\", \"Saturday\"))"
   ]
  },
  {
   "cell_type": "code",
   "execution_count": 31,
   "id": "16e9c003",
   "metadata": {},
   "outputs": [
    {
     "data": {
      "text/html": [
       "<table>\n",
       "<thead><tr><th scope=col>all_trips_v2$member_casual</th><th scope=col>all_trips_v2$day_of_week</th><th scope=col>all_trips_v2$ride_length</th></tr></thead>\n",
       "<tbody>\n",
       "\t<tr><td>casual   </td><td>Sunday   </td><td>3581.4054</td></tr>\n",
       "\t<tr><td>member   </td><td>Sunday   </td><td> 919.9746</td></tr>\n",
       "\t<tr><td>casual   </td><td>Monday   </td><td>3372.2869</td></tr>\n",
       "\t<tr><td>member   </td><td>Monday   </td><td> 842.5726</td></tr>\n",
       "\t<tr><td>casual   </td><td>Tuesday  </td><td>3596.3599</td></tr>\n",
       "\t<tr><td>member   </td><td>Tuesday  </td><td> 826.1427</td></tr>\n",
       "\t<tr><td>casual   </td><td>Wednesday</td><td>3718.6619</td></tr>\n",
       "\t<tr><td>member   </td><td>Wednesday</td><td> 823.9996</td></tr>\n",
       "\t<tr><td>casual   </td><td>Thursday </td><td>3682.9847</td></tr>\n",
       "\t<tr><td>member   </td><td>Thursday </td><td> 823.9278</td></tr>\n",
       "\t<tr><td>casual   </td><td>Friday   </td><td>3773.8351</td></tr>\n",
       "\t<tr><td>member   </td><td>Friday   </td><td> 824.5305</td></tr>\n",
       "\t<tr><td>casual   </td><td>Saturday </td><td>3331.9138</td></tr>\n",
       "\t<tr><td>member   </td><td>Saturday </td><td> 968.9337</td></tr>\n",
       "</tbody>\n",
       "</table>\n"
      ],
      "text/latex": [
       "\\begin{tabular}{r|lll}\n",
       " all\\_trips\\_v2\\$member\\_casual & all\\_trips\\_v2\\$day\\_of\\_week & all\\_trips\\_v2\\$ride\\_length\\\\\n",
       "\\hline\n",
       "\t casual    & Sunday    & 3581.4054\\\\\n",
       "\t member    & Sunday    &  919.9746\\\\\n",
       "\t casual    & Monday    & 3372.2869\\\\\n",
       "\t member    & Monday    &  842.5726\\\\\n",
       "\t casual    & Tuesday   & 3596.3599\\\\\n",
       "\t member    & Tuesday   &  826.1427\\\\\n",
       "\t casual    & Wednesday & 3718.6619\\\\\n",
       "\t member    & Wednesday &  823.9996\\\\\n",
       "\t casual    & Thursday  & 3682.9847\\\\\n",
       "\t member    & Thursday  &  823.9278\\\\\n",
       "\t casual    & Friday    & 3773.8351\\\\\n",
       "\t member    & Friday    &  824.5305\\\\\n",
       "\t casual    & Saturday  & 3331.9138\\\\\n",
       "\t member    & Saturday  &  968.9337\\\\\n",
       "\\end{tabular}\n"
      ],
      "text/markdown": [
       "\n",
       "| all_trips_v2$member_casual | all_trips_v2$day_of_week | all_trips_v2$ride_length |\n",
       "|---|---|---|\n",
       "| casual    | Sunday    | 3581.4054 |\n",
       "| member    | Sunday    |  919.9746 |\n",
       "| casual    | Monday    | 3372.2869 |\n",
       "| member    | Monday    |  842.5726 |\n",
       "| casual    | Tuesday   | 3596.3599 |\n",
       "| member    | Tuesday   |  826.1427 |\n",
       "| casual    | Wednesday | 3718.6619 |\n",
       "| member    | Wednesday |  823.9996 |\n",
       "| casual    | Thursday  | 3682.9847 |\n",
       "| member    | Thursday  |  823.9278 |\n",
       "| casual    | Friday    | 3773.8351 |\n",
       "| member    | Friday    |  824.5305 |\n",
       "| casual    | Saturday  | 3331.9138 |\n",
       "| member    | Saturday  |  968.9337 |\n",
       "\n"
      ],
      "text/plain": [
       "   all_trips_v2$member_casual all_trips_v2$day_of_week all_trips_v2$ride_length\n",
       "1  casual                     Sunday                   3581.4054               \n",
       "2  member                     Sunday                    919.9746               \n",
       "3  casual                     Monday                   3372.2869               \n",
       "4  member                     Monday                    842.5726               \n",
       "5  casual                     Tuesday                  3596.3599               \n",
       "6  member                     Tuesday                   826.1427               \n",
       "7  casual                     Wednesday                3718.6619               \n",
       "8  member                     Wednesday                 823.9996               \n",
       "9  casual                     Thursday                 3682.9847               \n",
       "10 member                     Thursday                  823.9278               \n",
       "11 casual                     Friday                   3773.8351               \n",
       "12 member                     Friday                    824.5305               \n",
       "13 casual                     Saturday                 3331.9138               \n",
       "14 member                     Saturday                  968.9337               "
      ]
     },
     "metadata": {},
     "output_type": "display_data"
    }
   ],
   "source": [
    "# Check the result\n",
    "aggregate(all_trips_v2$ride_length ~ all_trips_v2$member_casual + all_trips_v2$day_of_week, FUN = mean)"
   ]
  },
  {
   "cell_type": "code",
   "execution_count": 32,
   "id": "0fe76eab",
   "metadata": {},
   "outputs": [
    {
     "data": {
      "text/html": [
       "<table>\n",
       "<thead><tr><th scope=col>member_casual</th><th scope=col>weekday</th><th scope=col>number_of_rides</th><th scope=col>average_duration</th></tr></thead>\n",
       "<tbody>\n",
       "\t<tr><td>casual   </td><td>Sun      </td><td>181293   </td><td>3581.4054</td></tr>\n",
       "\t<tr><td>casual   </td><td>Mon      </td><td>103296   </td><td>3372.2869</td></tr>\n",
       "\t<tr><td>casual   </td><td>Tue      </td><td> 90510   </td><td>3596.3599</td></tr>\n",
       "\t<tr><td>casual   </td><td>Wed      </td><td> 92457   </td><td>3718.6619</td></tr>\n",
       "\t<tr><td>casual   </td><td>Thu      </td><td>102679   </td><td>3682.9847</td></tr>\n",
       "\t<tr><td>casual   </td><td>Fri      </td><td>122404   </td><td>3773.8351</td></tr>\n",
       "\t<tr><td>casual   </td><td>Sat      </td><td>209543   </td><td>3331.9138</td></tr>\n",
       "\t<tr><td>member   </td><td>Sun      </td><td>267965   </td><td> 919.9746</td></tr>\n",
       "\t<tr><td>member   </td><td>Mon      </td><td>472196   </td><td> 842.5726</td></tr>\n",
       "\t<tr><td>member   </td><td>Tue      </td><td>508445   </td><td> 826.1427</td></tr>\n",
       "\t<tr><td>member   </td><td>Wed      </td><td>500329   </td><td> 823.9996</td></tr>\n",
       "\t<tr><td>member   </td><td>Thu      </td><td>484177   </td><td> 823.9278</td></tr>\n",
       "\t<tr><td>member   </td><td>Fri      </td><td>452790   </td><td> 824.5305</td></tr>\n",
       "\t<tr><td>member   </td><td>Sat      </td><td>287958   </td><td> 968.9337</td></tr>\n",
       "</tbody>\n",
       "</table>\n"
      ],
      "text/latex": [
       "\\begin{tabular}{r|llll}\n",
       " member\\_casual & weekday & number\\_of\\_rides & average\\_duration\\\\\n",
       "\\hline\n",
       "\t casual    & Sun       & 181293    & 3581.4054\\\\\n",
       "\t casual    & Mon       & 103296    & 3372.2869\\\\\n",
       "\t casual    & Tue       &  90510    & 3596.3599\\\\\n",
       "\t casual    & Wed       &  92457    & 3718.6619\\\\\n",
       "\t casual    & Thu       & 102679    & 3682.9847\\\\\n",
       "\t casual    & Fri       & 122404    & 3773.8351\\\\\n",
       "\t casual    & Sat       & 209543    & 3331.9138\\\\\n",
       "\t member    & Sun       & 267965    &  919.9746\\\\\n",
       "\t member    & Mon       & 472196    &  842.5726\\\\\n",
       "\t member    & Tue       & 508445    &  826.1427\\\\\n",
       "\t member    & Wed       & 500329    &  823.9996\\\\\n",
       "\t member    & Thu       & 484177    &  823.9278\\\\\n",
       "\t member    & Fri       & 452790    &  824.5305\\\\\n",
       "\t member    & Sat       & 287958    &  968.9337\\\\\n",
       "\\end{tabular}\n"
      ],
      "text/markdown": [
       "\n",
       "| member_casual | weekday | number_of_rides | average_duration |\n",
       "|---|---|---|---|\n",
       "| casual    | Sun       | 181293    | 3581.4054 |\n",
       "| casual    | Mon       | 103296    | 3372.2869 |\n",
       "| casual    | Tue       |  90510    | 3596.3599 |\n",
       "| casual    | Wed       |  92457    | 3718.6619 |\n",
       "| casual    | Thu       | 102679    | 3682.9847 |\n",
       "| casual    | Fri       | 122404    | 3773.8351 |\n",
       "| casual    | Sat       | 209543    | 3331.9138 |\n",
       "| member    | Sun       | 267965    |  919.9746 |\n",
       "| member    | Mon       | 472196    |  842.5726 |\n",
       "| member    | Tue       | 508445    |  826.1427 |\n",
       "| member    | Wed       | 500329    |  823.9996 |\n",
       "| member    | Thu       | 484177    |  823.9278 |\n",
       "| member    | Fri       | 452790    |  824.5305 |\n",
       "| member    | Sat       | 287958    |  968.9337 |\n",
       "\n"
      ],
      "text/plain": [
       "   member_casual weekday number_of_rides average_duration\n",
       "1  casual        Sun     181293          3581.4054       \n",
       "2  casual        Mon     103296          3372.2869       \n",
       "3  casual        Tue      90510          3596.3599       \n",
       "4  casual        Wed      92457          3718.6619       \n",
       "5  casual        Thu     102679          3682.9847       \n",
       "6  casual        Fri     122404          3773.8351       \n",
       "7  casual        Sat     209543          3331.9138       \n",
       "8  member        Sun     267965           919.9746       \n",
       "9  member        Mon     472196           842.5726       \n",
       "10 member        Tue     508445           826.1427       \n",
       "11 member        Wed     500329           823.9996       \n",
       "12 member        Thu     484177           823.9278       \n",
       "13 member        Fri     452790           824.5305       \n",
       "14 member        Sat     287958           968.9337       "
      ]
     },
     "metadata": {},
     "output_type": "display_data"
    }
   ],
   "source": [
    "# Analyze ridership data by type and weekday\n",
    "all_trips_v2 %>% \n",
    "mutate(weekday = wday(started_at, label = TRUE)) %>% \n",
    "group_by(member_casual, weekday) %>%\n",
    "summarise(number_of_rides = n(),\n",
    "          average_duration = mean(ride_length)) %>%\n",
    "arrange(member_casual, weekday)"
   ]
  },
  {
   "cell_type": "code",
   "execution_count": 33,
   "id": "70f10bbd",
   "metadata": {
    "scrolled": true
   },
   "outputs": [
    {
     "data": {
      "image/png": "[encoded data removed]",
      "text/plain": [
       "plot without title"
      ]
     },
     "metadata": {},
     "output_type": "display_data"
    }
   ],
   "source": [
    "# Visualize the number of rides by rider type\n",
    "options(repr.plot.width = 6, repr.plot.height = 5)\n",
    "all_trips_v2 %>% \n",
    "mutate(weekday = wday(started_at, label = TRUE)) %>% \n",
    "group_by(member_casual, weekday) %>% \n",
    "summarise(number_of_rides = n(),\n",
    "          average_duration = mean(ride_length)) %>% \n",
    "arrange(member_casual, weekday)  %>% \n",
    "ggplot(aes(x = weekday, y = number_of_rides, fill = member_casual)) +\n",
    "scale_y_continuous(labels = function(y) format(y, scientific = FALSE)) +\n",
    "geom_col(position = \"dodge\") +\n",
    "labs(title=\"Number of Rides by Rider Type\", y = \"Number of Rides\") +\n",
    "scale_fill_discrete(name = \"Pricing Plans\") +\n",
    "theme(plot.title=element_text(hjust=0.5, size=13),\n",
    "      axis.title.x = element_blank())"
   ]
  },
  {
   "cell_type": "code",
   "execution_count": 34,
   "id": "ab0cdfc0",
   "metadata": {
    "scrolled": true
   },
   "outputs": [
    {
     "data": {
      "image/png": "[encoded data removed]",
      "text/plain": [
       "plot without title"
      ]
     },
     "metadata": {},
     "output_type": "display_data"
    }
   ],
   "source": [
    "# Create a visualization for average duration\n",
    "all_trips_v2 %>% \n",
    "mutate(weekday = wday(started_at, label = TRUE)) %>% \n",
    "group_by(member_casual, weekday) %>% \n",
    "summarise(number_of_rides = n(),\n",
    "          average_duration = mean(ride_length)) %>% \n",
    "arrange(member_casual, weekday)  %>% \n",
    "ggplot(aes(x = weekday, y = average_duration, fill = member_casual)) +\n",
    "geom_col(position = \"dodge\") +\n",
    "labs(title=\"Average Duration by Rider Type\", y = \"Average Duration (in seconds)\") +\n",
    "scale_fill_discrete(name = \"Pricing Plans\") +\n",
    "theme(plot.title=element_text(hjust=0.5, size=13),\n",
    "      axis.title.x = element_blank())"
   ]
  },
  {
   "cell_type": "markdown",
   "id": "f605a323",
   "metadata": {},
   "source": [
    "**STEP 7: EXPORT SUMMARY FILE**"
   ]
  },
  {
   "cell_type": "code",
   "execution_count": 35,
   "id": "bed6a902",
   "metadata": {},
   "outputs": [],
   "source": [
    "# Create a csv file that we will visualize in Excel, Tableau, or presentation software\n",
    "counts <- aggregate(all_trips_v2$ride_length ~ all_trips_v2$member_casual + all_trips_v2$day_of_week, FUN = mean)\n",
    "write.csv(counts, file = 'C:/Users/jundi/Desktop/csv_1/avg_ride_length.csv')"
   ]
  }
 ],
 "metadata": {
  "kernelspec": {
   "display_name": "R",
   "language": "R",
   "name": "ir"
  },
  "language_info": {
   "codemirror_mode": "r",
   "file_extension": ".r",
   "mimetype": "text/x-r-source",
   "name": "R",
   "pygments_lexer": "r",
   "version": "3.6.1"
  }
 },
 "nbformat": 4,
 "nbformat_minor": 5
}
